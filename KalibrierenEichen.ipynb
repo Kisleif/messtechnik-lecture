{
 "cells": [
  {
   "cell_type": "markdown",
   "metadata": {},
   "source": [
    "---\n",
    "Zurück zur Übersicht | [Inhalt](00_Inhalt.ipynb)\n",
    "\n",
    "---"
   ]
  },
  {
   "cell_type": "markdown",
   "metadata": {},
   "source": [
    "# Grundlagen"
   ]
  },
  {
   "cell_type": "markdown",
   "metadata": {},
   "source": [
    "## Kalibrieren und Eichen"
   ]
  },
  {
   "cell_type": "markdown",
   "metadata": {},
   "source": [
    "<div>\n",
    "<img src=\"pictures/normale.png\" width=\"800\"/>\n",
    "</div>"
   ]
  },
  {
   "cell_type": "markdown",
   "metadata": {},
   "source": [
    "<div>\n",
    "<img src=\"pictures/kalibrieren.png\" width=\"800\"/>\n",
    "</div>"
   ]
  },
  {
   "cell_type": "markdown",
   "metadata": {},
   "source": [
    "- Tätigkeit des Messens im Prinzip ein Vergleichen\n",
    "- Umgangssprachlich wird mitunter statt „messen“ „prüfen“ verwendet: nicht korrekt.\n",
    "    - „prüfen“ ob ein Prüfgegenstand bestimmte Vorgaben erfüllt: diese sind als Prüfbedingungen in angemessener Form spezifiziert\n",
    "    - beispielsweise Prüfungen zur Elektromagnetischen Verträglichkeit (EMV), die in entsprechenden technischen Normen niedergelegt sind. Normen beinhalten u. a. konkrete Vorgaben für Messaufbauten zur Messung elektromagnetischer Störemissionen bei verschiedenen Gerätearten sowie Grenzkurven zur Analyse der Messergebnisse. \n",
    "    - Um Gerät auf Einhaltung einer Norm zu prüfen, müssen Vorgaben eingehalten und spezifizierten Messungen durchgeführt sowie ausgewertet werden. Prüfen beinhaltet also deutlich mehr als einmal eine Messgröße zu messen\n",
    "- messtechnische Systeme haben Möglichkeiten, die werksseitig im Rahmen des Herstellprozesses erzielbare Messgenauigkeit nachträglich zu erhöhen: KALIBRIERUNG\n",
    "    - gezieltes Anschalten bekannter Referenzgrößen an den Messeingang anstelle der im eigentlichen Betrieb zu messenden Messgröße: Messsystem so eingestellen, dass der ermittelte Messwert der Messgröße möglichst gut entspricht\n",
    "    - Durch Vergleichen des mit einer Messeinrichtung gewonnenen Ergebnisses mit einem Wert, der als richtiger Wert bekannt ist, wird die Messeinrichtung kalibriert. \n",
    "- JUSTIERUNG: Wird durch den Vergleich (die Kalibrierung) eine systematische Abweichung ermittelt, dann kann diese beseitigt werden. \n",
    "- PRÜFEN: Wird eine Messeinrichtung kalibriert und anschließend beurteilt, ob gegebenenfalls auftretende Abweichungen innerhalb oder außerhalb vorgegebener Fehlergrenzen liegen\n",
    "- EICHEN: Prüfung und Stempelung eines Messsystems nach gesetzlichen Eichvorschriften\n",
    "    - Messsysteme, die im gewerblichen Verkehr bzw. Handel verwendet werden: wenn Käufer geschäftlich eine Ware erwirbt, die z.B. bzgl. ihres Volumens oder Gewichts durch den Verkäufer abgemessen werden muss darf die zugehörige Messung nur durch ein geeichtes Messsystem durchgeführt werden. Verbraucher ist im Supermarkt eine Sicherheit gegeben, dass die zur Wägung von Obst zu verwendende Waage auch innerhalb gewisser Grenzen genau arbeitet\n",
    "    - Eichen ist hoheitlicher Akt eines Staates, nur durch entsprechend hierfür durch den Staat autorisierte Stellen (in Deutschland Eichämter )\n",
    "    - KAlibrierung: freiwillig\n",
    "    - Für viele Geräte: gesetzliche Pflicht, dass sie regelmäßig geprüft wer-den, wie z. B. bei Tankzapfsäulen und bei Waagen.\n",
    "    - Messsysteme mit Eichpflicht: bereits während Entwicklungsphase staatlicherseits bezüglich ihrer Bauart abgenommen werden -> von vornherein gewisse Genauigkeit und möglichst hohe Manipulationssicherheit sicherzustellen. Innenleben des Gerätes. PTB\n",
    "\n",
    "\n",
    "- Normale, auch Normalien bzw. franz.: Etalons genannt, stellen handhabbare Maßverkörperungen dar, sind von den Basisgrößen abzuleiten. \n",
    "- Basiseinheiten und damit die von ihnen abgeleiteten Einheiten über atomare Konstanten definiert. \n",
    "- Auf diese Weise sind aber keine in der betrieblichen Praxis effektiv verwendbare Maßverkörperungen realisierbar. \n",
    "- im BIPM (Internationales Büro für Maß und Gewicht) praktisch anwendbare Primärnormale unmittelbar von den Basisgrößen abgeleitet, ständige Überwachung abgesichert. Für fast jede Messgröße existieren solche Primärnormale, z. B. in der Elektrotechnik für die Einheiten Ohm, Volt, Henry, Farad usw.\n",
    "- Die Unterzeichnerstaaten der Generalkonferenz für Maß und Gewicht erhalten auf Anforderung zur nationalen Verwendung jeweils ein solches Primärnormal, von denen dann Sekundärnormale abzuleiten sind, die zur Eichung von betrieblichen Referenz- und Arbeitsnormalen in zugelassenen Eichlaboren benutzt werden. F\n",
    "- Firmen verwenden dann schließlich Arbeitsnormale zur Kalibrierung ihrer betrieblichen Messmittel.\n",
    "- In der Bundesrepublik Deutschland ist die Physikalisch-Technische Bundesanstalt (PTB) Braunschweig und Berlin für die Überwachung der Forderungen des SI zuständig. Die PTB ist ein natur- und ingenieurwissenschaftliches Staatsinstitut und die technische Oberbehörde für das Messwesen und für die physikalische Sicherheitstechnik in Deutschland."
   ]
  },
  {
   "cell_type": "code",
   "execution_count": null,
   "metadata": {},
   "outputs": [],
   "source": []
  }
 ],
 "metadata": {
  "kernelspec": {
   "display_name": "Python 3",
   "language": "python",
   "name": "python3"
  },
  "language_info": {
   "codemirror_mode": {
    "name": "ipython",
    "version": 3
   },
   "file_extension": ".py",
   "mimetype": "text/x-python",
   "name": "python",
   "nbconvert_exporter": "python",
   "pygments_lexer": "ipython3",
   "version": "3.8.5"
  }
 },
 "nbformat": 4,
 "nbformat_minor": 4
}
