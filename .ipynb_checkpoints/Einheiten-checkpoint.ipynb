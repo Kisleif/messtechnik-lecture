{
 "cells": [
  {
   "cell_type": "markdown",
   "metadata": {},
   "source": [
    "---\n",
    "Zurück zur Übersicht | [Inhalt](00_Inhalt.ipynb)\n",
    "\n",
    "---"
   ]
  },
  {
   "cell_type": "markdown",
   "metadata": {},
   "source": [
    "# Grundlagen"
   ]
  },
  {
   "cell_type": "markdown",
   "metadata": {},
   "source": [
    "## Historie der Einheiten\n",
    "\n",
    "<div>\n",
    "<img src=\"pictures/meter.png\" width=\"350\" align = \"right\"/>\n",
    "</div>\n",
    "\n",
    "Aufgrund der im vorherigen Kapitel erläuterten regionalen Unterschiede, beschloss 1790 die französische Nationalversammlung im Geiste der französischen Revolution und unter dem Motto „À tous les temps, à tous les peup- les“ (Für alle Zeiten, für alle Völker) die Schaffung eines neuen Einheitensystems. \n",
    "Der erste Antrag wurde am 07. Oktober für die Maßeinheit Meter gestellt. Ein Meter sollte als der zehnmillionste Teil des Erdmeridianquadranten definiert sein. Die Gelehrtenkommission (Borda, Condorcet, Lagrange, Laplace und Monge) hat zwei Maßeinheiten wiefolgt definiert: \n",
    "* Der Meter als universelle Maßeinheit der Länge sollte den zehnmillionsten Teil der Entfernung vom Nordpol zum Äquator über Paris betragen; \n",
    "* das Kilogramm als universelle Maßeinheit der Masse sollte der Masse eines Kubikdezimeters Wasser entsprechen.\n",
    "\n",
    "1799 wurde das Naturmaß Meter wieder durch ein Kunstmaß ersetzt, da die Meterfestlegung mit der Erde als Referenz, messtechnisch nur sehr aufwendig zu wiederholen ist:\n",
    "* Man fertigte einen Maßstab aus Platin an, der als Urmeterstab in Paris aufbewahrt wurde\n",
    "* 1889 wurde der Platinstab durch einen Platin-Iridium-Körper mit X-förmigem Querschnitt ersetzt (90% Platin und 10% Iridium). Auf diesem wurden 2 Mittelstriche markiert, welche den Meter angeben. Bei Temperaturverändungern von 0°C auf 20°C verlängert sich das \"Meter\" um 0,3 mm,  wobei die Ablesegenauigkeit hierbei 0,01 mm betrug."
   ]
  },
  {
   "cell_type": "markdown",
   "metadata": {},
   "source": [
    "## Das International Einheitensystem\n",
    "\n",
    "<div>\n",
    "<img src=\"pictures/SI.png\" width=\"300\" align = \"right\"/>\n",
    "</div>\n",
    "\n",
    "Im Rahmen der Meterkonvention im Jahr 1960 wurde das Internationale Einheitensystem, kurz SI, benannt nach „le Système Internationale d’unités“, eingeführt. Die Definitionen der Basiseinheiten basierten nach wie vor teilweise auf materiellen Prototypen (bis 2019 war dies tatsächlich beim Kilogramm der Fall). Das SI basiert auf der Idee, dass sich im Prinzip alle relevanten Messgrößen über physikalische Gesetze auf genau 7 Basisgrößen zurückführen lassen. Diese 7 Basisgrößen sind die Basiseinheiten, aus denen alle weiteren Einheiten abgeleitet werden können:\n",
    "* Meter (m) als Einheit für die Länge\n",
    "* Kilogramm (kg) als Einheit für die Masse\n",
    "* Sekunde (s) als Einheit für die Zeit\n",
    "* Ampere (A) als Einheit für die elektrische Stromstärke\n",
    "* Kelvin (K) als Einheit für die thermodynamische Temperatur\n",
    "* Candela (Cd) als Einheit für die Lichtstärke und \n",
    "* Mol (mol) als Einheit für die Stoffmenge\n",
    "\n",
    "Das SI ist ein metrisches Einheitensystem (d. h., eine Basiseinheit ist der Meter), es ist dezimal (d. h., die verschiedenen Einheiten, mit denen man eine Größe angeben kann, unterscheiden sich nur um ganze Zehnerpotenzen) und es ist ein kohärentes Einheitensystem.\n",
    "\n",
    "Mit Ausnahme des Kilogramms wurden bis vor Kurzem alle Basiseinheiten über reproduzierbare Experimente eindeutig festgelegt. Die Sekunde ist zum Beispiel darüber definiert, als das sie das 9192631770-fache der Periodendauer einer bestimmten Strahlung ist, nämlich der des Übergangs zwischen den beiden Hyperfeinstrukturniveaus des Grundzustands von Atomen des Nuklids 133-Cäsium. Im Prinzip könnte sich also jeder das Element Cäsium besorgen, eine Atomuhr betreiben, und somit seine Sekunde zuhause definieren. Oder man spart sich die Arbeit und sucht eine der Kalibrierbehörden auf. \n",
    "1983 wird die Länge eines Meters als \"jene Wegstrecke, die das Licht im Vakuum während der Dauer von 1/299792458-tel einer Sekunde zurücklegt\", festgelegt. Somit war das Meter die erste Einheit, welche durch eine Naturkonstanten, nämlich die Lichtgeschwindigkeit c = 299792458 m/s definiert, bzw. festgelegt wurde. Andere Einheiten waren in der Praxis schwieriger umzusetzen, wie z.B. das Ampere. Für die Definition eines Amperes wurde die Kraft zwischen 2 stromdurchflossenen Leitern gemessen, was extrem unpraktisch ist. \n",
    "Eine große Ausnahme ist und blieb das Ur-Kilo, welches als Prototyp von 1889-2018 in Paris als internationale Referenz sicher (bzw. vermeintlich sicher) aufbewahrt wurde. "
   ]
  },
  {
   "cell_type": "markdown",
   "metadata": {},
   "source": [
    "Das Ur-Kilo war bisher:\n",
    "* ein 3,9 cm hoher und 3,9 cm dicker Metallzylinder, der zu 90% aus Platin und zu 10% aus Iridium besteht\n",
    "* Seit 1889 ist dieser \"Block\" das Referenznormal für Kilogramm\n",
    "* es wird unter drei Glasglocken in einem Tresor des \"Internationalen Büros für Maß und Gewicht\" (BIPM) in Paris aufbewahrt\n",
    "* keine Lösung für die Ewigkeit, denn - keiner weiß warum - aber das Ur-Kilo wird immer leichter\n",
    "* 50 Mikrogramm hat es in den letzten 129 Jahren im Vergleich zu seinen 70 offiziellen Kopien weltweit verloren\n",
    "\n",
    "Das klingt erstmal nicht viel, wird aber in unserer Hightech-Welt, in der schon in Nanometern (Millionstel Millimeter) oder Femtosekunden (Millionstel einer Milliardstel Sekunde) gemessen wird, mehr und mehr zum Problem."
   ]
  },
  {
   "cell_type": "markdown",
   "metadata": {},
   "source": [
    "<div>\n",
    "<img src=\"pictures/ur-kilo.png\"/>\n",
    "</div>"
   ]
  },
  {
   "cell_type": "markdown",
   "metadata": {},
   "source": [
    "## Definition über Naturkonstanten"
   ]
  },
  {
   "cell_type": "markdown",
   "metadata": {},
   "source": [
    "<div>\n",
    "<img src=\"pictures/SI-konst.png\" width=\"700\" align = \"right\"/>\n",
    "</div>\n",
    "\n",
    "Am 16. November 2018, im Rahmen der französischen Revolution in Versailles, wurden ein neues System für Maßeinheiten beschlossen. Es fand eine Generalkonferenz für Maße und Gewichte statt, an der Mess-Wissenschaftler auf 54 Staaten beteiligt waren.\n",
    "Dem Beschluss zufolge werden Kilogramm (Gewicht), Ampere (Stromstärke), Mol (chemische Stoffmenge) und Kelvin (Temperatur) auf der Grundlage von Naturkonstanten neu definiert. Damit geht es auch dem alten \"Herrscher\" über unser metrisches Gewichtssystem an den Kragen – dem Ur-Kilogramm. Bei den drei Basiseinheiten Meter, Sekunde und Candela hat sich allerdings nichts substantielles geändert, lediglich die Formulierung der Definition wurde angepasst, z.B.:\n",
    "* Die **Sekunde** ist ab sofort dadurch definiert, dass die Frequenz der Cäsium-Strahlung, $\\Delta \\nu_\\mathrm{133Cs}$, exakt den Wert 9192631770 annimmt, wenn man diese in 1/s ausdrückt:\n",
    "\n",
    "$$1\\,\\mathrm s = \\frac{9192631770}{\\Delta \\nu_\\mathrm{133Cs}}$$\n",
    "\n",
    "(Cäsiumuhren haben übrigens eine Störanfälligkeit von 1:1e13, das entspricht einer Abweichung von 1s in 300000 Jahren.)\n",
    "* Das **Meter** wird ähnlich wie zuvor über die Lichtgeschwindigkeit $c$ ausgedrückt: \n",
    "\n",
    "$$1\\,\\mathrm m = \\frac{c}{299 792 458} s = 30,663318...\\frac{c}{\\Delta \\nu_\\mathrm{133Cs}}$$\n",
    "\n",
    "* Die **Candela** wird von der photometrische Strahlungsäquivalent $\\mathrm K_\\mathrm{cd}$ (ebenfalls eine Naturkonstante) abgeleitet. Sie wird über die SI-Einheiten kg, m, s und Steradiant (sr = m$^2$/m$^2$) definiert.\n",
    "\n",
    "Anders sieht es bei den weiteren vier Basiseinheiten aus, für die Naturkonstanten gefunden und festgelegt wurden:\n",
    "* Das **Kilogramm** ist nun durch Ableitung aus dem Planckschen Wirkungsquantum $h = 6,62607015 \\cdot 10^{-34}\\,\\mathrm{Js}$ definiert, wobei die Einheit J (Joule), wie unten noch aufgeführt wird, nichts anderes als kgm$^2$/s$^2$ ist. \n",
    "\n",
    "$$1\\,\\mathrm{kg} = \\frac{h}{6,626070040 \\cdot 10^{-34}}\\,\\mathrm{m^{−2} s} = 1,475521... \\cdot 10^{40} h \\cdot \\frac{\\Delta \\nu_\\mathrm{133Cs}}{c}$$\n",
    "\n",
    "$h$ wird dabei in Kooperation der metrologischen Institutionen in Form aufwendiger Experimente in entsprechender Genauigkeit bestimmt. \n",
    "* Das **Ampere** wird dadurch definiert, dass die Elementarladung $e = 1,602 176 620 8 \\cdot 10^{−19}\\,\\mathrm{As}$ beträgt:\n",
    "\n",
    "$$ 1\\,\\mathrm A = \\frac{e}{1,6021766208\\cdot 10^{−19}}s^{−1} = 6,789687...\\cdot 10^8 \\Delta \\nu_\\mathrm{133Cs}\\cdot e $$\n",
    "\n",
    "* Das **Kelvin** ist die Einheit der thermodynamischen Temperatur, über die Boltzmann-Konstante $k_B = 1,380 648 52 \\cdot 10^{−23}\\,\\mathrm{kg m^2 s^{−2} K^{−1}$.\n",
    "\n",
    "$$ 1\\,\\mathrm K=\\frac{1,38064852\\cdot 10^{−23}}{k_B}\\,\\mathrm{kg m^2 s^{−1}} = 2,266665 \\Delta \\nu_\\mathrm{133Cs} \\cdot \\cdot \\frac{h}{k_B} $$\n",
    "\n",
    "* Das **Mol** ist dadurch definiert, dass die Avogadro-Konstante $N_A = 6,022 140 857 \\cdot 10^{23}\\,\\mathrm{mol^{−1}}$ beträgt. \n",
    "\n",
    "$$ 1\\,\\mathrm{mol} = \\frac{6,022 140 857 \\cdot 10^23}{N_A}$$\n",
    "\n",
    "$N_A$ ist die Zahl, der in einem Mol enthaltenen Atome. Sie ist so definiert, dass 12 g Kohlenstoff (12C) genau einem Mol entspricht."
   ]
  },
  {
   "cell_type": "markdown",
   "metadata": {},
   "source": [
    "## Abgeleitete / Ergänzende SI-Einheiten"
   ]
  },
  {
   "cell_type": "markdown",
   "metadata": {},
   "source": [
    "<div>\n",
    "<img src=\"pictures/abgeleitete-SI.png\" width=\"800\"/>\n",
    "</div>"
   ]
  },
  {
   "cell_type": "markdown",
   "metadata": {},
   "source": [
    "- SI umfasst auch abgeleitete Größen, welche von den 7 Basiseinheiten abgeleitet werde können, hier einige Beispiele:\n",
    "    - Newton: bestimmt z.B. über dasd bekannte Trägheitsgesetz: F = ma, mit [F] = N, [m] = kg, …\n",
    "    - Henry und Farad ergeben sich aus Zusammenhängen zwischen [u] = V und  [i] = A (bei Induktivitäten L und Kapazitäten C)\n",
    "- Interessant auch „Jonglieren“ zwischen verschiedenen physikalischen Teildisziplinen. \n",
    "    - Leistung (W) sowohl in mechanischen wie auch elektrische Gesetzmäßigkeiten vorkommt -> elektrische Spannung (V) durch Kombination der elektrischen Basiseinheit Ampere (A) mit mechanischen Basiseinheiten definieren kann\n",
    "- ergänzende Einheiten: \n",
    "    - Ein Radiant (rad) ist der ebene Winkel zwischen zwei Radien eines Kreises für den Fall, dass der dadurch bestimmte Kreisbogen genau so groß wie der Radius ist. Da der Umfang eines Kreises bekanntermaßen der mit 2π multiplizierte Radius ist, entspricht eine komplette Drehung einem Winkel von 2π rad. Auf Basiseinheiten zurückgeführt, bedeutet das rad = m/m\n",
    "    - Steradiant (sr) als räumlicher Winkel mit der Kugelmitte als Scheitelpunkt definiert, der aus der Kugeloberfläche eine Fläche gleich der eines Quadrats von der Seitenlänge des Kugelradius ausschneidet. Auf die Einheit bezogen heißt dies 1 sr = m2/m2."
   ]
  },
  {
   "cell_type": "markdown",
   "metadata": {},
   "source": [
    "## Nicht-Si-Einheiten"
   ]
  },
  {
   "cell_type": "markdown",
   "metadata": {},
   "source": [
    "<div>\n",
    "<img src=\"pictures/nicht-SI.png\" width=\"200\"/>\n",
    "</div>"
   ]
  },
  {
   "cell_type": "markdown",
   "metadata": {},
   "source": [
    "- Zusätzlich zu den offiziellen SI-Einheiten zahlreiche Einheiten, die international oder zumindest in einer größeren Region akzeptiert sind. \n",
    "    - lassen sich i.d.R. auf entsprechende SI-Einheiten zurückführen. Beispiele sind: Celsius, Fahrenheit\n",
    "    - Auch die zahlreichen historisch gewachsenen angelsächsischen Einheiten z.B. für Längen (wie mile, yard, foot, inch), Volumen (wie gallon), Masse (wie ounce, pound) etc. lassen sich in SI-Einheiten umrechnen. \n",
    "    - Teilweise existieren für dieselbe Einheit unterschiedliche Umrechnungen im Bereich des Vereinigten Königreichs (UK-Einheiten) und der Vereinigten Staaten von Amerika (US-Einheiten). \n",
    "    - Auch je nach Anwendung teilweise unterschiedlich definiert: mile =  „Landmeile“ 1.609,344 m (UK) bzw. 1.609,347 m (US), nautical mile („Seemeile“, Luftfahrt) 1.853,2 m (UK) bzw. international genau 1.852 m.\n",
    "- Zum Schluss unserer Betrachtungen zu Einheiten soll nicht unerwähnt bleiben, dass für einige spezielle Messgrößen auch Einheiten in Gebrauch sind, die sich einer Zurückführung auf SI-Einheiten gänzlich entziehen. Sie sind vielmehr in engem Zusammenhang mit ihrem typischen Einsatzgebiet spezifisch festgelegt. Hierunter fallen z.B. Einheiten für die Wasserhärte, das Mostgewicht, den Feingehalt von Gold- und Silberlegierungen, die Windstärke, den Seegang oder die Stärke von Erdbeben.“"
   ]
  },
  {
   "cell_type": "markdown",
   "metadata": {},
   "source": [
    "## Vorsätze und Präfix im SI"
   ]
  },
  {
   "cell_type": "markdown",
   "metadata": {},
   "source": [
    "<div>\n",
    "<img src=\"pictures/praefix.png\" width=\"400\"/>\n",
    "</div>"
   ]
  },
  {
   "cell_type": "markdown",
   "metadata": {},
   "source": [
    "- Zu guter Letzt sind im SI noch Vorsätze definiert, \n",
    "    - Vielfache bzw. Teile von SI-Einheiten in Kurzform angegeben werden können, so dass große oder kleine Messwerte nicht durch unübersichtlich viele Ziffern geschrieben werden müssen:“\n",
    "- aufgefallen, dass die Basiseinheit Kilogramm (kg) bereits den Vorsatz Kilo (k) in sich trägt. \n",
    "    - Dies hat historische Gründe. \n",
    "    - Vielfache bzw. Teile davon werden dennoch bekanntermaßen nur mit dem Gramm (g) zuzüglich des passenden Vorsatzes geschrieben."
   ]
  },
  {
   "cell_type": "markdown",
   "metadata": {},
   "source": [
    "## Logarithmische Einheiten"
   ]
  },
  {
   "cell_type": "markdown",
   "metadata": {},
   "source": [
    "<div>\n",
    "<img src=\"pictures/log.png\" width=\"700\"/>\n",
    "</div>"
   ]
  },
  {
   "cell_type": "markdown",
   "metadata": {},
   "source": [
    "- innerhalb einer messtechnischen Anwendung Messwerte in ganz unterschiedlichen Größenordnungen\n",
    "- unübersichtlich viele Ziffern: entsprechende Vorsätze verwenden\n",
    "    - Darstellung im Diagramm, bei dem die Achse in einer festen Einheit bzw. einem Vielfachen davon skaliert werden muss, ist dies jedoch keine Lösung. \n",
    "- logarithmische Darstellung, was auch im SI vorgesehen ist:\n",
    "    - eigentlichen Messwert auf einen definierten Referenzwert beziehen - also den Quotienten bilden - und logarithmieren. \n",
    "    - Fast ausschließlich: 10er-Logarithmus (log). \n",
    "    - Der sich ergebende neue Wert trägt als Einheit das Bel (B) bzw. - auch dies wiederum die meist verwendete Variante - Dezibel (dB), also das Zehntel eines Bels. \n",
    "    - In seltenen Fällen natürliche Logarithmus (ln) benutzt, die Einheit nennt sich dann Neper (Np).\n",
    "- Im Falle einer elektrischen Leistung P wäre also die übliche logarithmische Darstellung: … \n",
    "- In der Messtechnik hat sich eingebürgert, dass zunächst nur Leistungen - allgemein spricht man von „Leistungsgrößen“ - gemäß dieser Definition in dB angegeben werden. \n",
    "- Andere Größen werden in leicht abgewandelter Form - hier am Beispiel der elektrischen Spannung U - gemäß … dargestellt und nennen sich in diesem Kontext „Leistungswurzelgrößen“ (früher auch „Feldgrößen\"). HERLEITUNG JB\n",
    "- Elektrische Leistungen und Spannungen stellen Großteil der Messgrößen der Messtechnik dar für dB Angaben \n",
    "    - nur bei bestimmten Anwendungen mit einem großen Messbereich wie der Hochfrequenztechnik, der Charakterisierung von sog. Frequenzgängen bei Verstärkern oder bei akustischen Größen (hier auch mit anderen Messgrößen wie z.B. dem Schalldruck) verbreitet. \n",
    "    - Generell spricht man auch von „Pegeln“, wenn Messwerte logarithmisch angegeben werden.\n",
    "- Eine Angabe in Dezibel macht nur Sinn, wenn Referenzwert verwendet. Übliche Schreibweisen:\n",
    "    - dB(mW): Leistungspegel bezogen auf 1mW\n",
    "    - dB(mV): Spannungspegel bezogen auf 1 mV\n",
    "    - dB(uV): Süannungspegel bezogen auf 1uV\n",
    "- Beispiele: dB\n",
    "- speziellen Sonderfall: Spannungspegel in dBm - nicht zu verwechseln mit obigen dB(mV). \n",
    "    - bei Messsystemen, die für höhere Frequenzen ausgelegt sind. \n",
    "    - für diese Frequenzen ist es üblich, zur Vermeidung sog. Reflexionen Leitungsenden mit einem ohmschen Widerstand, der in etwa dem sog. Wellenwiderstand des Kabels entsprechen sollte, abzuschließen: 50 Ω-Widerstand\n",
    "    - Viele Messgeräte für Hochfrequenzanwendungen sind intern an ihren Ein- bzw. Ausgangsbuchsen bereits mit diesen Widerständen beschaltet. \n",
    "    - Bei dBm-Angaben nimmt man als Referenzspannung diejenige, die an einem solchen 50 Ω eine Leistung von 1 mW produziert. "
   ]
  },
  {
   "cell_type": "code",
   "execution_count": null,
   "metadata": {},
   "outputs": [],
   "source": []
  }
 ],
 "metadata": {
  "kernelspec": {
   "display_name": "Python 3",
   "language": "python",
   "name": "python3"
  },
  "language_info": {
   "codemirror_mode": {
    "name": "ipython",
    "version": 3
   },
   "file_extension": ".py",
   "mimetype": "text/x-python",
   "name": "python",
   "nbconvert_exporter": "python",
   "pygments_lexer": "ipython3",
   "version": "3.8.5"
  }
 },
 "nbformat": 4,
 "nbformat_minor": 4
}
