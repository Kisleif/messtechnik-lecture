{
 "cells": [
  {
   "cell_type": "markdown",
   "metadata": {},
   "source": [
    "---\n",
    "Zurück zur Übersicht | [Inhalt](00_Inhalt.ipynb)\n",
    "\n",
    "---"
   ]
  },
  {
   "cell_type": "code",
   "execution_count": 15,
   "metadata": {},
   "outputs": [],
   "source": [
    "import numpy as np"
   ]
  },
  {
   "cell_type": "markdown",
   "metadata": {},
   "source": [
    "# Grundlagen"
   ]
  },
  {
   "cell_type": "markdown",
   "metadata": {},
   "source": [
    "## Historie der Einheiten\n",
    "\n",
    "<div>\n",
    "<img src=\"pictures/meter.png\" width=\"350\" align = \"right\"/>\n",
    "</div>\n",
    "\n",
    "Aufgrund der im vorherigen Kapitel erläuterten regionalen Unterschiede, beschloss 1790 die französische Nationalversammlung im Geiste der französischen Revolution und unter dem Motto „À tous les temps, à tous les peup- les“ (Für alle Zeiten, für alle Völker) die Schaffung eines neuen Einheitensystems. \n",
    "Der erste Antrag wurde am 07. Oktober für die Maßeinheit Meter gestellt. Ein Meter sollte als der zehnmillionste Teil des Erdmeridianquadranten definiert sein. Die Gelehrtenkommission (Borda, Condorcet, Lagrange, Laplace und Monge) hat zwei Maßeinheiten wiefolgt definiert: \n",
    "* Der Meter als universelle Maßeinheit der Länge sollte den zehnmillionsten Teil der Entfernung vom Nordpol zum Äquator über Paris betragen; \n",
    "* das Kilogramm als universelle Maßeinheit der Masse sollte der Masse eines Kubikdezimeters Wasser entsprechen.\n",
    "\n",
    "1799 wurde das Naturmaß Meter wieder durch ein Kunstmaß ersetzt, da die Meterfestlegung mit der Erde als Referenz, messtechnisch nur sehr aufwendig zu wiederholen ist:\n",
    "* Man fertigte einen Maßstab aus Platin an, der als Urmeterstab in Paris aufbewahrt wurde\n",
    "* 1889 wurde der Platinstab durch einen Platin-Iridium-Körper mit X-förmigem Querschnitt ersetzt (90% Platin und 10% Iridium). Auf diesem wurden 2 Mittelstriche markiert, welche den Meter angeben. Bei Temperaturverändungern von 0°C auf 20°C verlängert sich das \"Meter\" um 0,3 mm,  wobei die Ablesegenauigkeit hierbei 0,01 mm betrug."
   ]
  },
  {
   "cell_type": "markdown",
   "metadata": {},
   "source": [
    "## Das International Einheitensystem\n",
    "\n",
    "<div>\n",
    "<img src=\"pictures/SI.png\" width=\"300\" align = \"right\"/>\n",
    "</div>\n",
    "\n",
    "Im Rahmen der Meterkonvention im Jahr 1960 wurde das Internationale Einheitensystem, kurz SI, benannt nach „le Système Internationale d’unités“, eingeführt. Die Definitionen der Basiseinheiten basierten nach wie vor teilweise auf materiellen Prototypen (bis 2019 war dies tatsächlich beim Kilogramm der Fall). Das SI basiert auf der Idee, dass sich im Prinzip alle relevanten Messgrößen über physikalische Gesetze auf genau 7 Basisgrößen zurückführen lassen. Diese 7 Basisgrößen sind die Basiseinheiten, aus denen alle weiteren Einheiten abgeleitet werden können:\n",
    "* Meter (m) als Einheit für die Länge\n",
    "* Kilogramm (kg) als Einheit für die Masse\n",
    "* Sekunde (s) als Einheit für die Zeit\n",
    "* Ampere (A) als Einheit für die elektrische Stromstärke\n",
    "* Kelvin (K) als Einheit für die thermodynamische Temperatur\n",
    "* Candela (Cd) als Einheit für die Lichtstärke und \n",
    "* Mol (mol) als Einheit für die Stoffmenge\n",
    "\n",
    "Das SI ist ein metrisches Einheitensystem (d. h., eine Basiseinheit ist der Meter), es ist dezimal (d. h., die verschiedenen Einheiten, mit denen man eine Größe angeben kann, unterscheiden sich nur um ganze Zehnerpotenzen) und es ist ein kohärentes Einheitensystem.\n",
    "\n",
    "Mit Ausnahme des Kilogramms wurden bis vor Kurzem alle Basiseinheiten über reproduzierbare Experimente eindeutig festgelegt. Die Sekunde ist zum Beispiel darüber definiert, als das sie das 9192631770-fache der Periodendauer einer bestimmten Strahlung ist, nämlich der des Übergangs zwischen den beiden Hyperfeinstrukturniveaus des Grundzustands von Atomen des Nuklids 133-Cäsium. Im Prinzip könnte sich also jeder das Element Cäsium besorgen, eine Atomuhr betreiben, und somit seine Sekunde zuhause definieren. Oder man spart sich die Arbeit und sucht eine der Kalibrierbehörden auf. \n",
    "1983 wird die Länge eines Meters als \"jene Wegstrecke, die das Licht im Vakuum während der Dauer von 1/299792458-tel einer Sekunde zurücklegt\", festgelegt. Somit war das Meter die erste Einheit, welche durch eine Naturkonstanten, nämlich die Lichtgeschwindigkeit c = 299792458 m/s definiert, bzw. festgelegt wurde. Andere Einheiten waren in der Praxis schwieriger umzusetzen, wie z.B. das Ampere. Für die Definition eines Amperes wurde die Kraft zwischen 2 stromdurchflossenen Leitern gemessen, was extrem unpraktisch ist. \n",
    "Eine große Ausnahme ist und blieb das Ur-Kilo, welches als Prototyp von 1889-2018 in Paris als internationale Referenz sicher (bzw. vermeintlich sicher) aufbewahrt wurde. "
   ]
  },
  {
   "cell_type": "markdown",
   "metadata": {},
   "source": [
    "Das Ur-Kilo war bisher:\n",
    "* ein 3,9 cm hoher und 3,9 cm dicker Metallzylinder, der zu 90% aus Platin und zu 10% aus Iridium besteht\n",
    "* Seit 1889 ist dieser \"Block\" das Referenznormal für Kilogramm\n",
    "* es wird unter drei Glasglocken in einem Tresor des \"Internationalen Büros für Maß und Gewicht\" (BIPM) in Paris aufbewahrt\n",
    "* keine Lösung für die Ewigkeit, denn - keiner weiß warum - aber das Ur-Kilo wird immer leichter\n",
    "* 50 Mikrogramm hat es in den letzten 129 Jahren im Vergleich zu seinen 70 offiziellen Kopien weltweit verloren\n",
    "\n",
    "Das klingt erstmal nicht viel, wird aber in unserer Hightech-Welt, in der schon in Nanometern (Millionstel Millimeter) oder Femtosekunden (Millionstel einer Milliardstel Sekunde) gemessen wird, mehr und mehr zum Problem."
   ]
  },
  {
   "cell_type": "markdown",
   "metadata": {},
   "source": [
    "<div>\n",
    "<img src=\"pictures/ur-kilo.png\"/>\n",
    "</div>"
   ]
  },
  {
   "cell_type": "markdown",
   "metadata": {},
   "source": [
    "## Definition über Naturkonstanten\n",
    "\n",
    "Am 16. November 2018, im Rahmen der französischen Revolution in Versailles, wurden ein neues System für Maßeinheiten beschlossen. Es fand eine Generalkonferenz für Maße und Gewichte statt, an der Mess-Wissenschaftler auf 54 Staaten beteiligt waren.\n",
    "Dem Beschluss zufolge werden Kilogramm (Gewicht), Ampere (Stromstärke), Mol (chemische Stoffmenge) und Kelvin (Temperatur) auf der Grundlage von Naturkonstanten neu definiert. Damit geht es auch dem alten \"Herrscher\" über unser metrisches Gewichtssystem an den Kragen – dem Ur-Kilogramm. Bei den drei Basiseinheiten Meter, Sekunde und Candela hat sich allerdings nichts substantielles geändert, lediglich die Formulierung der Definition wurde angepasst, z.B.:\n",
    "* Die **Sekunde** ist ab sofort dadurch definiert, dass die Frequenz der Cäsium-Strahlung, $\\Delta \\nu_\\mathrm{133Cs}$, exakt den Wert 9192631770 annimmt, wenn man diese in 1/s ausdrückt:\n",
    "\n",
    "$$1\\,\\mathrm s = \\frac{9192631770}{\\Delta \\nu_\\mathrm{133Cs}}$$\n",
    "\n",
    "(Cäsiumuhren haben übrigens eine Störanfälligkeit von 1:1e13, das entspricht einer Abweichung von 1s in 300000 Jahren.)\n",
    "* Das **Meter** wird ähnlich wie zuvor über die Lichtgeschwindigkeit $c$ ausgedrückt: \n",
    "\n",
    "$$1\\,\\mathrm m = \\frac{c}{299 792 458} s = 30,663318...\\frac{c}{\\Delta \\nu_\\mathrm{133Cs}}$$\n",
    "\n",
    "* Die **Candela** wird von der photometrische Strahlungsäquivalent $\\mathrm K_\\mathrm{cd}$ (ebenfalls eine Naturkonstante) abgeleitet. Sie wird über die SI-Einheiten kg, m, s und Steradiant (sr = m$^2$/m$^2$) definiert.\n",
    "\n",
    "Anders sieht es bei den weiteren vier Basiseinheiten aus, für die Naturkonstanten gefunden und festgelegt wurden:\n",
    "* Das **Kilogramm** ist nun durch Ableitung aus dem Planckschen Wirkungsquantum $h = 6,62607015 \\cdot 10^{-34}\\,\\mathrm{Js}$ definiert, wobei die Einheit J (Joule), wie unten noch aufgeführt wird, nichts anderes als kgm$^2$/s$^2$ ist. \n",
    "\n",
    "$$1\\,\\mathrm{kg} = \\frac{h}{6,626070040 \\cdot 10^{-34}}\\,\\mathrm{m^{−2} s} = 1,475521... \\cdot 10^{40} h \\cdot \\frac{\\Delta \\nu_\\mathrm{133Cs}}{c}$$\n",
    "\n",
    "$h$ wird dabei in Kooperation der metrologischen Institutionen in Form aufwendiger Experimente in entsprechender Genauigkeit bestimmt. \n",
    "* Das **Ampere** wird dadurch definiert, dass die Elementarladung $e = 1,602 176 620 8 \\cdot 10^{−19}\\,\\mathrm{As}$ beträgt:\n",
    "\n",
    "$$ 1\\,\\mathrm A = \\frac{e}{1,6021766208\\cdot 10^{−19}}s^{−1} = 6,789687...\\cdot 10^8 \\Delta \\nu_\\mathrm{133Cs}\\cdot e $$\n",
    "\n",
    "* Das **Kelvin** ist die Einheit der thermodynamischen Temperatur, über die Boltzmann-Konstante $k_B = 1,380 648 52 \\cdot 10^{−23}\\,\\mathrm{kg m^2 s^{−2} K^{−1}}$.\n",
    "\n",
    "$$ 1\\,\\mathrm K = \\frac{1,38064852\\cdot 10^{−23}}{k_B}\\,\\mathrm{kg m^2 s^{−1}} = 2,266665 \\Delta \\nu_\\mathrm{133Cs} \\cdot \\frac{h}{k_B} $$\n",
    "\n",
    "* Das **Mol** ist dadurch definiert, dass die Avogadro-Konstante $N_A = 6,022 140 857 \\cdot 10^{23}\\,\\mathrm{mol^{−1}}$ beträgt. \n",
    "\n",
    "$$ 1\\,\\mathrm{mol} = \\frac{6,022 140 857 \\cdot 10^23}{N_A}$$\n",
    "\n",
    "$N_A$ ist die Zahl, der in einem Mol enthaltenen Atome. Sie ist so definiert, dass 12 g Kohlenstoff (12C) genau einem Mol entspricht."
   ]
  },
  {
   "cell_type": "markdown",
   "metadata": {},
   "source": [
    "<div>\n",
    "<img src=\"pictures/SI-konst.png\" width=\"800\" align = \"right\"/>\n",
    "</div>"
   ]
  },
  {
   "cell_type": "markdown",
   "metadata": {},
   "source": [
    "## Abgeleitete / Ergänzende SI-Einheiten\n",
    "\n",
    "SI umfasst auch eine Aufzählung weiterer Einheiten, welche von den 7 Basiseinheiten, oder über physikalische Gesetzmäßigkeiten, abgeleitetet werdem können. Hier nur einige Beispiele:\n",
    "* 1 Hz (Hertz für Frequenz) = 1/s\n",
    "* 1 N (Newton für Kraft) = kgm/s$^2$\n",
    "* 1 Pa (Pascal für Druck) = 1 N/m$^2$ = 1 kg/ms$^2$\n",
    "* 1 J (Joule für Energie) = 1 Nm = 1 kg$^2$/s$^2$\n",
    "* 1 W (Watt für Leistung) = 1 J/s = 1 kgm$^2$/s$^3$\n",
    "* 1 V (Volt für Spannung) = 1 W/A = 1 kgm$^2$/s$^3$A\n",
    "* 1 H (Henry für Induktivität) = 1 Vs/A = 1 kgm$^2$/s$^2$A$^2$\n",
    "* 1 F (Faraday für Ladung) = 1 As/V = 1 s$^4$A$^2$/kgm$^2$\n",
    "\n",
    "Zwischen verschiedenen physikalischen Teildisziplinen kann nun auch mit den Einheiten hin und her jongliert werden. So kommt die Leistung (W) sowohl in mechanischen, als auch auch elektrische Gesetzmäßigkeiten vor. Man kann durch die elektrische Spannung (V) durch eine Kombination des Amperes (elektrische Basiseinheit) mit mechanischen verknüpfen. \n",
    "\n",
    "Ergänzende Einheiten im SI-System sind beispielsweise:\n",
    "* 1 rad (Radiant) = 1 m/m, welches der ebene Winkel zwischen zwei Radien eines Kreises ist, falls der dadruch beschriebene Kreisbogen genauso groß ist wie der Radius. Der Umfang eines Kreises ist bekannterweise $2\\pi \\cdot r$, wobei $r$ der Kreisradius ist. Dadurch entspricht eine komplette Drehung einem Winkel von $2\\pi\\,\\mathrm{rad}$\n",
    "* 1 sr (Steradiant) = 1 m$^2$/m$^2$ ist der räumliche Winkel (analog zum Radiant). Dieser schließt mit der Kugelmitte als Scheitelpunkt eine Fläche auf der Kugeloberfläche sein. Diese Fläche ist quadratisch mit einer Seitenlänge die dem Kugelradius entspricht. Die Einheit kann also ebenfalls auf Basiseinheiten zurückgeführt werden, hier 1 sr = m$^2$/m$^2$."
   ]
  },
  {
   "cell_type": "markdown",
   "metadata": {},
   "source": [
    "## Nicht-Si-Einheiten\n",
    "\n",
    "Es gibt diverse zusätzliche Einheiten, welche keine offiziellen SI-Einheiten sind, aber aufgrund ihrer großen Beliebheit und Handbarkeit gerne benutzt werden. Im Allgemeinem gibt es aber immer Zusammenhänge zu den SI-Einheiten, sodass sie sich in solche umformen lassen. Beispiele sind z.B.:\n",
    "* Grad Celsius: 1°C = K + 273,15\n",
    "* Grad Fahrenheit: 9/5 K - 459,67\n",
    "* Minute: 1 min = 60 s\n",
    "* (Winkel-)Grad: 1° = $\\pi$/180 rad\n",
    "* (Winkel-)Minute: 1'  1/60°\n",
    "* Liter: 1 l = 1 dm$^3$\n",
    "* Tonne: 1 t  10$^3$ kg\n",
    "* Bar: 1 bar = 10$^5$ Pa\n",
    "\n",
    "Dann gibt es noch historisch gewachsene Einheiten, wie z.B. die Meile, yard, foot, inch, once, pound, gallon, welche sich analog in SI-Einheiten umrechnen lassen. Diese Umrechnung ist jedoch global nicht immer die gleiche und man muss höllisch aufpassen. Es existieren nämlich teilweise für dieselbe Einheit unterschiedliche Umrechnungen (USA und UK sind hier die wohl bekanntesten Beispiele). Doch auch je nach Anwednungsgebiet gibt es unterschiede. So ist zum Beispiele:\n",
    "* 1 mile = 1 Landmeile = 1.609,344 m (US)\n",
    "* 1 nautical mile = 1 Seemeile (oder Luftfahrt) = 1.853,2 m (UK)\n",
    "* 1 mile = exakt 1.852 m (international)\n",
    "\n",
    "Und dann gibt es noch Einheiten, die zwar in Gebrauch sind, aber nicht auf SI-Einheiten zurückzuführen sind. Sie wurden für spezifische Einsatzgebiete konkret festgelegt. Beispiele sind die Einheit für: \n",
    "* die Wasserhärte\n",
    "* das Mostgewicht\n",
    "* den Feingehalt von Gold- und Silberlegierungen\n",
    "* die Windstärke\n",
    "* den Seegang\n",
    "* die Stärke von Erdbeben"
   ]
  },
  {
   "cell_type": "markdown",
   "metadata": {},
   "source": [
    "## Vorsätze und Präfix im SI\n",
    "\n",
    "Zum SI, bzw. prinzipiell angewendet in allen anderen Einheiten, sind sogenannte Präfixe / Vorsätze definiert. Teile oder Vielfach von SI-Einheiten können in Kurzform geschrieben werden, was das Lesen erleichtert. So können besonders große oder besonders kleine Zahlen übersichtlicher dargestellt werden. Dafür muss der oder die Forschende oder Ingeneur:in lediglich ein paar Vokabeln können: "
   ]
  },
  {
   "cell_type": "markdown",
   "metadata": {},
   "source": [
    "<div>\n",
    "<img src=\"pictures/praefix.png\" width=\"500\"/>\n",
    "</div>"
   ]
  },
  {
   "cell_type": "markdown",
   "metadata": {},
   "source": [
    "Dem aufmerksamen Leser mag aufgefallen sein, dass hier das Kilogramm - mal wieder - ein Alleinstellungsmerkmal besitzt. Die Basiseinheit Kilogramm (kg) trägt (aus historischen Gründen) bereits den Vorsatz Kilo (k) in sich. "
   ]
  },
  {
   "cell_type": "markdown",
   "metadata": {},
   "source": [
    "## Logarithmische Einheiten\n",
    "\n",
    "In der Messtechnik können unter Umständen Messwerte in ganz unterschiedlichen Größenordnungen anfallen. Daher haben wir uns ja im Kapitel vorher die Präfixe bzw. Vorsätze angesehen. Für eine Darstellung im Diagramm, bei dem die Achsen typischer eine feste Einheit besitzen, wird es dennoch schwierig, die Gesamtheit der Messreihe übersichtlich darzustellen. Daher bedient man sich häufig der logarithmischen Darstellung, welche im ersten Moment relativ umständlich und kompliziert erscheint, aber einen hohen Nutzen hat. Diese Darstellung ist auch im SI-System vorgesehen."
   ]
  },
  {
   "cell_type": "code",
   "execution_count": 1,
   "metadata": {},
   "outputs": [],
   "source": [
    "# Beispiel Plots"
   ]
  },
  {
   "cell_type": "markdown",
   "metadata": {},
   "source": [
    "Die Idee ist, dass der eigentlich Messwert auf einen wohl definierten Referenzwert bezogen wird. Man bildet also den Quotienten aus Messwert und Referenzwert, $P/P_\\mathrm{ref}$ (bei Leistungen) oder $U/U_\\mathrm{ref}$ bei Spannungen. Danach werden diese Quotienten logarithmiert, *fast ausschließlich* mit der 10er-Logarithmus (log). Der neue Wert ist per Definition einheitenlos, wird aber die Einheit **Dezibel** (dB) zugeordnet, also das Zehntel eines **Bels**. Ganz selten wird der natürlich Logarithmus benutzt, dann wird die Einheit Neper (Np) angewendet. "
   ]
  },
  {
   "cell_type": "markdown",
   "metadata": {},
   "source": [
    "In der Messtechnik hat es sich etabliert (ungeschriebenes Gesetz), dass in erster Linie Leistungen gemäß der eben beschriebenen Gesetzmäßigkeit in der Einheit dB umgewandelt werden, man spricht hierbei von der **Leistungsgröße**:\n",
    "\n",
    "$$1\\,\\mathrm{dB} = 10 \\cdot \\log\\frac{P}{P_\\mathrm{ref}}$$"
   ]
  },
  {
   "cell_type": "markdown",
   "metadata": {},
   "source": [
    "Andere Größen werden in abgewandeltert Form definiert. Für die elektrische Spannung $U$ gilt entsprechend:\n",
    "\n",
    "$$1\\,\\mathrm{dB} = 20 \\cdot \\log\\frac{U}{U_\\mathrm{ref}}$$\n",
    "\n",
    "und wird als **Leistungswurzelgröße, Feldgröße** oder **Pegelgröße** bezeichnet. Den Zusammenhang kann man sich auch schnell herleiten. Angenommen, das die Leistung $P$ und $P_\\mathrm{ref}$ an einem Widerstand $R$ abfallen, so lässt sich die Gleichung für die Leistungsgröße über die Beziehung \n",
    "\n",
    "$$P = \\frac{U^2}{R}$$\n",
    "\n",
    "direkt in die Feld- bzw. Pegelgröße umformen . Jetzt wird dem Leser auch ersichtlich, warum diese Größe teilweise auch Leistungswurzelgröße genannt wird. "
   ]
  },
  {
   "cell_type": "markdown",
   "metadata": {},
   "source": [
    "*Aufgabe: Beweise die Umformung von Leistungsgröße in Feldgröße.*"
   ]
  },
  {
   "cell_type": "markdown",
   "metadata": {},
   "source": [
    "Logarithmische Darstellungen finden meistens nur bei elektrischen Leistungen und Spannungen statt. Häufig wird das Dezibel z.B. in der Hochfrequenztechnik verwendet oder bei der Charakterisierung von Frequenzgängen (dazu kommen wir später noch). Im Allgemeinen spricht man von **Pegeln**, sobald die Messwerte logarithmisch angegeben sind. Bei der Angabe von Messwerten in der Einheit Dezibel **muss** stets darauf geachtet werden den Refrenzwert mitanzugeben. Typische Schreibweisen hierzu sind z.B.\n",
    "* dB(mW): es handelt sich um einen Leistungspegel und der Referenzwert ist 1 mW\n",
    "* dB(mV): es handelt sich um einen Spannungspegel und der Referenzwert ist 1 mV\n",
    "* dB($\\mu$V): es handelt sich um einen Spannungspegel und der Referenzwert ist 1 $\\mu$V\n",
    "Ohne die Angabe des Referenzwertes ist weder die physikalische Größe, noch der Skalierungsfaktor bekannt, und daher sehr wichtig, falls der Dezibel-Wert später in absolute Einheiten zurück konvertiert werden sollte. \n",
    "\n",
    "Für Leistungspegel gilt also im Allgmeinen (für einen typischen Referenzwert von 1 mW)\n",
    "* 1 $\\mu$W = 0,000001 W = -30 dB (mW) "
   ]
  },
  {
   "cell_type": "code",
   "execution_count": 4,
   "metadata": {},
   "outputs": [
    {
     "name": "stdout",
     "output_type": "stream",
     "text": [
      "Leistung = 1e-06 W = 0.000001 W\n",
      "Pegel in dB:  -30.0 (0.001)\n"
     ]
    }
   ],
   "source": [
    "# In diesem Code Block können Umrechnungen für verschiedene Messwerte ausprobiert werden:\n",
    "P_ref = 1e-3 # Referenzwert = 1 mW\n",
    "P = 1e-6     # Beispiels eines Messwerts in W, hier 1 uW\n",
    "\n",
    "P_dB = 10 * np.log10(P/P_ref) # Achtung: in numpy ist \"log\" der natürlich Logarithmus ln\n",
    "print('Leistung = %.e W = %.6f W' %(P, P))\n",
    "print('Pegel in dB: ', P_dB, '(%.3f)' %(P_ref))"
   ]
  },
  {
   "cell_type": "markdown",
   "metadata": {},
   "source": [
    "<div>\n",
    "<img src=\"pictures/log.png\" width=\"700\"/>\n",
    "</div>"
   ]
  },
  {
   "cell_type": "markdown",
   "metadata": {},
   "source": [
    "Achtung: Es gibt einen speziellen Sonderfall. Der Spannungspegel dBm ist nicht zu verwechseln mit obigen dB(mV)! dBm wird häufig für hohe Frequenz verwendet. Bei Schaltungen, in denen Signale mit sehr hoher Frequenz vorkommen, gibt es häufig Reflexionen an den Enden der Kabel. Um diese Reflexionen zu vermeiden, werden die Enden üblicherweise mit Abschlusswiderständen versehen, oft 50 Ohm. Sehr viele Messgeräte haben diese Widerstände bereits intern an ihren Aus- und Eingängen hinzu geschaltet. Soll die dBm-Angabe verwendet werden, so bedeutet das, dass die benötigte Referenzspannung nun die Spannung ist, die an einem 50 Ohm Widerstand bei einer Leistung von 1 mW produziert wird, also:\n",
    "\n",
    "$$U_\\mathrm{ref} = \\sqrt{P_\\mathrm{ref} \\cdot R} = 0,224\\,\\mathrm V$$ "
   ]
  },
  {
   "cell_type": "code",
   "execution_count": 8,
   "metadata": {},
   "outputs": [
    {
     "name": "stdout",
     "output_type": "stream",
     "text": [
      "0.22360679774997896 V\n"
     ]
    }
   ],
   "source": [
    "P_ref = 1e-3 # Referenzleistung von 1 mW\n",
    "R = 50 # 50 Ohm Widerstand\n",
    "U_ref_dBm = np.sqrt(P_ref * R)\n",
    "print(U_ref_dBm, 'V')"
   ]
  },
  {
   "cell_type": "markdown",
   "metadata": {},
   "source": [
    "Mit diesem Referenzwert werden also Spannungspegel in dBm angegeben für beliebige Spannungen berechnet. Beispiele können im folgenden Code-Block ausprobiert werden."
   ]
  },
  {
   "cell_type": "code",
   "execution_count": 14,
   "metadata": {},
   "outputs": [
    {
     "name": "stdout",
     "output_type": "stream",
     "text": [
      "0 dBm entsprechen 0.22360679774997896 V\n"
     ]
    }
   ],
   "source": [
    "U_dBm = 0 # Wofür steht 0 dBm?\n",
    "\n",
    "# --- Lösung: ---\n",
    "U = U_ref_dBm * 10**(U_dBm / 20)\n",
    "print(U_dBm, 'dBm entsprechen', U, 'V')"
   ]
  },
  {
   "cell_type": "markdown",
   "metadata": {},
   "source": [
    "*Aufgbabe: Wofür stehen 20 dBm?*"
   ]
  }
 ],
 "metadata": {
  "kernelspec": {
   "display_name": "Python 3",
   "language": "python",
   "name": "python3"
  },
  "language_info": {
   "codemirror_mode": {
    "name": "ipython",
    "version": 3
   },
   "file_extension": ".py",
   "mimetype": "text/x-python",
   "name": "python",
   "nbconvert_exporter": "python",
   "pygments_lexer": "ipython3",
   "version": "3.8.5"
  }
 },
 "nbformat": 4,
 "nbformat_minor": 4
}
