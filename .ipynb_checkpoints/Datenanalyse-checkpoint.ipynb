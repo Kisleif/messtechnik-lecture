{
 "cells": [
  {
   "cell_type": "markdown",
   "metadata": {},
   "source": [
    "---\n",
    "Zurück zur Übersicht | [Inhalt](00_Inhalt.ipynb)\n",
    "\n",
    "---"
   ]
  },
  {
   "cell_type": "code",
   "execution_count": 1,
   "metadata": {},
   "outputs": [],
   "source": [
    "# Für diese Notebook benötigte Pakete:\n",
    "import numpy as np\n",
    "import matplotlib.pyplot as plt"
   ]
  },
  {
   "cell_type": "markdown",
   "metadata": {},
   "source": [
    "# Datenanalyse"
   ]
  },
  {
   "cell_type": "markdown",
   "metadata": {},
   "source": [
    "Bei der Regressionsanalyse handelt es sich um ein statistisches Analyseverfahren zur Feststellung funktionaler Beziehungen zwischen einer abhängigen und einer oder mehreren unabhängigen Variablen. Der Begriff **lineare Regression** ist weit verbreitet, doch dies ist nur der einfachste Fall eines Modells, nämlich der einer Geraden: $y = a \\cdot x +b$. Grundsätzlich sollte man den Typ der Fit-Funktion $y = f(x)$ immer vorher festlegen und auch begründen können. Es ist keine wissenschaftlicher oder messtechnische Vorgehensweise alle möglichen Funktionen nur auf Verdacht *auszuprobieren* und sich für die besten entscheiden. Hierbei wäre es möglich, dass unbrauchbare Näherungen pder sogar falsche (unsinnige) und nicht-wissenschaftlicher Ergebnisinterpretationen auftreten könnten, was es zu vermeiden gilt. \n",
    "\n",
    "Zusammengefasst suchen wir nun also ein bestimmtes Modell für ein bestimmtes Set an Daten und wollen die Modellparameter bestimmen. Dabei soll das Modell möglichst gut die Messdaten vorhersagen. Die Modellanpassung wird häufig über die Methode der kleinsten Quadrate verwendet, mit welcher sich fast alle Messdaten modellieren lassen (auch kompliziertere Situationen wie beispielsweise korrelierte Unsicherheiten). "
   ]
  },
  {
   "cell_type": "markdown",
   "metadata": {},
   "source": [
    "## Inhalt\n",
    "***\n",
    "\n",
    "### [Modellanpassung: Methode der kleinsten Fehlerquadrate](#Sec-Modellanpassung)\n",
    "\n",
    "### [Lineare Modellanpassung](#Sec-Lineare_Modellanpassung)\n",
    "* [Beispiel und Code einer Funktionsanpassung](#SubSec-Beispiel_Code_Funktionsanpassung)\n",
    "\n",
    "### [Modellanpassung mit Unsicherheiten](#Sec-Modellanpassung_unsicherheiten)\n",
    "\n",
    "### [Zusammenfassung](#Sec-Zusammenfassung)"
   ]
  },
  {
   "cell_type": "markdown",
   "metadata": {},
   "source": [
    "***\n",
    "## Modellanpassung: Methode der kleinsten Fehlerquadrate <a id=\"Sec-Modellanpassung\"></a>\n",
    "\n",
    "Um ein Regressionsmodell zu berechnen, benötigen wir ein objektives Maß um die Zuverlässigkeit und Güte unsere Modellfunktion zu bestimmen. Dies nennt man auch das **Bestimmtsheitsmaß**, bzwl. auf englisch **coefficient of determination** oder **goodness of fit**. Dieses Maß \n",
    "* bestimmt die Verkleinerung des Vorhersagefehlers der Ausgangsgröße $y$\n",
    "* definiert die Größe der Streuung von $y$\n",
    "* zeigt die Qualität der linearen Regression, aber nicht ob das Modell richtig ist\n",
    "* sagt nichts über die statistische Signifikanz des ermittelten Zusammenhangs der einzelnen Regressoren aus (Signifikanztest notwendig)\n",
    "\n",
    "<div>\n",
    "<img src=\"pictures/kleinste_quadrate.png\" align = \"right\" width=\"400\"/>\n",
    "</div>\n",
    "\n",
    "Als erstes soll überprüft werden, inwiefern die Funktion oder das Modell mit den Messdaten übereinstimmt. Ausgangspunkt ist also unsere Messreihe mit $N$ Messpunkten $(x_i, y_i)$ und wir haben eine Funktion $f(x_i)$ definiert, die die Messwerte $y_i$ möglichst gut vorhersagen soll. Laut Carl Friedrich Gauß kann der Abstand der Funktionswerte zu den Messwerten wievolgt definiert werden:\n",
    "\n",
    "> Methode der Gauß'schen Fehlerquadrate (Gütefunktion): \n",
    "$$Q := \\sum_{i=1}^N \\left( f(x_i) - y_i\\right)^2 :=  \\sum_{i=1}^N r_i^2 = \\mathrm{min!}$$\n",
    "\n",
    "In der nebenstehenden Grafik (geborgt von [Wikipedia](https://de.wikipedia.org/wiki/Methode_der_kleinsten_Quadrate)), sind Messpunkte in blau und eine Modellfunktion in rot aufgezeichnet. Die Parameter der gesuchten Modellfunktion werden nun so bestimmt, dass die Summe der einzelnen Abweichungsquadrate, also das Quadrat der Residuen $r = \\left( f(x_i) - y_i\\right)$ minimal ist. \n",
    "Es handelt sich um ein *Minimierungsproblem* welches je nach Art der Modellfunktion unterschiedlich gelöst wird. "
   ]
  },
  {
   "cell_type": "markdown",
   "metadata": {},
   "source": [
    "## Lineare Modellanpassung <a id=\"Sec-Lineare_Modellanpassung\"></a>\n",
    "\n",
    "<div>\n",
    "<img src=\"pictures/lin_reg.png\" align = \"right\" width=\"500\"/>\n",
    "</div> \n",
    "\n",
    "Da wir als Messtechniker immer danach streben möglichst lineare Kennlinien zu erreichen, ist die Gerade eine häufig auftretende Kurve, die angepasst werden soll. Daher wollen wir uns in diesem Abschnitt mit der Herleitung der linearen Regression befassen. Die Herleitung für andere Modellfunktionen, welche quadratische Terme, noch höhere Terme oder ganz andere Zusammenhänge beinhalten, ist auch deutlich schwieriger.\n",
    "\n",
    "Unser Ausgangspunkt ist also eine Gerade der Form \n",
    "\n",
    "$$f(x) = mx + b$$\n",
    "\n",
    "Die Parameter $m$ und $b$ werden nun durch das Minimierungsproblem bestimmt mithilfe der Gütefunktion, die nun wiefolgt geschrieben werden kann:\n",
    "\n",
    "$$Q = \\sum_{i = 1}^{N} (y_i - f(x_i))^2 = \\sum_{i = 1}^{N} (y_i - mx_i - b)^2 = \\mathrm{min!}$$\n",
    "\n",
    "wobei $y_i$ und $x_i$ die Messwerte (Datenpunkte) sind. \n",
    "\n",
    "Durch Differentation nach den Parametern und gleichsetzen auf Null können die Parameter bestimmt werden:\n",
    "\n",
    "$$\\frac{dQ}{dm} = -2 \\sum_{i = 1}^{N} x_i (y_i - mx_i - b) = 0$$\n",
    "\n",
    "$$\\frac{dQ}{db} = -2 \\sum_{i = 1}^{N} (y_i - mx_i - b) = 0$$\n",
    "\n",
    "Nach Umstellen der beiden Ableitungen gelangt man zu folgenden Gleichungssystem:\n",
    "\n",
    "$$m\\sum_{i = 1}^{N} x_i^2 + b\\sum_{i = 1}^{N}x_i  = \\sum_{i = 1}^{N}x_i y_i$$\n",
    "\n",
    "$$m\\sum_{i = 1}^{N} x_i + N b  = \\sum_{i = 1}^{N} y_i$$\n",
    "\n",
    "Auflösen nach den gesuchten Parameter erhält man folgende Gleichungen für die gesuchten Regressionsgerade:\n",
    "\n",
    "$$ m = \\frac{N \\cdot \\sum_{i=1}^N (x_i y_i) - \\sum_{i=1}^N x_i \\sum_{i=1}^N y_i}{N \\cdot \\sum_{i=1}^N x_i^2 - \\left( \\sum_{i=1}^N x_i\\right)^2}$$\n",
    "\n",
    "$$b = \\frac{\\sum_{i=1}^N y_i - m \\sum_{i=1}^N x_i}{N}$$"
   ]
  },
  {
   "cell_type": "markdown",
   "metadata": {},
   "source": [
    "### Beispiel und Code einer Funktionsanpassung <a id=\"SubSec-Beispiel_Code_Funktionsanpassung\"></a>\n",
    "\n",
    "Wir haben folgende Messwerte gegeben:"
   ]
  },
  {
   "cell_type": "code",
   "execution_count": 2,
   "metadata": {},
   "outputs": [],
   "source": [
    "y = [11.55, 9.8, 9.82, 9.15, 10.57, 9.58, 10.44, 10.55, 8.23, 10.93] #Messwerte y_i"
   ]
  },
  {
   "cell_type": "markdown",
   "metadata": {},
   "source": [
    "An diese Daten soll eine konstante Funktion angepasst werden (also die Mittelung der Messwerte). Die Funktion definieren als $f(x) =c$. Die Gütefunktion wird wiefolgt definiert:"
   ]
  },
  {
   "cell_type": "code",
   "execution_count": 3,
   "metadata": {},
   "outputs": [],
   "source": [
    "y = np.array(y) #konvertiere die Messwerte in ein Numpy-Array\n",
    "def Q(y,c):\n",
    "    return ((y-c)**2).sum()"
   ]
  },
  {
   "cell_type": "markdown",
   "metadata": {},
   "source": [
    "Die Minimierung kann einfach ausgeführt werden, indem die Gütefunktion für verschiedene Funktionsparameter ($c$) ausprobiert wird, im Folgenden werden für $c$ 100 Werte zwischen 8 und 12 ausprobiert:"
   ]
  },
  {
   "cell_type": "code",
   "execution_count": 4,
   "metadata": {},
   "outputs": [],
   "source": [
    "Q_c = []\n",
    "c_val = np.linspace(8,12,100)\n",
    "for c in c_val:\n",
    "    Q_c.append(Q(y,c))"
   ]
  },
  {
   "cell_type": "markdown",
   "metadata": {},
   "source": [
    "Die Suche nach dem Minimum erfolgt mit der Funktion 'np.argmin()' und der Wert bei der ID wird ausgegeben:"
   ]
  },
  {
   "cell_type": "code",
   "execution_count": 5,
   "metadata": {},
   "outputs": [
    {
     "name": "stdout",
     "output_type": "stream",
     "text": [
      "Minimum ist bei  10.06060606060606\n"
     ]
    }
   ],
   "source": [
    "id_min = np.argmin(Q_c)\n",
    "print(\"Minimum ist bei \", c_val[id_min])"
   ]
  },
  {
   "cell_type": "code",
   "execution_count": 6,
   "metadata": {},
   "outputs": [
    {
     "data": {
      "image/png": "[encoded data removed]",
      "text/plain": [
       "<Figure size 432x288 with 1 Axes>"
      ]
     },
     "metadata": {
      "needs_background": "light"
     },
     "output_type": "display_data"
    }
   ],
   "source": [
    "plt.figure()\n",
    "plt.plot(c_val, Q_c)\n",
    "plt.xlabel('c')\n",
    "plt.ylabel('Q(c)')\n",
    "plt.show()"
   ]
  },
  {
   "cell_type": "markdown",
   "metadata": {},
   "source": [
    "**Analytische Lösung:**\n",
    "\n",
    "Das eben betrachtete einfache Problem lässt sich auch analytisch lösen. \n",
    "\n",
    "- $Q(c)=\\displaystyle \\sum_{i=1}^{N=10} (y_i - c)^2$\n",
    "- $0 = \\frac{dQ}{dc} = \\displaystyle \\sum_{i=1}^{N} -2 (y_i -c) $\n",
    "  > $\\Rightarrow  \\displaystyle {\\hat c}=\\frac{1}{N}\\sum_{i=1}^{N} y_i $\n",
    "  \n",
    "Es ist wenig erstaunlich, dass wir als Ergebnis genau die Formel für den Mittelwert erhalten."
   ]
  },
  {
   "cell_type": "markdown",
   "metadata": {},
   "source": [
    "## Modellanpassung mit Unsicherheiten <a id=\"Sec-Modellanpassung_unsicherheiten\"></a>\n",
    "\n",
    "Im allgemeinen Fall, d.h. wenn die Messwerte $y_i$ mit Unsicherheiten $s_i$ behaftet sind, lässt sich die Residuensumme wiefolgt definieren:\n",
    "\n",
    "$$S = \\sum_{i=1}^N \\left(\\frac{f(x_i)-y_i}{s_i}\\right)^2$$\n",
    "\n",
    "Für die obigen Berechnungen, und auch im Falle von konstanten Unsicherheiten, d.h. wenn für alle Werte von $y_i$ die gleiche absolute Unsicherheit existiert, ändert sich nichts. Denn es gilt $s_i = s = \\mathrm{const}$ und beim \"Nullsetzen\" einfach eliminiert werden.\n",
    "Gelten für die $N$ Messwerte allerdings unterschiedliche Unsicherheiten, so müssen diese natürlich miteinbezogen werden. \n",
    "\n",
    "Anhand des Beispiels der *Mittelwertbildung* von eben, wollen wir uns dieses Szenario noch einmal genauer ansehen. \n",
    "Es gilt nun also folgendes für unsere Messung:"
   ]
  },
  {
   "cell_type": "code",
   "execution_count": 7,
   "metadata": {},
   "outputs": [],
   "source": [
    "y = [11.55, 9.8, 9.82, 9.15, 10.57, 9.58, 10.44, 10.55, 8.23, 10.93] #Messwerte y_i\n",
    "s_y = [0.8, 0.9, 0.9, 1.1, 1.0, 1.2, 0.7, 1.1, 1.0, 0.9] #Unsicherheiten s_i"
   ]
  },
  {
   "cell_type": "markdown",
   "metadata": {},
   "source": [
    "Im allgemeinem gilt, je kleiner die Unsicherheit eines Messwertes ist, desto wichtiger ist dieser Messwert für die Mittelwertbildung. Die analytische Lösung würde wiefolgt aussehen:\n",
    "\n",
    "  -  $S(c) = \\displaystyle\\sum_{i=1}^{N} \\frac{(y_i -c)^2}{{s_i}^2}$\n",
    "  -  $0= \\frac{dS}{dc} = \\displaystyle\\sum_{i=1}^{N} \\frac{2 (y_i -c)}{{s_i}^2}$\n",
    "  >  $\\Rightarrow {\\hat c} = \\frac{1}{\\sum{1/s_i}^2}\n",
    "     \\displaystyle\\sum_{i=1}^{N}\\frac{1}{{s_i}^2}y_i $  \n",
    "\n",
    "Mit der Definition $ w_i \\equiv \\frac{1} {{s_i}^2}$ erhalten wir als wichtiges\n",
    "Ergebnis die Formel für den *gewichteten Mittelwert*:\n",
    ">  ${\\hat c}= \\frac{1} {\\sum {w_i}} \\displaystyle\\sum_{i=1}^{N}  {w_i} y_i$  \n",
    "\n",
    "Der Mittelwert ist die mit $1/s_i^2$ gewichtete Summe der Einzelmessungen. \n",
    "Die Gewichte entsprechen der obigen Erwartung: Messwerte mit den kleinsten $s_i$\n",
    "bekommen bei der Mittelwertbildung das größte Gewicht. Am Vorfaktor $1/\\sum w_i$ kann\n",
    "man ablesen, dass die Zahl der Messwerte $N$ in diesem Fall durch die Summe der Gewichte\n",
    "$\\sum w_i$ ersetzt werden muss."
   ]
  },
  {
   "cell_type": "code",
   "execution_count": 8,
   "metadata": {},
   "outputs": [
    {
     "name": "stdout",
     "output_type": "stream",
     "text": [
      "Minimum ist bei  10.141414141414142\n"
     ]
    },
    {
     "data": {
      "image/png": "[encoded data removed]",
      "text/plain": [
       "<Figure size 432x288 with 1 Axes>"
      ]
     },
     "metadata": {
      "needs_background": "light"
     },
     "output_type": "display_data"
    }
   ],
   "source": [
    "y = np.array(y) #konvertiere die Messwerte in ein Numpy-Array\n",
    "s_y = np.array(s_y) #konvertiere die Unsicherheiten in ein Numpy-Array\n",
    "\n",
    "def S(y,c):\n",
    "    return ((y-c)**2 / s_y).sum()\n",
    "\n",
    "S_c = []\n",
    "c_val = np.linspace(8,12,100)\n",
    "for c in c_val:\n",
    "    S_c.append(S(y,c))\n",
    "    \n",
    "id_min = np.argmin(S_c)\n",
    "print(\"Minimum ist bei \", c_val[id_min])\n",
    "\n",
    "plt.figure()\n",
    "plt.plot(c_val, Q_c)\n",
    "plt.xlabel('c')\n",
    "plt.ylabel('Q(c)')\n",
    "plt.show()"
   ]
  },
  {
   "cell_type": "markdown",
   "metadata": {},
   "source": [
    "***\n",
    "## Zusammenfassung <a id=\"Sec-Zusammenfassung\"></a>\n",
    "\n",
    "| Begriff | Definition | \n",
    "| --- | --- |\n",
    " | Regression | statistisches Analyseverfahren zur Feststellung funktionaler Beziehungen zwischen einer abhängigen und einer oder mehreren unabhängigen Variablen | "
   ]
  }
 ],
 "metadata": {
  "kernelspec": {
   "display_name": "Python 3",
   "language": "python",
   "name": "python3"
  },
  "language_info": {
   "codemirror_mode": {
    "name": "ipython",
    "version": 3
   },
   "file_extension": ".py",
   "mimetype": "text/x-python",
   "name": "python",
   "nbconvert_exporter": "python",
   "pygments_lexer": "ipython3",
   "version": "3.8.5"
  }
 },
 "nbformat": 4,
 "nbformat_minor": 4
}
