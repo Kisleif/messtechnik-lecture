{
 "cells": [
  {
   "cell_type": "markdown",
   "metadata": {},
   "source": [
    "---\n",
    "Zurück zur Übersicht | [Inhalt](00_Inhalt.ipynb)\n",
    "\n",
    "---"
   ]
  },
  {
   "cell_type": "code",
   "execution_count": 11,
   "metadata": {},
   "outputs": [],
   "source": [
    "# Für diese Notebook benötigte Pakete:\n",
    "import sys, os\n",
    "import numpy as np\n",
    "import matplotlib.pyplot as plt"
   ]
  },
  {
   "cell_type": "markdown",
   "metadata": {},
   "source": [
    "# Messabweichungen"
   ]
  },
  {
   "cell_type": "markdown",
   "metadata": {},
   "source": [
    "Aufgabe der Messtechnik ist es physikalische Messgrößen quantitativ zu beobachten und ist somit wichtiger Bestandteil in der Physik. Eine *quantitative* Beschreibung bedeutet immer, dass eine Messgröße mit einem Zahlenwert, $y$, und einer Maßeinheit, $E$, ausgedrückt wird, wie wir es in der [Vorlesung 1 (Einleitung)](Einleitung.ipynb) kennen gelernt haben. Was sich beim Messen nicht umgehen lässt, und was der ein oder andere sicherlich schon im Praktikum beobachten konnte, ist, dass Beobachtungen immer statistischen (zufälligen) Schwankungen unterliegen. Dies führt dazu, dass sich das Messergebnis immer verändert. Genau diese Schwankungen, bzw. Abweichungen zum *wahren* Wert, sollen in diesem Kapitel erläutert werden. Außerdem werden Verfahren gezeigt, mittels welcher die Abweichung einer Messgröße abgeschätzt werden kann und muss. \n",
    "\n",
    "### DIN-Normen\n",
    "<a id=\"SubSec-DIN\"></a>\n",
    "\n",
    "Die DIN-Norm DIN 1319 ist DIE grundlegende Norm für die Messtechnik.\n",
    "\n",
    "* **DIN 1319-1**: Grundbegriffe der Messtechnik: Diese Norm definiert die Grundbegriffe.\n",
    "* **DIN 1319-2**: Begriffe für Messmittel: Diese Norm definiert die Begriffe für die Messmittel und deren Anwendung. \n",
    "* **DIN 1319-3**: Auswertung von Messungen einer einzelnen Messgröße: Diese Norm beinhaltet alle nötigen Informationen um einen Messwert einer einzelnen Messgröße inkl. dessen Messunsicherheit anzugeben. Hier können Verfahren nachgelesen werden, wie vorgegangen werden soll, wenn eine Messgröße direkt, oder mit einer gegebenen Funktion ermittelt wird. \n",
    "* **DIN 1319-4**: Auswertung von Messungen: Diese Norm wird in allgemeineren Fällen anstellen von DIN 1319-3 angewandt, z.B. wenn lineare Regressionen durchzuführen sind oder mehrere Messgrößen gemeinsam als Funktion anderer Größen auszuwerten sind. \n",
    "* **GUM**: Guide to the Expression of Uncertainty in Measurement"
   ]
  },
  {
   "cell_type": "markdown",
   "metadata": {},
   "source": [
    "## Inhalt\n",
    "***\n",
    "\n",
    "\n",
    "### [Einleitung](#Sec-Einleitung)\n",
    "* [Quantenmechanische Grenzen](#SubSec-Quantenmechanische_Grenzen)\n",
    "* [Technische Einflüsse](#SubSec-Technische_Einflüsse)\n",
    "* [Überblick über Mess*fehler*](#SubSec-Überblick_über_Messfehler)\n",
    "* [Schreibweise eines Messwertes mit Messabweichung](#SubSec-Schreibweise_eines_Messwertes_mit_Messabweichung)\n",
    "* [Messgeräteangaben von Messabweichungen](#SubSec-Messgeräteangaben_von_Messabweichungen)\n",
    "* [Bedeutung von Messunsicherheiten](#SubSec-Bedeutung_von_Messunsicherheiten)\n",
    "\n",
    "### [Systematische Messabweichungen](#Sec-Systematische_Messabweichungen)\n",
    "* [Korrekturverfahren systematischer Messabweichungen](#SubSec-Korrekturverfahren_systematischer_Messabweichungen)\n",
    "\n",
    "***"
   ]
  },
  {
   "cell_type": "markdown",
   "metadata": {},
   "source": [
    "## Einleitung\n",
    "<a id=\"Sec-DIN\"></a>\n",
    "\n",
    "Früher hat man statt *Abweichung* noch den Begriff *Messfehler* verwendet. Man dachte, dass man mit genügend Aufwand, Sorgfalt und bestmöglicher Technologie den Fehler vollständig eliminieren können. Spätestens seit der Theorie der *Quantenphysik* ist uns allerdings bekannt, dass zufällige Einflüsse auf die beobachteten Messgrößen  unvermeidlich sind und auch nicht vorhergesagt werden können. Statt eines einzig *wahren* Wertes werden in der Quantenphysik Messgrößen durch deren Erwartungswerte vorhergesagt. Diesen Messgrößen liegt eine Wahrscheinlichkeitsdichte zu Grunde, dessen Varianz (bzw. Standardabweichung) nicht verschwindet! Somit werden für ein und dieselbe physikalische Messgröße verschiedene Ergebnisse angegeben, wobei jedes eine bestimmte Wahrscheinlichkeit aufweist, dass dieses Ergebnis eintritt.  "
   ]
  },
  {
   "cell_type": "markdown",
   "metadata": {},
   "source": [
    "### Quantenmechanische Grenzen\n",
    "<a id=\"SubSec-Quantenmechanische_Grenzen\"></a>\n",
    "\n",
    "Beispiele aus der Quantenphysik sind z.B. die Messung der mittleren Lebensdauer eines atomaren Zustandes, eines radioaktiv zerfallenden Kerns oder Elementarteilchens. Bei Quantenteilchen sind ebenfalls Ort und Impuls nicht gleichzeitig bestimmbar. Doch auch in klassischen Systemen, die uns im Praktikum begegenen werden, sind solche Effekte sichtbar, wodurch man schlussfolgern kann, dass im Prinzip jeder Art von Beobachtungsmethode schlussendlich auf quantenmechanischen Grenzen aufliegen wird, natürlich nachdem alle klassischen bzw. technischen *Rauschquellen* auf dieses Quantenlimit reduziert wurden. Ein bekanntes Beispiel ist das **Schrotrauschen** (auch Poissonsches Schrotrauschen oder Schottky-Rauschen), was sowohl in der Elektronik als auch in der Optik auftritt. Stromfluss, oder Lichtstrahlen, setzen sich aus einzelnen Teilchen zusammen (Elektronen, bzw. Photonen). \n",
    "\n",
    "* **Elektrisches Schrotrauschen** kommt dadurch zustande, dass der Teilchenfluss Potentialbarrieren überwinden muss (Widerstände, PN-Übergänge in Dioden, ...). Die Überwindung der Barriere geschieht nicht gleichmäßig, sondern ist vielmehr ein zufälliger Prozess. Würde man makroskopische Strommessungen durchführen würde man gewisse Schankungen im Stromfluss beobachten. Das gemittels Quadrat der Rauschstroms lässt sich durch folgende Gleichung beschreiben und ist abhängig von $e$ der Elementarladung, $I$ der im Leiter fließende Strom und $\\Delta f$ der Bandbreite der Messung, aber *unabhängig* von der Temperatur, wodruch es sich tatsächlich vom thermischen Rauschen (dem Johnson-Nyquist-Rauschen) unterscheiden lässt.\n",
    "\n",
    "$$\\overline{i^2_{\\text{Rausch}}} = 2 e I \\Delta f$$\n",
    "\n",
    "* **Optisches Schrotrauschen** beschreibt die Abweichung der Leistung einer idealen, monochromatischen Strahlungsquelle. Aufgrund der Quantisierung des Lichts in Photonen ist die optische Leistung nicht völlig konstant. Das gemittelte Quadrat der Leistungsabweichungen lässt sich durch die folgende Gleichung beschreiben, mit $h$ dem Planckschen Wirkungsquantum, $\\nu$ die Frequenz der Strahlung (Größenordnung 10$^{14}$ Hz) und $\\Delta f$ der Bandbreite der Messung:\n",
    "\n",
    "$$\\overline{\\Delta p^2} = 2 h \\nu P \\Delta f$$"
   ]
  },
  {
   "cell_type": "markdown",
   "metadata": {},
   "source": [
    "### Technische Einflüsse\n",
    "<a id=\"SubSec-Technische_Einflüsse\"></a>\n",
    "\n",
    "Trotzdem sind wesentliche Effekte für Messabweichungen abhängig von Geschick und Aufwand, die der Hersteller bei Entwicklung und Fertigung investiert und können technische Rauschquellen weitesgehend minimiert werden, bis ultimative Grenzen erreicht werden. Im letzten Kapitel haben wir gesehen, dass Abweichungen durch Nichtlinearitäten in der Kennlinie auftreten. Nichtlineare Sensorphysik oder Analogelektronik können mittels bestimmten Aufwand verbessert werden. Auch können Werkstoffeigenschaften vorher separat gemessen werden und Fertigungsstreuungen evtl. minimiert werden. \n",
    "Anwendungsseitig treten häufig Störgrößen aus, die ebenfalls einen deutlischen Einfluss auf die Kennlinie haben. Eine der wichtigsten Störgrößen ist meist die Umgebungstemperatur oder Luftfeuchtigkeit. Das einfachste Beispiel ist hier der Messapparat zur Druckmessung. Bei der Messung des Drucks werden häufig unterschiedliche Messwerte erzielt, da dieser sehr stark von den Umgebungsparametern abhängt. Je nachdem wo das Messsystem aufgebaut wird und wo sich der Sensor befindet können die Randbedingungen andere sein als die, wo sich z.B. die Messelektronik befindet. "
   ]
  },
  {
   "cell_type": "markdown",
   "metadata": {},
   "source": [
    "### Überblick über Mess*fehler*\n",
    "<a id=\"SubSec-Überblick_über_Messfehler\"></a>\n",
    "\n",
    "Allgemein gilt, möglichst alle Einflüsse zu vermeiden, um das bestmöglichste Messergebnis zu erhalten. Dies ist aber nicht möglich und es werden zwangsläufig *Fehler* gemacht, ohne dass man etwas dagegen zun kann. Die Problemstellung besteht beim Messen also darin, den Wert $y$ einer Größe, die mich gerade interessiert, aus einer oder auch mehreren Messgrößen $x_i$ zu bestimmen. Das heißt die gesuchte Größe ist in irgendeiner Art und Weise abhängig von diesen Messgrößen: $y(x_1,...,x_n)$. Mittels der Messung von Spannung und Stromstärke kann man z.B. den ohmschen Widerstand $R = R(U,I) = U/I$ bestimmen. \n",
    "\n",
    "Jede Eingangröße ($x_i$) besitzt eine Unsicherheit, welcher unvermeidar und zufällig ist. Damit wird die abgeleitet Größe $y$ ebenfalls eine Unsicherheit besitzen. Diese Unsicherheit gilt es zu bestimmen. \n",
    "\n",
    "Im Allgemeinen wollen wir zwischen zwei Arten von Unsicherheit / Abweichung unterscheiden:\n",
    "* **Systematische Fehler:** Diese Fehler sind reproduzierbar unter gleichen Messbedingungen und können (sollen!) korrigiert oder beachtet werden. Diese werden durch nicht-perfekte Geräte und Messverfahren hervor gerufen.\n",
    "* **Zufällige Fehler:** Diesen Fehler kennt man nicht, er ist folglich nicht korrigierbar und lässt sich auch nicht reproduzieren unter gleichen Messbedingungen. Hier sind wiederholte Messungen und statistische Analysen notwendig, wodurch Mittelwert und Standardabweichung von sogenannten *Stichproben* ermittelt wird. \n",
    "\n",
    "Das nachfolgende Bild zeigt eine Visualisierung dieser beiden Fehlertypen. Der grüne Punkt in der Mitte der Zielscheibe soll den *wahren* Wert veranschaulichen.\n",
    "\n",
    "<div>\n",
    "<img src=\"pictures/messfehler.png\" width=\"800\"/>\n",
    "</div> \n",
    "\n",
    "Dann gibt es noch der Vollständigkeitshaler die **dynamischen Fehler**. Jedes Messsystem braucht eine bestimmte Zeit, um sich auf einen bestimmten Messwert einzupedeln. Dies nennt man auch die Latenzzeit, oder die Trägheit, eines Messsystems. Es besteht also die Möglichkeit, dass man *zu früh misst*, und das Messsystem den zu messenden Wert noch gar nicht richtig anzeigen kann. \n",
    "\n",
    "**Quantisierungsfehler** entstehen beim Prozess des Digitalisierens der Messwerte. Da nur eine endliche Anzahl von Möglichkeiten besteht einen analogen Messwert darzustellen (abhängig von der Anzahl der verwendet Bits) gehen bei diesem Prozess *immer* Informationen verloren.  "
   ]
  },
  {
   "cell_type": "markdown",
   "metadata": {},
   "source": [
    "### Schreibweise eines Messwertes mit Messabweichung\n",
    "<a id=\"SubSec-Schreibweise_eines_Messwertes_mit_Messabweichung\"></a>\n",
    "\n",
    "Die **Gesamt-Messabweichung** einer Messgröße setzt sich also wiefolgt zusammen:\n",
    "\n",
    "$$A = A_r + A_s$$\n",
    "\n",
    "wobei $A_r$ zufällige und $A_s$ systematische Messabweichungen sind. Ein Messwert setzt sich also zusammen aus dem *wahren* oder *richtigen* Wert, den wir niemals kennen werden, und der Messabweichung und es gelten folgende Zusammenhänge:\n",
    "\n",
    "* Der **ermittelte Messwert** lässt sich wiefolgt schreiben, wobei $x_r$ der *richtige*, aber uns unbekannte, Wert ist. $A$ ist die Messabweichung: \n",
    "\n",
    "$$x = x_R + A$$\n",
    "\n",
    "* Die **absolute Messabweichung** ergibt sich aus Umstellen der Gleichung:\n",
    "\n",
    "$$A = x - x_R = \\Delta x$$\n",
    "\n",
    "* Bei der Angabe **relativen Messabweichung** wird die Messabweichung auf einen Referenzwert, $r$, bezogen, der entweder der Messwert selber ist ($r = x$), oder manchmal auch die Spanne ($r = x_\\mathrm{max} - x_\\mathrm{min}$) oder Maximalwert ($r = x_\\mathrm{max}$):\n",
    "\n",
    "$$ A_\\mathrm{rel} = \\frac{A}{r} = \\frac{\\Delta x}{r}$$\n",
    "\n",
    "\n",
    "Ein Messwert wird dann in folgender Schreibweise dargestellt ($E$ ist die Maßeinheit) und $\\Delta x = A$:\n",
    "\n",
    "$$X = (x \\pm \\Delta x) \\cdot E$$\n",
    "\n",
    "Für die Darstellung einer Spannung könnte sich beispielsweise folgender Messwert ergeben:\n",
    "\n",
    "$$ U = (1 \\pm 0.3)\\,\\mathrm V = 1\\rm V \\pm 30\\%$$\n",
    "\n",
    "Die grafische Darstellung eines solchen Messwertes in einem Diagramm kann im folgenden Code-Block ausgeführt werden:"
   ]
  },
  {
   "cell_type": "code",
   "execution_count": 28,
   "metadata": {},
   "outputs": [
    {
     "data": {
      "image/png": "[encoded data removed]",
      "text/plain": [
       "<Figure size 360x360 with 1 Axes>"
      ]
     },
     "metadata": {
      "needs_background": "light"
     },
     "output_type": "display_data"
    }
   ],
   "source": [
    "# diesen Code durch Eingabe von <shift><ret> ausführen\n",
    "\n",
    "x = [1.0]  # Datenwerte für x-Achse, hier Nr der Messung\n",
    "y = [1.0]  # Messwert (Datenpunkt)\n",
    "delta_y = [0.3] # Messabweichung\n",
    "\n",
    "# Diagrammdarstellung:\n",
    "plt.figure(1, figsize=(5.,5.))\n",
    "plt.errorbar(x, y, yerr=delta_y, fmt='bo')\n",
    "plt.xlim(0.5, 1.5)\n",
    "#plt.ylim(0.,1.1*(max(y)+max(delta_y)))\n",
    "plt.ylabel(\"U (V)\")\n",
    "plt.xlabel(\"Nr. der Messung\")\n",
    "plt.show()"
   ]
  },
  {
   "cell_type": "markdown",
   "metadata": {},
   "source": [
    "### Bedeutung von Messunsicherheiten \n",
    "<a id=\"SubSec-Bedeutung_von_Messunsicherheiten\"></a>\n",
    "\n",
    "Dass Messunsicherheiten bekannt sind und immer zu einem Messwert mitangegeben werden sollten, ist von sehr großer Wichtigkeit in der Messtechnik. Ähnlich wie die Einheit, ohne welche ein Zahlenwert keine Aussagekraft besitzt, gibt die Angabe der Messabweichung die Qualität der Messung an. Als Beispiel gucken wir uns zwei Messungen der Wellenlänge eines Lasers an. In beiden Fällen wurde der gleiche Wert ermittelt, aber es wurden unteschiedliche Unsicherheiten angegeben:\n",
    "\n",
    "$$\\displaystyle\n",
    "\\begin{array}{ll}\n",
    "{\\rm Messung\\,1:\\,} \\lambda = & (1065 \\pm 1.5) \\rm{nm} \\\\\n",
    "{\\rm Messung\\,2:\\,} \\lambda = & (1065 \\pm 0.1) \\rm{nm} \\\\\n",
    "\\end{array}$$"
   ]
  },
  {
   "cell_type": "code",
   "execution_count": 27,
   "metadata": {},
   "outputs": [
    {
     "data": {
      "image/png": "[encoded data removed]",
      "text/plain": [
       "<Figure size 432x360 with 1 Axes>"
      ]
     },
     "metadata": {
      "needs_background": "light"
     },
     "output_type": "display_data"
    }
   ],
   "source": [
    "# diesen Code durch Eingabe von <shift><ret> ausführen\n",
    "\n",
    "wl_m=[1065, 1065] # Messung der Wellenlänge in nm\n",
    "delta_wl=[1.5, 0.1] # Unsicherheit der Wellenlängenmessung in nm\n",
    "wl_r=1064 # wahrer / richtiger Wert der Wellenlänge des Lasers in nm\n",
    "\n",
    "plt.figure(1, figsize=(6.,5.))\n",
    "plt.errorbar([1, 2], wl_m, yerr=delta_wl, fmt='bo')\n",
    "\n",
    "plt.axhline(wl_r, color='darkred', linewidth=3)\n",
    "plt.text(0.55, 1064.1, 'wahrer Wert', color='darkred') \n",
    "\n",
    "plt.ylabel(r\"$\\lambda$ (nm)\")\n",
    "plt.xlabel(\"Nr. der Messung\")\n",
    "plt.title(\"Messungen der Wellenlänge\")\n",
    "# noch einige Verschönerungen:\n",
    "plt.xlim(0.5, 2.5)\n",
    "ax=plt.gca()\n",
    "ax.locator_params(nbins=3)\n",
    "plt.grid()\n",
    "\n",
    "plt.show()"
   ]
  },
  {
   "cell_type": "markdown",
   "metadata": {},
   "source": [
    "Nur einer der beiden Messwerte überlappt mit dem *richtigen* Wert der Wellenlänge des Lasers von 1064 nm. Der Fehlerbalken der zweiten Messung hingegen ist weit davon entfernt, in den *richtigen* Bereich überzulappen. D.h. es existiert hier ein Widerspruch zu vorherigen Messungen, die den wahren Wert kennzeichneten. Würde es sich hierbei nicht um die Messung der Wellenlänge, sondern um die einer Natur*konstante* handeln, gäbe es sogar einen Widerspruch zum SI-Einheitensystem. "
   ]
  },
  {
   "cell_type": "markdown",
   "metadata": {},
   "source": [
    "## Systematische Messabweichungen\n",
    "<a id=\"Sec-Systematische_Messabweichungen\"></a>\n",
    "\n",
    "Systematische Messabweichungen sollten in aller Regel am besten korrigiert werden, wenn dies möglich ist. Ansonsten sollte mindestens eine Angabe der Messabweichung erfolgen. Dies ist beispielsweise der Fall bei den Genauigkeitsangaben des Herstellers, mit denen man sich zwangsfläufig zufrieden geben muss. "
   ]
  },
  {
   "cell_type": "markdown",
   "metadata": {},
   "source": [
    "Messgeräte werden anhand ihrer Genauigkeit in Klassen eingruppiert. Die Klasse entspricht der relativen Messabweichung. Präzisionsmessgeräte besitzen somit Abweichungen die zwischen 0,001% und 0,05% liegen.\n",
    "\n",
    "<div>\n",
    "<img src=\"pictures/hersteller_abweichung.png\" width=\"800\"/>\n",
    "</div> "
   ]
  },
  {
   "cell_type": "markdown",
   "metadata": {},
   "source": [
    "Allgemein geht man so vor, dass man versucht das Messgerät im Messaufbau so zu verwenden, wie es der Hersteller im normalen Betrieb vorgesehen hat. Das heißt es sind keine aufwändigen Vorarbeiten nötig und man erhält schnell ein Ergebnis, welches eine Genauigkeit entsprechend der Herstellerangaben aufweist. Um dieses Ergebnis zu verbessern, also um eine Reduzierung der Messabweichung des Geräts zu reduzieren, kann das Messgerät vorab kalibriert werden. Ein aussagekräftiges Ergebnis mit verbesserter Genauigkeit erhält man allerdings erst dann, wenn die externen Einflüsse reproduzierbar sind. Das bedeutet nicht, dass diese physikalischen Gesetzmäßigkeiten dem Verwender bekannt sein müssen, sie dürfen sich lediglich nicht ändern. Die Messabweichung, über die wir hier sprechen, ist die sogenannten **systematische** Messabweichung. Sie kann durch Aufwand und Kalibration verbessert werden. Wird eine Messabweichung durch zufällig variierende externe Einflüsse hervorgerufen, also z.B. durch weißes, elektronisches Rauschen, so spricht man von **statistischen** oder **zufälligen** Messabweichungen. Diese können *nicht* durch Kalibrierung minimiert werden. "
   ]
  },
  {
   "cell_type": "markdown",
   "metadata": {},
   "source": [
    "### Korrekturverfahren systematischer Messabweichungen \n",
    "<a id=\"SubSec-Korrekturverfahren_systematischer_Messabweichungen \"></a>\n",
    "\n",
    "<div>\n",
    "<img src=\"pictures/offset_korrektur.png\" align = \"right\" width=\"420\"/>\n",
    "</div> \n",
    "\n",
    "Die Korrektur von systematischen Messabweichung erfolt über Kalibrierung von Kennlinien. Am häufigste und am einfachsten kann eine **Nullpunktkorrektur** vorgenommen werden. Die Abweichung vom Nullpunkt wird hierbei korrgiert, wobei zum Zeitpunkt der Kalibrierung bestimmte Umgebungsbedingungen herrschen müssen. Störgrößen, wie Temperatur und Feuchte, müssen den allgemeinen Betriebsedingungen folgen. Was man mit dieser Nullpunktkorrektur besonders gut korrigieren kann sind Nullpunktabweichungen, die durch Streuungen im Fertigungsprozess entstanden sind. \n",
    "Im ersten Kapitel haben wir uns bereits mit dem Prozess der Kalibrierung befasst. Grundsätzlich gilt, dass eine Referenz benötigt, entweder in Form einer definierten Messgröße, oder in Form eines Referenz-Messgeräts, welches seinerseits vorher kalibriert wurde. Bei der Erstinbetriebnahme an einem Kalibrierpunkt wird einmalig also beispielsweise eine wohlbekannte Messgröße angelegt. Das Messgerät wird nun mit einem Messwert antworten, der von der aktuell herrschenden realen Kennlinie bestimmt wird. Er wird vermutlich leicht über oder unter der idealen (gestrichelten) Kennlinie verschoben sein. Im nachfolgenden Bild ist der Kalibrierpunkt am Nullpunkt des Messbereichs. Für viele Messgeräte ist der Nullpunkt ein geeigneter Kalibrierpunkt, Beispiele sind:\n",
    "* Wägesystem: hier wird schlichtweg einfach kein Wägegut aufgebracht. Auch Leergewichte von Wägebehältern können so *wegkalibriert* werden.\n",
    "* Abstandsmessungen: ein abstand von Null ist meist relativ einfach einstellbar\n",
    "* elektrische Größen: auch bei Spannung, Strom oder Widerstand ist die Nullpunktskalibrierung einfach realisierbar. \n",
    "* Beschleunigungssensoren: diese werden typischerweise parallel zur Erdoberfläche auf einer Ebene gelagert, sodass nicht einmal die Erdbeschleunigung auf diesen Sensor wirkt\n",
    "* Temperaturmessungen: hier ist es tatsächlich schwierig. Für 0°C müssten gefrierendes Wasser oder eine Klimakammer genutzt werden.\n",
    "Wurde die Nullpunktabweichung einmal bestimmt, müssen alle nachfolgenden Messungen vorzeichenrichtig korrigiert werden. Fällt die Nullpunktabweichung positiv aus (es wird immer ein zu hoher Messwert ausgegeben), muss der Betrag später vom Messwert abgezogen werden. In der Regel verfügt das Messgerät über eine eingebaute Funktion, sodass die Kalibrierung nicht in der Nachverarbeitung berücksichtigt werden muss. Sollten sich Betriebsbedingungen ändern, ist eine Rekalibrierung nötig. \n",
    "\n",
    "\n",
    "<div>\n",
    "<img src=\"pictures/steigungs_korrektur.png\" align = \"right\" width=\"420\"/>\n",
    "</div> \n",
    "\n",
    "Die Nullpunktkorrektur kann auch mit einer sogenannten **Steigungskorrektur** vorgenommen werden, wie es im nebenstehenden Bild dargestellt ist. Für die Steigungskorrektur sind zwei Kalibriermessungen notwendig, d.h. es werden zwei Datenpunkte benötigt. Häufig ist der eine Datenpunkt der Messwert der Nullpunktkalibrierung. Der zweite Datenpunkt sollte möglichst nah am Messbereichsendwert liegen, sodass eine große Spanne abgedeckt wird. Die reale Kennlinie wird nun wieder unter Betriebsbedingungen in zwei Schritten korrigiert: Sie wird einerseits vertikal verschoben und zusätzlich um ihren Nullpunkt gedreht, sodass in beiden Kalibrierpunkte keine Messabweichung mehr besteht (siehe Bild). \n",
    "Anschaulich kann man sich Hilfsgeraden durch die Kalibrierpunkte vorstellen. Die Steigung einer Hilfsgerade durch die Kalibrierpunkte weicht von der Steigung der idealen Kennlinie ab (im Bild ist sie steiler). Mittels Korrektur werden die beiden Steigungen einander angepasst. \n",
    "\n",
    "Am ersten Kalibrierpunkt, dem Nullpunkt $x_0 = 0$ wird folgender Wert gemessen:\n",
    "\n",
    "$$y_0 = y(x_0 = 0)$$\n",
    "\n",
    "Dann beträgt die Messabweichung an diesem Punkt:\n",
    "\n",
    "$$\\Delta y(x_0) = y_0 - 0 = y_0$$\n",
    "\n",
    "Bei einer einfachen Nullpunktkorrektur müsste die reale Kennlinie folglich um diesen Wert verschoben werden, damit am Nullpunkt die Abweichung verschwindet. Am zweiten Kalibrierpunkt, an der Stelle $x_1$, gilt das gleiche. Wir messen den folgenden Wert:\n",
    "\n",
    "$$y_1 = y(x_1)$$\n",
    "\n",
    "und berechnen die Messabweichung, bzw. den Korrekturwert, wiefolgt, wobei wir den *richtigen* Wert $y_r$ an der Stelle miteinbeziehen:\n",
    "\n",
    "$$\\Delta y(x_1) = y_1 - y_r$$\n",
    "\n",
    "Dieser Werte müsste also von allen nachfolgenden Messungen abgezogen werden. \n",
    "Für alle Messwerte dazwischen, ändert sich die Messabweichung linear. Wir berechnen also eine Gerade durch die beiden Kalibrierpunkte und können alle anderen Messabweichungen interpolieren:\n",
    "\n",
    "$$\\Delta y(x) = \\Delta y(x_0) + \\frac{(\\Delta y(x_1) - \\Delta y(x_0))}{x_1} x = y_0 + \\frac{y_1 - y_r - y_0}{x_1} x$$"
   ]
  },
  {
   "cell_type": "code",
   "execution_count": null,
   "metadata": {},
   "outputs": [],
   "source": []
  }
 ],
 "metadata": {
  "kernelspec": {
   "display_name": "Python 3",
   "language": "python",
   "name": "python3"
  },
  "language_info": {
   "codemirror_mode": {
    "name": "ipython",
    "version": 3
   },
   "file_extension": ".py",
   "mimetype": "text/x-python",
   "name": "python",
   "nbconvert_exporter": "python",
   "pygments_lexer": "ipython3",
   "version": "3.8.5"
  }
 },
 "nbformat": 4,
 "nbformat_minor": 4
}
