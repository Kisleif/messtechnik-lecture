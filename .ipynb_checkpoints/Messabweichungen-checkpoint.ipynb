{
 "cells": [
  {
   "cell_type": "markdown",
   "metadata": {},
   "source": [
    "---\n",
    "Zurück zur Übersicht | [Inhalt](00_Inhalt.ipynb)\n",
    "\n",
    "---"
   ]
  },
  {
   "cell_type": "code",
   "execution_count": 70,
   "metadata": {},
   "outputs": [],
   "source": [
    "# Für diese Notebook benötigte Pakete:\n",
    "import sys, os\n",
    "import numpy as np\n",
    "import matplotlib.pyplot as plt"
   ]
  },
  {
   "cell_type": "markdown",
   "metadata": {},
   "source": [
    "# Messabweichungen"
   ]
  },
  {
   "cell_type": "markdown",
   "metadata": {},
   "source": [
    "Aufgabe der Messtechnik ist es physikalische Messgrößen quantitativ zu beobachten und ist somit wichtiger Bestandteil in der Physik. Eine *quantitative* Beschreibung bedeutet immer, dass eine Messgröße mit einem Zahlenwert, $y$, und einer Maßeinheit, $E$, ausgedrückt wird, wie wir es in der [Vorlesung 1 (Einleitung)](Einleitung.ipynb) kennen gelernt haben. Was sich beim Messen nicht umgehen lässt, und was der ein oder andere sicherlich schon im Praktikum beobachten konnte, ist, dass Beobachtungen immer statistischen (zufälligen) Schwankungen unterliegen. Dies führt dazu, dass sich das Messergebnis immer verändert. Genau diese Schwankungen, bzw. Abweichungen zum *wahren* Wert, sollen in diesem Kapitel erläutert werden. Außerdem werden Verfahren gezeigt, mittels welcher die Abweichung einer Messgröße abgeschätzt werden kann und muss. \n",
    "\n",
    "### DIN-Normen\n",
    "<a id=\"SubSec-DIN\"></a>\n",
    "\n",
    "Die DIN-Norm DIN 1319 ist DIE grundlegende Norm für die Messtechnik.\n",
    "\n",
    "* **DIN 1319-1**: Grundbegriffe der Messtechnik: Diese Norm definiert die Grundbegriffe.\n",
    "* **DIN 1319-2**: Begriffe für Messmittel: Diese Norm definiert die Begriffe für die Messmittel und deren Anwendung. \n",
    "* **DIN 1319-3**: Auswertung von Messungen einer einzelnen Messgröße: Diese Norm beinhaltet alle nötigen Informationen um einen Messwert einer einzelnen Messgröße inkl. dessen Messunsicherheit anzugeben. Hier können Verfahren nachgelesen werden, wie vorgegangen werden soll, wenn eine Messgröße direkt, oder mit einer gegebenen Funktion ermittelt wird. \n",
    "* **DIN 1319-4**: Auswertung von Messungen: Diese Norm wird in allgemeineren Fällen anstellen von DIN 1319-3 angewandt, z.B. wenn lineare Regressionen durchzuführen sind oder mehrere Messgrößen gemeinsam als Funktion anderer Größen auszuwerten sind. \n",
    "* **GUM**: Guide to the Expression of Uncertainty in Measurement"
   ]
  },
  {
   "cell_type": "markdown",
   "metadata": {},
   "source": [
    "## Inhalt\n",
    "***\n",
    "\n",
    "\n",
    "### [Einleitung](#Sec-Einleitung)\n",
    "* [Quantenmechanische Grenzen](#SubSec-Quantenmechanische_Grenzen)\n",
    "* [Technische Einflüsse](#SubSec-Technische_Einflüsse)\n",
    "* [Überblick über Mess*fehler*](#SubSec-Überblick_über_Messfehler)\n",
    "* [Schreibweise eines Messwertes mit Messabweichung](#SubSec-Schreibweise_eines_Messwertes_mit_Messabweichung)\n",
    "* [Messgeräteangaben von Messabweichungen](#SubSec-Messgeräteangaben_von_Messabweichungen)\n",
    "* [Bedeutung von Messunsicherheiten](#SubSec-Bedeutung_von_Messunsicherheiten)\n",
    "\n",
    "### [Systematische Messabweichungen](#Sec-Systematische_Messabweichungen)\n",
    "* [Korrekturverfahren systematischer Messabweichungen](#SubSec-Korrekturverfahren_systematischer_Messabweichungen)\n",
    "\n",
    "### [Statistische Messabweichungen](#Sec-Statistische_Messabweichungen)\n",
    "* [Normalverteilung und Gaußverteilung](#SubSec-Normalverteilung_Gaußverteilung)\n",
    "* [Normierte Gaußverteilung](#SubSec-Normierte_Gaußverteilung)\n",
    "* [Rechenregeln](#SubSec-Rechenregeln)\n",
    "\n",
    "### [Fehlerfortpflanzung](#Sec-Fehlerfortpflanzung)\n",
    "* [Einleitung](#SubSec-Einleitung)\n",
    "* [Fehlerfortpflanzung bei unabhängigen Unsicherheiten](#SubSec-Fehlerfortpflanzung_bei_unabhängigen_Unsicherheiten)\n",
    "* [Fehlerfortpflanzung bei korrelierten Unsicherheiten](#SubSec-Fehlerfortpflanzung_bei_korrelierten_Unsicherheiten)\n",
    "    * [Kovarianz, Kovarianz- und Korrelationsmatrix](#SubSubSec-Kovarianzmatrix)\n",
    "    * [Beispiel und grafische Darstellung von Kovarianz und Korrelation](#SubSubSec-covBeispiel)\n",
    "    * [Fehlerfortpflanzung](#SubSubSec-Fehlerfortpflanzung)\n",
    "\n",
    "### [Regressionsanalyse](#Sec-Regressionsanalyse)\n",
    "* [Modellanpassung: Methode der kleinsten Fehlerquadrate](#SubSec-Modellanpassung)\n",
    "\n",
    "\n",
    "\n",
    "### [Zusammenfassung](#Sec-Zusammenfassung)\n",
    "\n",
    "***"
   ]
  },
  {
   "cell_type": "markdown",
   "metadata": {},
   "source": [
    "## Einleitung <a id=\"Sec-Einleitung\"></a>\n",
    "\n",
    "Früher hat man statt *Abweichung* noch den Begriff *Messfehler* verwendet. Man dachte, dass man mit genügend Aufwand, Sorgfalt und bestmöglicher Technologie den Fehler vollständig eliminieren können. Spätestens seit der Theorie der *Quantenphysik* ist uns allerdings bekannt, dass zufällige Einflüsse auf die beobachteten Messgrößen  unvermeidlich sind und auch nicht vorhergesagt werden können. Statt eines einzig *wahren* Wertes werden in der Quantenphysik Messgrößen durch deren Erwartungswerte vorhergesagt. Diesen Messgrößen liegt eine Wahrscheinlichkeitsdichte zu Grunde, dessen Varianz (bzw. Standardabweichung) nicht verschwindet! Somit werden für ein und dieselbe physikalische Messgröße verschiedene Ergebnisse angegeben, wobei jedes eine bestimmte Wahrscheinlichkeit aufweist, dass dieses Ergebnis eintritt.  "
   ]
  },
  {
   "cell_type": "markdown",
   "metadata": {},
   "source": [
    "### Quantenmechanische Grenzen <a id=\"SubSec-Quantenmechanische_Grenzen\"></a>\n",
    "\n",
    "Beispiele aus der Quantenphysik sind z.B. die Messung der mittleren Lebensdauer eines atomaren Zustandes, eines radioaktiv zerfallenden Kerns oder Elementarteilchens. Bei Quantenteilchen sind ebenfalls Ort und Impuls nicht gleichzeitig bestimmbar. Doch auch in klassischen Systemen, die uns im Praktikum begegenen werden, sind solche Effekte sichtbar, wodurch man schlussfolgern kann, dass im Prinzip jeder Art von Beobachtungsmethode schlussendlich auf quantenmechanischen Grenzen aufliegen wird, natürlich nachdem alle klassischen bzw. technischen *Rauschquellen* auf dieses Quantenlimit reduziert wurden. Ein bekanntes Beispiel ist das **Schrotrauschen** (auch Poissonsches Schrotrauschen oder Schottky-Rauschen), was sowohl in der Elektronik als auch in der Optik auftritt. Stromfluss, oder Lichtstrahlen, setzen sich aus einzelnen Teilchen zusammen (Elektronen, bzw. Photonen). \n",
    "\n",
    "* **Elektrisches Schrotrauschen** kommt dadurch zustande, dass der Teilchenfluss Potentialbarrieren überwinden muss (Widerstände, PN-Übergänge in Dioden, ...). Die Überwindung der Barriere geschieht nicht gleichmäßig, sondern ist vielmehr ein zufälliger Prozess. Würde man makroskopische Strommessungen durchführen würde man gewisse Schankungen im Stromfluss beobachten. Das gemittels Quadrat der Rauschstroms lässt sich durch folgende Gleichung beschreiben und ist abhängig von $e$ der Elementarladung, $I$ der im Leiter fließende Strom und $\\Delta f$ der Bandbreite der Messung, aber *unabhängig* von der Temperatur, wodruch es sich tatsächlich vom thermischen Rauschen (dem Johnson-Nyquist-Rauschen) unterscheiden lässt.\n",
    "\n",
    "$$\\overline{i^2_{\\text{Rausch}}} = 2 e I \\Delta f$$\n",
    "\n",
    "* **Optisches Schrotrauschen** beschreibt die Abweichung der Leistung einer idealen, monochromatischen Strahlungsquelle. Aufgrund der Quantisierung des Lichts in Photonen ist die optische Leistung nicht völlig konstant. Das gemittelte Quadrat der Leistungsabweichungen lässt sich durch die folgende Gleichung beschreiben, mit $h$ dem Planckschen Wirkungsquantum, $\\nu$ die Frequenz der Strahlung (Größenordnung 10$^{14}$ Hz) und $\\Delta f$ der Bandbreite der Messung:\n",
    "\n",
    "$$\\overline{\\Delta p^2} = 2 h \\nu P \\Delta f$$"
   ]
  },
  {
   "cell_type": "markdown",
   "metadata": {},
   "source": [
    "### Technische Einflüsse <a id=\"SubSec-Technische_Einflüsse\"></a>\n",
    "\n",
    "Trotzdem sind wesentliche Effekte für Messabweichungen abhängig von Geschick und Aufwand, die der Hersteller bei Entwicklung und Fertigung investiert und können technische Rauschquellen weitesgehend minimiert werden, bis ultimative Grenzen erreicht werden. Im letzten Kapitel haben wir gesehen, dass Abweichungen durch Nichtlinearitäten in der Kennlinie auftreten. Nichtlineare Sensorphysik oder Analogelektronik können mittels bestimmten Aufwand verbessert werden. Auch können Werkstoffeigenschaften vorher separat gemessen werden und Fertigungsstreuungen evtl. minimiert werden. \n",
    "Anwendungsseitig treten häufig Störgrößen aus, die ebenfalls einen deutlischen Einfluss auf die Kennlinie haben. Eine der wichtigsten Störgrößen ist meist die Umgebungstemperatur oder Luftfeuchtigkeit. Das einfachste Beispiel ist hier der Messapparat zur Druckmessung. Bei der Messung des Drucks werden häufig unterschiedliche Messwerte erzielt, da dieser sehr stark von den Umgebungsparametern abhängt. Je nachdem wo das Messsystem aufgebaut wird und wo sich der Sensor befindet können die Randbedingungen andere sein als die, wo sich z.B. die Messelektronik befindet. "
   ]
  },
  {
   "cell_type": "markdown",
   "metadata": {},
   "source": [
    "### Überblick über Mess*fehler* <a id=\"SubSec-Überblick_über_Messfehler\"></a>\n",
    "\n",
    "Allgemein gilt, möglichst alle Einflüsse zu vermeiden, um das bestmöglichste Messergebnis zu erhalten. Dies ist aber nicht möglich und es werden zwangsläufig *Fehler* gemacht, ohne dass man etwas dagegen zun kann. Die Problemstellung besteht beim Messen also darin, den Wert $y$ einer Größe, die mich gerade interessiert, aus einer oder auch mehreren Messgrößen $x_i$ zu bestimmen. Das heißt die gesuchte Größe ist in irgendeiner Art und Weise abhängig von diesen Messgrößen: $y(x_1,...,x_n)$. Mittels der Messung von Spannung und Stromstärke kann man z.B. den ohmschen Widerstand $R = R(U,I) = U/I$ bestimmen. \n",
    "\n",
    "Jede Eingangröße ($x_i$) besitzt eine Unsicherheit, welcher unvermeidar und zufällig ist. Damit wird die abgeleitet Größe $y$ ebenfalls eine Unsicherheit besitzen. Diese Unsicherheit gilt es zu bestimmen. \n",
    "\n",
    "Im Allgemeinen wollen wir zwischen zwei Arten von Unsicherheit / Abweichung unterscheiden:\n",
    "* **Systematische Fehler:** Diese Fehler sind reproduzierbar unter gleichen Messbedingungen und können (sollen!) korrigiert oder beachtet werden. Diese werden durch nicht-perfekte Geräte und Messverfahren hervor gerufen.\n",
    "* **Zufällige Fehler:** Diesen Fehler kennt man nicht, er ist folglich nicht korrigierbar und lässt sich auch nicht reproduzieren unter gleichen Messbedingungen. Hier sind wiederholte Messungen und statistische Analysen notwendig, wodurch Mittelwert und Standardabweichung von sogenannten *Stichproben* ermittelt wird. \n",
    "\n",
    "Das nachfolgende Bild zeigt eine Visualisierung dieser beiden Fehlertypen. Der grüne Punkt in der Mitte der Zielscheibe soll den *wahren* Wert veranschaulichen.\n",
    "\n",
    "<div>\n",
    "<img src=\"pictures/messfehler.png\" width=\"800\"/>\n",
    "</div> \n",
    "\n",
    "Dann gibt es noch der Vollständigkeitshaler die **dynamischen Fehler**. Jedes Messsystem braucht eine bestimmte Zeit, um sich auf einen bestimmten Messwert einzupedeln. Dies nennt man auch die Latenzzeit, oder die Trägheit, eines Messsystems. Es besteht also die Möglichkeit, dass man *zu früh misst*, und das Messsystem den zu messenden Wert noch gar nicht richtig anzeigen kann. \n",
    "\n",
    "**Quantisierungsfehler** entstehen beim Prozess des Digitalisierens der Messwerte. Da nur eine endliche Anzahl von Möglichkeiten besteht einen analogen Messwert darzustellen (abhängig von der Anzahl der verwendet Bits) gehen bei diesem Prozess *immer* Informationen verloren.  "
   ]
  },
  {
   "cell_type": "markdown",
   "metadata": {},
   "source": [
    "### Schreibweise eines Messwertes mit Messabweichung <a id=\"SubSec-Schreibweise_eines_Messwertes_mit_Messabweichung\"></a>\n",
    "\n",
    "Die **Gesamt-Messabweichung** einer Messgröße setzt sich also wiefolgt zusammen:\n",
    "\n",
    "$$A = A_r + A_s$$\n",
    "\n",
    "wobei $A_r$ zufällige und $A_s$ systematische Messabweichungen sind. Ein Messwert setzt sich also zusammen aus dem *wahren* oder *richtigen* Wert, den wir niemals kennen werden, und der Messabweichung und es gelten folgende Zusammenhänge:\n",
    "\n",
    "* Der **ermittelte Messwert** lässt sich wiefolgt schreiben, wobei $x_r$ der *richtige*, aber uns unbekannte, Wert ist. $A$ ist die Messabweichung: \n",
    "\n",
    "$$x = x_R + A$$\n",
    "\n",
    "* Die **absolute Messabweichung** ergibt sich aus Umstellen der Gleichung:\n",
    "\n",
    "$$A = x - x_R = \\Delta x$$\n",
    "\n",
    "* Bei der Angabe **relativen Messabweichung** wird die Messabweichung auf einen Referenzwert, $r$, bezogen, der entweder der Messwert selber ist ($r = x$), oder manchmal auch die Spanne ($r = x_\\mathrm{max} - x_\\mathrm{min}$) oder Maximalwert ($r = x_\\mathrm{max}$):\n",
    "\n",
    "$$ A_\\mathrm{rel} = \\frac{A}{r} = \\frac{\\Delta x}{r}$$\n",
    "\n",
    "\n",
    "Ein Messwert wird dann in folgender Schreibweise dargestellt ($E$ ist die Maßeinheit) und $\\Delta x = A$:\n",
    "\n",
    "$$X = (x \\pm \\Delta x) \\cdot E$$\n",
    "\n",
    "Für die Darstellung einer Spannung könnte sich beispielsweise folgender Messwert ergeben:\n",
    "\n",
    "$$ U = (1 \\pm 0.3)\\,\\mathrm V = 1\\rm V \\pm 30\\%$$\n",
    "\n",
    "Die grafische Darstellung eines solchen Messwertes in einem Diagramm kann im folgenden Code-Block ausgeführt werden:"
   ]
  },
  {
   "cell_type": "code",
   "execution_count": 71,
   "metadata": {},
   "outputs": [
    {
     "data": {
      "image/png": "[encoded data removed]",
      "text/plain": [
       "<Figure size 360x360 with 1 Axes>"
      ]
     },
     "metadata": {
      "needs_background": "light"
     },
     "output_type": "display_data"
    }
   ],
   "source": [
    "# diesen Code durch Eingabe von <shift><ret> ausführen\n",
    "\n",
    "x = [1.0]  # Datenwerte für x-Achse, hier Nr der Messung\n",
    "y = [1.0]  # Messwert (Datenpunkt)\n",
    "delta_y = [0.3] # Messabweichung\n",
    "\n",
    "# Diagrammdarstellung:\n",
    "plt.figure(1, figsize=(5.,5.))\n",
    "plt.errorbar(x, y, yerr=delta_y, fmt='bo')\n",
    "plt.xlim(0.5, 1.5)\n",
    "#plt.ylim(0.,1.1*(max(y)+max(delta_y)))\n",
    "plt.ylabel(\"U (V)\")\n",
    "plt.xlabel(\"Nr. der Messung\")\n",
    "plt.show()"
   ]
  },
  {
   "cell_type": "markdown",
   "metadata": {},
   "source": [
    "### Bedeutung von Messunsicherheiten <a id=\"SubSec-Bedeutung_von_Messunsicherheiten\"></a>\n",
    "\n",
    "Dass Messunsicherheiten bekannt sind und immer zu einem Messwert mitangegeben werden sollten, ist von sehr großer Wichtigkeit in der Messtechnik. Ähnlich wie die Einheit, ohne welche ein Zahlenwert keine Aussagekraft besitzt, gibt die Angabe der Messabweichung die Qualität der Messung an. Als Beispiel gucken wir uns zwei Messungen der Wellenlänge eines Lasers an. In beiden Fällen wurde der gleiche Wert ermittelt, aber es wurden unteschiedliche Unsicherheiten angegeben:\n",
    "\n",
    "$$\\displaystyle\n",
    "\\begin{array}{ll}\n",
    "{\\rm Messung\\,1:\\,} \\lambda = & (1065 \\pm 1.5) \\rm{nm} \\\\\n",
    "{\\rm Messung\\,2:\\,} \\lambda = & (1065 \\pm 0.1) \\rm{nm} \\\\\n",
    "\\end{array}$$"
   ]
  },
  {
   "cell_type": "code",
   "execution_count": 72,
   "metadata": {},
   "outputs": [
    {
     "data": {
      "image/png": "[encoded data removed]",
      "text/plain": [
       "<Figure size 432x360 with 1 Axes>"
      ]
     },
     "metadata": {
      "needs_background": "light"
     },
     "output_type": "display_data"
    }
   ],
   "source": [
    "# diesen Code durch Eingabe von <shift><ret> ausführen\n",
    "\n",
    "wl_m=[1065, 1065] # Messung der Wellenlänge in nm\n",
    "delta_wl=[1.5, 0.1] # Unsicherheit der Wellenlängenmessung in nm\n",
    "wl_r=1064 # wahrer / richtiger Wert der Wellenlänge des Lasers in nm\n",
    "\n",
    "plt.figure(1, figsize=(6.,5.))\n",
    "plt.errorbar([1, 2], wl_m, yerr=delta_wl, fmt='bo')\n",
    "\n",
    "plt.axhline(wl_r, color='darkred', linewidth=3)\n",
    "plt.text(0.55, 1064.1, 'wahrer Wert', color='darkred') \n",
    "\n",
    "plt.ylabel(r\"$\\lambda$ (nm)\")\n",
    "plt.xlabel(\"Nr. der Messung\")\n",
    "plt.title(\"Messungen der Wellenlänge\")\n",
    "# noch einige Verschönerungen:\n",
    "plt.xlim(0.5, 2.5)\n",
    "ax=plt.gca()\n",
    "ax.locator_params(nbins=3)\n",
    "plt.grid()\n",
    "\n",
    "plt.show()"
   ]
  },
  {
   "cell_type": "markdown",
   "metadata": {},
   "source": [
    "Nur einer der beiden Messwerte überlappt mit dem *richtigen* Wert der Wellenlänge des Lasers von 1064 nm. Der Fehlerbalken der zweiten Messung hingegen ist weit davon entfernt, in den *richtigen* Bereich überzulappen. D.h. es existiert hier ein Widerspruch zu vorherigen Messungen, die den wahren Wert kennzeichneten. Würde es sich hierbei nicht um die Messung der Wellenlänge, sondern um die einer Natur*konstante* handeln, gäbe es sogar einen Widerspruch zum SI-Einheitensystem. "
   ]
  },
  {
   "cell_type": "markdown",
   "metadata": {},
   "source": [
    "***\n",
    "## Systematische Messabweichungen <a id=\"Sec-Systematische_Messabweichungen\"></a>\n",
    "\n",
    "Systematische Messabweichungen sollten in aller Regel am besten korrigiert werden, wenn dies möglich ist. Ansonsten sollte mindestens eine Angabe der Messabweichung erfolgen. Dies ist beispielsweise der Fall bei den Genauigkeitsangaben des Herstellers, mit denen man sich zwangsfläufig zufrieden geben muss. "
   ]
  },
  {
   "cell_type": "markdown",
   "metadata": {},
   "source": [
    "Messgeräte werden anhand ihrer Genauigkeit in Klassen eingruppiert. Die Klasse entspricht der relativen Messabweichung. Präzisionsmessgeräte besitzen somit Abweichungen die zwischen 0,001% und 0,05% liegen.\n",
    "\n",
    "<div>\n",
    "<img src=\"pictures/hersteller_abweichung.png\" width=\"800\"/>\n",
    "</div> "
   ]
  },
  {
   "cell_type": "markdown",
   "metadata": {},
   "source": [
    "Allgemein geht man so vor, dass man versucht das Messgerät im Messaufbau so zu verwenden, wie es der Hersteller im normalen Betrieb vorgesehen hat. Das heißt es sind keine aufwändigen Vorarbeiten nötig und man erhält schnell ein Ergebnis, welches eine Genauigkeit entsprechend der Herstellerangaben aufweist. Um dieses Ergebnis zu verbessern, also um eine Reduzierung der Messabweichung des Geräts zu reduzieren, kann das Messgerät vorab kalibriert werden. Ein aussagekräftiges Ergebnis mit verbesserter Genauigkeit erhält man allerdings erst dann, wenn die externen Einflüsse reproduzierbar sind. Das bedeutet nicht, dass diese physikalischen Gesetzmäßigkeiten dem Verwender bekannt sein müssen, sie dürfen sich lediglich nicht ändern. Die Messabweichung, über die wir hier sprechen, ist die sogenannten **systematische** Messabweichung. Sie kann durch Aufwand und Kalibration verbessert werden. Wird eine Messabweichung durch zufällig variierende externe Einflüsse hervorgerufen, also z.B. durch weißes, elektronisches Rauschen, so spricht man von **statistischen** oder **zufälligen** Messabweichungen. Diese können *nicht* durch Kalibrierung minimiert werden. "
   ]
  },
  {
   "cell_type": "markdown",
   "metadata": {},
   "source": [
    "### Korrekturverfahren systematischer Messabweichungen <a id=\"SubSec-Korrekturverfahren_systematischer_Messabweichungen \"></a>\n",
    "\n",
    "<div>\n",
    "<img src=\"pictures/offset_korrektur.png\" align = \"right\" width=\"420\"/>\n",
    "</div> \n",
    "\n",
    "Die Korrektur von systematischen Messabweichung erfolt über Kalibrierung von Kennlinien. Am häufigste und am einfachsten kann eine **Nullpunktkorrektur** vorgenommen werden. Die Abweichung vom Nullpunkt wird hierbei korrgiert, wobei zum Zeitpunkt der Kalibrierung bestimmte Umgebungsbedingungen herrschen müssen. Störgrößen, wie Temperatur und Feuchte, müssen den allgemeinen Betriebsedingungen folgen. Was man mit dieser Nullpunktkorrektur besonders gut korrigieren kann sind Nullpunktabweichungen, die durch Streuungen im Fertigungsprozess entstanden sind. \n",
    "Im ersten Kapitel haben wir uns bereits mit dem Prozess der Kalibrierung befasst. Grundsätzlich gilt, dass eine Referenz benötigt, entweder in Form einer definierten Messgröße, oder in Form eines Referenz-Messgeräts, welches seinerseits vorher kalibriert wurde. Bei der Erstinbetriebnahme an einem Kalibrierpunkt wird einmalig also beispielsweise eine wohlbekannte Messgröße angelegt. Das Messgerät wird nun mit einem Messwert antworten, der von der aktuell herrschenden realen Kennlinie bestimmt wird. Er wird vermutlich leicht über oder unter der idealen (gestrichelten) Kennlinie verschoben sein. Im nachfolgenden Bild ist der Kalibrierpunkt am Nullpunkt des Messbereichs. Für viele Messgeräte ist der Nullpunkt ein geeigneter Kalibrierpunkt, Beispiele sind:\n",
    "* Wägesystem: hier wird schlichtweg einfach kein Wägegut aufgebracht. Auch Leergewichte von Wägebehältern können so *wegkalibriert* werden.\n",
    "* Abstandsmessungen: ein abstand von Null ist meist relativ einfach einstellbar\n",
    "* elektrische Größen: auch bei Spannung, Strom oder Widerstand ist die Nullpunktskalibrierung einfach realisierbar. \n",
    "* Beschleunigungssensoren: diese werden typischerweise parallel zur Erdoberfläche auf einer Ebene gelagert, sodass nicht einmal die Erdbeschleunigung auf diesen Sensor wirkt\n",
    "* Temperaturmessungen: hier ist es tatsächlich schwierig. Für 0°C müssten gefrierendes Wasser oder eine Klimakammer genutzt werden.\n",
    "Wurde die Nullpunktabweichung einmal bestimmt, müssen alle nachfolgenden Messungen vorzeichenrichtig korrigiert werden. Fällt die Nullpunktabweichung positiv aus (es wird immer ein zu hoher Messwert ausgegeben), muss der Betrag später vom Messwert abgezogen werden. In der Regel verfügt das Messgerät über eine eingebaute Funktion, sodass die Kalibrierung nicht in der Nachverarbeitung berücksichtigt werden muss. Sollten sich Betriebsbedingungen ändern, ist eine Rekalibrierung nötig. \n",
    "\n",
    "\n",
    "<div>\n",
    "<img src=\"pictures/steigungs_korrektur.png\" align = \"right\" width=\"420\"/>\n",
    "</div> \n",
    "\n",
    "Die Nullpunktkorrektur kann auch mit einer sogenannten **Steigungskorrektur** vorgenommen werden, wie es im nebenstehenden Bild dargestellt ist. Für die Steigungskorrektur sind zwei Kalibriermessungen notwendig, d.h. es werden zwei Datenpunkte benötigt. Häufig ist der eine Datenpunkt der Messwert der Nullpunktkalibrierung. Der zweite Datenpunkt sollte möglichst nah am Messbereichsendwert liegen, sodass eine große Spanne abgedeckt wird. Die reale Kennlinie wird nun wieder unter Betriebsbedingungen in zwei Schritten korrigiert: Sie wird einerseits vertikal verschoben und zusätzlich um ihren Nullpunkt gedreht, sodass in beiden Kalibrierpunkte keine Messabweichung mehr besteht (siehe Bild). \n",
    "Anschaulich kann man sich Hilfsgeraden durch die Kalibrierpunkte vorstellen. Die Steigung einer Hilfsgerade durch die Kalibrierpunkte weicht von der Steigung der idealen Kennlinie ab (im Bild ist sie steiler). Mittels Korrektur werden die beiden Steigungen einander angepasst. \n",
    "\n",
    "Am ersten Kalibrierpunkt, dem Nullpunkt $x_0 = 0$ wird folgender Wert gemessen:\n",
    "\n",
    "$$y_0 = y(x_0 = 0)$$\n",
    "\n",
    "Dann beträgt die Messabweichung an diesem Punkt:\n",
    "\n",
    "$$\\Delta y(x_0) = y_0 - 0 = y_0$$\n",
    "\n",
    "Bei einer einfachen Nullpunktkorrektur müsste die reale Kennlinie folglich um diesen Wert verschoben werden, damit am Nullpunkt die Abweichung verschwindet. Am zweiten Kalibrierpunkt, an der Stelle $x_1$, gilt das gleiche. Wir messen den folgenden Wert:\n",
    "\n",
    "$$y_1 = y(x_1)$$\n",
    "\n",
    "und berechnen die Messabweichung, bzw. den Korrekturwert, wiefolgt, wobei wir den *richtigen* Wert $y_r$ an der Stelle miteinbeziehen:\n",
    "\n",
    "$$\\Delta y(x_1) = y_1 - y_r$$\n",
    "\n",
    "Dieser Werte müsste also von allen nachfolgenden Messungen abgezogen werden. \n",
    "Für alle Messwerte dazwischen, ändert sich die Messabweichung linear. Wir berechnen also eine Gerade durch die beiden Kalibrierpunkte und können alle anderen Messabweichungen interpolieren:\n",
    "\n",
    "$$\\Delta y(x) = \\Delta y(x_0) + \\frac{(\\Delta y(x_1) - \\Delta y(x_0))}{x_1} x = y_0 + \\frac{y_1 - y_r - y_0}{x_1} x$$"
   ]
  },
  {
   "cell_type": "markdown",
   "metadata": {},
   "source": [
    "***\n",
    "## Statistische Messabweichungen <a id=\"Sec-Statistische_Messabweichungen\"></a>\n",
    "\n",
    "Statistische, oder zufällige, Einflüsse auf einen Messwert lassen sich durch Wiederholungen der eigentlichen Messung bestimmen. Dies nennt man auch Messreihe und bedeutet, dass $m$ Messungen für ein und denselben Messwert durchgeführt werden. Die einzelnen Messwerte $x_j$ unterscheiden sich, da der *richtige* Wert, $x_r$, immer mit einer zufälligen Abweichung, $A_j$,  versehen wird:\n",
    "\n",
    "$$x_j = x_r + A_j$$\n",
    "\n",
    "Aus Messreihen kann nach bekannter Vorschrift der Mittelwert ganz einfach berechnet werden, indem alle Ergebnisse zusammen addiert werden und dies anschließend durch die Anzahl der Messungen geteilt wird. Dies nennt sich auch der **arithmetische Mittelwert**:\n",
    "\n",
    "$$\\overline x = \\frac{1}{m}\\sum_{j=1}^m x_j$$\n",
    "\n",
    "Für den Erwartungswert gelten unterschiedliche Nomenklaturen, in der Tabelle dargestellt ist nur ein Beispiel. Es gilt unter anderem zum Beispiel $\\overline x = E(x) = \\left< x \\right> = \\mu$.\n",
    "\n",
    "Der Erwartungswert der quadratischen Abweichung der Einzelmessungen vom Mittelwert, die Varianz $s^2$, \n",
    "lässt sich allgemein wie folgt schreiben und sollte minimal sein:\n",
    "\n",
    "$$s^2  =  \\frac{1}{m} \\sum_{j=1}^m \\left( x_j - \\overline x \\right)^2 = \\textrm{minimal}$$\n",
    "\n",
    "\n",
    "\n",
    "Unabhängig von der zugrundeliegenden Verteilung der Messwerte, die wir gleich noch kennen lernen werden, kann nun schon ein Maß für die Abweichung definiert werden, welche als **empirische Standardabweichung der Einzelmessungen** bekannt ist und sich aus der Quadratwurzel der Varianz berechnen lässt:\n",
    "\n",
    "$$s = \\sqrt{\\frac{1}{m-1} \\sum_{j=1}^m (x_j - \\overline x)^2}$$\n",
    "\n",
    "Man nehme beispielshaft die Messung einer Spannung. Die Messreihe ist im nachstehenden Bode-Block gegeben. Es wurden 15 wiederholte Messungen durchgeführt in denen 15x der Wert 1V gemessen werden sollte. Mittelwert, Standardabweichung der Einzelmessungen und Unsicherheit des Mittelwertes werden berechnet. "
   ]
  },
  {
   "cell_type": "code",
   "execution_count": 73,
   "metadata": {},
   "outputs": [
    {
     "name": "stdout",
     "output_type": "stream",
     "text": [
      "Mittelwert der Messreihe:  0.994 V\n",
      "Standardabweichung der Messungen:  0.022928460168844454 V\n"
     ]
    }
   ],
   "source": [
    "# diesen Code durch Eingabe von <shift><ret> ausführen\n",
    "x_volt=[1.02, 1.04, 0.98, 1.00, 0.95, 0.99,0.97,0.99,1.00,0.98,0.99,1.01,0.97,1.00,1.02] # Messergebnisse in Volt\n",
    "n = len(x_volt)\n",
    "data=np.array(x_volt)\n",
    "mean=data.mean()\n",
    "std=data.std(ddof=1)\n",
    "\n",
    "print(\"Mittelwert der Messreihe: \", mean, 'V')\n",
    "print(\"Standardabweichung der Messungen: \", std, 'V')"
   ]
  },
  {
   "cell_type": "markdown",
   "metadata": {},
   "source": [
    "Die grafische Darstellung einer solchen Messreihe erfolgt in einem **Histogramm**. Diese Darstellung wird insbesondere dann häufig benutzt, wenn Messreihen mit vielen Messwerten vorliegen. An einer solchen Darstellung erkennt häufig schon die Art der zugrundeliegenden Verteilung der Messwerten. In nachfolgendem Code-Block wird für die Messreihe die **absolute Häufigkeit** der einzelnen Werte in einer bestimmten Klasse grafisch dargestellt."
   ]
  },
  {
   "cell_type": "code",
   "execution_count": 74,
   "metadata": {},
   "outputs": [
    {
     "data": {
      "image/png": "[encoded data removed]",
      "text/plain": [
       "<Figure size 432x288 with 1 Axes>"
      ]
     },
     "metadata": {
      "needs_background": "light"
     },
     "output_type": "display_data"
    }
   ],
   "source": [
    "# diesen Code durch Eingabe von <shift><ret> ausführen\n",
    "\n",
    "x_volt = np.array([1.02, 1.04, 0.98, 1.00, 0.95, 0.99,0.97,0.99,1.00,0.98,0.99,1.01,0.97,1.00,1.02], dtype=float)\n",
    "\n",
    "bconts, bedges, _p = plt.hist(x_volt, bins=np.linspace(0.95, 1.05, 6))\n",
    "plt.ylabel('Absolute Häufigkeit H(U)')\n",
    "plt.xlabel('Klassenverteilung der Spannung (V)')\n",
    "plt.show()"
   ]
  },
  {
   "cell_type": "markdown",
   "metadata": {},
   "source": [
    "Die **relative Häufigkeit** berechnet sich aus der absoluten Häufigkeit dividiert durch die Gesamtanzahl der vorgenommenen Messungen.\n",
    "\n",
    "Aus der Häufigkeit lässt sich auch die sogenannte **Häufigkeitsdichte** berechnen. \n",
    "Die Häufigkeitsdichte gibt bei einem Histogramm die Höhe des Rechtecks an. Mit ihr kann man den Vergleich verschiedener Klassen erst vornehmen. Anders ausgedrückt heißt dass, dass die Häufigkeitsdichte einer Klasse das Verhältnis der absoluten oder der relativen Häufigkeit einer Klasse zur entsprechenden Klassenbreite ist. Genauso lässt sich die Häufigkeitsdichte auch berechnen:\n",
    "\n",
    "$$ h(x) = \\frac{\\textrm{relative oder absolute Häufigkeit}}{\\textrm{obere Grenze der Klasse i} - \\textrm{untere Grenze der Klasse i}} $$\n",
    "\n",
    "Das Integral über die relative Häufigkeitsdichte ist immer auf 1 normiert, bzw auf 100% im Falle der absoluten Häufigkeitsdichte.\n",
    "\n",
    "Im nachstehenden Code-Block ist wurde die relative Häufigkeitsdichte für die obenstehende Messreihe geplottet und das Integral berechnet. "
   ]
  },
  {
   "cell_type": "code",
   "execution_count": 75,
   "metadata": {},
   "outputs": [
    {
     "data": {
      "image/png": "[encoded data removed]",
      "text/plain": [
       "<Figure size 432x288 with 1 Axes>"
      ]
     },
     "metadata": {
      "needs_background": "light"
     },
     "output_type": "display_data"
    },
    {
     "name": "stdout",
     "output_type": "stream",
     "text": [
      "Integral über die Häufigkeitsdichte:  1.0\n"
     ]
    }
   ],
   "source": [
    "# diesen Code durch Eingabe von <shift><ret> ausführen\n",
    "\n",
    "x_volt = np.array([1.02, 1.04, 0.98, 1.00, 0.95, 0.99,0.97,0.99,1.00,0.98,0.99,1.01,0.97,1.00,1.02], dtype=float)\n",
    "m = len(x_volt)\n",
    "\n",
    "bconts, bedges, _p = plt.hist(x_volt, density=True, bins=np.linspace(0.95, 1.05, 6))\n",
    "plt.ylabel('Häufigkeitsdichte h(x)')\n",
    "plt.xlabel('Klassenverteilung der Spannung (V)')\n",
    "plt.show()\n",
    "\n",
    "print('Integral über die Häufigkeitsdichte: ',(bconts * np.diff(bedges)).sum())"
   ]
  },
  {
   "cell_type": "markdown",
   "metadata": {},
   "source": [
    "### Normalverteilung und Gaußverteilung <a id=\"SubSec-Normalverteilung_Gaußverteilung\"></a>\n",
    "\n",
    "Im letzten Abschnitt wurden die Kenngrößen der statistischen Messabweichung eingeführt und beispielhaft eine **Stichprobe** mit 15 Messdaten dargestellt. Je größer die Stichprobe, d.h. je größer $m$, desto eher erkennt man die zugrundeliegende Verteilung, die der Messreihe unterliegt. Häufig handelt es sich in der Praxis um eine Normal- (oder auch Gauß-) Verteilung. Insbesondere dann, wenn es sehr viele externe Störungen gibt (evtl. mit unterschiedlichen Verteilungsfunktionen), die dann zusammen wirken und zu einer Störgröße kombiniert werden. Die zusammengefasste Störung ist fast immer gaußverteilt. Dies wird auch als der **zentrale Grenzwertsatz der Wahrscheinlichkeitstheorie** bezeichnet.\n",
    "> **Zentraler Grenzwertsatz der Wahrscheinlichkeitstheorie**: Der Durchschnitt einer großen Anzahl von Zufallsvariablen aus derselben Verteilung sind annäherend normalverteilt, unabhängig von der Verteilungsfunktion aus der sie herausgenommen wurden. \n",
    "\n",
    "Die **statistische Messunsicherheit** einer Einzelmessung lässt sich als **empirische Standardabweichung** schreiben, hierbei unterscheidet man zwischen endlicher Messreihe (was in der Realität immer der Fall ist) und einer unendlich großen Messreihe ($m \\rightarrow \\infty$). Der Grenzwertsatz sagt aus, wenn man eine ausreichend große Stichprobe aus einer *Grundgesamtheit* nimmt, so wird der **Mittelwert der Stichprobe** näherungsweise dem **Mittelwert der Grundgesamtheit** entsprechen. \n",
    "\n",
    "In folgenden Bildern ist ein Histogramm einer endlichen Messreihe (links) und die Kurve einer Gaußkurve geplottet (rechts). \n",
    "\n",
    "<div>\n",
    "<img src=\"pictures/endliche_messreihe.png\" align = \"left\" width=\"420\"/>\n",
    "</div> \n",
    "\n",
    "<div>\n",
    "<img src=\"pictures/gauss.png\" align = \"right\" width=\"420\"/>\n",
    "</div> \n"
   ]
  },
  {
   "cell_type": "markdown",
   "metadata": {},
   "source": [
    "Für beide Fälle gilt jeweils, dass das Integral über die Dichtefunktion normiert ist. Entsprechend kann die Wahrscheinlichkeit dafür, dass ein bestimmtes Messergebnis gemessen wird, berechnet werden, in dem das Integral über einen Teilabschnitt der Verteilung berechnet wird. In folgender Tabelle sollen noch einmal die wichtigsten Kenngrößen für eine endliche Messreihe und die Graußverteilung gegenüber gestellt werden:\n",
    "\n",
    "| | Endliche Messreihe | Gaußverteilung | |\n",
    "| --- | --- | --- | --- |\n",
    "| Stichprobenmittelwert: | $$\\overline x = \\frac{1}{m}\\sum_{j=1}^m x_j$$ | $$\\mu = \\lim_{m \\rightarrow \\infty }\\frac{1}{m}\\sum_{j=1}^mx_j$$ | :Erwartungswert |\n",
    "| Empirische Varianz: | $$s^2 = \\frac{1}{m-1} \\sum_{j=1}^m (x_j - \\overline x)^2$$ | $$\\sigma^2 = \\lim_{m\\rightarrow \\infty}\\frac{1}{m} \\sum_{j=1}^m (x_j - \\mu)^2$$ | :Varianz |\n",
    "| Empirische Standardabweichung: | $$s = \\sqrt{\\frac{1}{m-1} \\sum_{j=1}^m (x_j - \\overline x)^2}$$ | $$\\sigma = \\lim_{m\\rightarrow \\infty}\\sqrt{\\frac{1}{m} \\sum_{j=1}^m (x_j - \\mu)^2}$$ | :Standardabweichung  |\n",
    "| Standardabweichung der Mittelwerte: | $$ s(\\overline x) = \\frac{s}{\\sqrt{m}} = u_{\\overline x} $$ | | \n",
    "\n",
    "In der Tabelle sieht man noch einmal, dass die mittlere quadratische Abweichung für Varianz und Standardabweichung für eine endliche Messreihe durch $m-1$ anstelle von $m$ dividiert wird. Dies ist die *Bessel-Korrektur*, die dafür sorgt, dass die Schätzung aus den Messdaten unverzerrt ist. Mit unverzerrt meint man, dass der Erwartungswert des geschätzten Werts möglich dem *richtigen* Wert entspricht. Für kleine Stichproben, also kleine Werte von $m$, folgt daraus, dass die Abweichung größer wird. Als Konsequenz werden außerdem immer mindestens zwei Datenpunkte benötigt."
   ]
  },
  {
   "cell_type": "markdown",
   "metadata": {},
   "source": [
    "Bei einer echten Normalverteilung gilt folgendes:\n",
    "* 69,8% aller Messwerte liegen im Bereich $\\pm \\sigma$\n",
    "* 95,5% aller Messwerte liegen im Bereich $\\pm 2\\sigma$\n",
    "* 99,7% aller Messwerte liegen im Bereich $\\pm 3\\sigma$\n",
    "* Im Abstand $\\pm \\sigma$ sind die Wendestellen\n",
    "* Die Normalverteilung reicht von $-\\infty$ bis $+\\infty$ \n",
    "\n",
    "Als Messtechniker gehen wir immer daher davon aus, dass innerhalb $\\pm 3\\sigma$ alle Messwerte liegen. Auf dieser Basis wird entsprechend auch die Messabweichung berechnet, also A = $\\pm 3\\sigma$."
   ]
  },
  {
   "cell_type": "markdown",
   "metadata": {},
   "source": [
    "Das **Endergebnis** der oben dargestellten Messreihe von $m = 15$ Messwerten wird in der Regel wiefolgt angegeben. Als Messwert wird nicht das Ergebnis einer Einzelmessung angegeben, sondern stets der Mittelwert der Messreihe, da die **Unsicherheit des Mittelwertes** einer Messreihe gegenüber der Abweichung der Einzelmessungen um den Faktor $\\sqrt{m}$ reduziert ist:\n",
    "$$ s(\\overline x) = \\frac{s}{\\sqrt{m}} = u_{\\overline x} $$\n",
    "\n",
    "Der Grund dafür ist, dass sich statistisch ermittelte Unsicherheiten teilweise herausmitteln. Der Mittelwert ist der beste Schätzwert, den wir für den *richtigen* Wert ermitteln können. "
   ]
  },
  {
   "cell_type": "code",
   "execution_count": 76,
   "metadata": {},
   "outputs": [
    {
     "name": "stdout",
     "output_type": "stream",
     "text": [
      "Mittelwert der Messreihe:  0.994 V\n",
      "Standardabweichung der Messungen:  0.022928460168844454 V\n",
      "Abweichung des Mittelwertes:  0.005920102959207644 V\n",
      "----------------------------------------------------------------\n",
      "Messergebnis (99,7%): ( 0.994 +- 0.017760308877622935 ) V\n"
     ]
    }
   ],
   "source": [
    "# diesen Code durch Eingabe von <shift><ret> ausführen\n",
    "\n",
    "x_volt=[1.02, 1.04, 0.98, 1.00, 0.95, 0.99,0.97,0.99,1.00,0.98,0.99,1.01,0.97,1.00,1.02] # Messergebnisse in Volt\n",
    "m = len(x_volt)\n",
    "data=np.array(x_volt)\n",
    "mean=data.mean()\n",
    "std=data.std(ddof=1)\n",
    "\n",
    "print(\"Mittelwert der Messreihe: \", mean, 'V')\n",
    "print(\"Standardabweichung der Messungen: \", std, 'V')\n",
    "print(\"Abweichung des Mittelwertes: \", std/np.sqrt(m), 'V')\n",
    "print('----------------------------------------------------------------')\n",
    "print(\"Messergebnis (99,7%): (\", mean, '+-',3*std/np.sqrt(m),') V')"
   ]
  },
  {
   "cell_type": "markdown",
   "metadata": {},
   "source": [
    "Die Angabe des Messergebnisses erfolgt mit gleicher Präzision, wie die Messwerte aufgenommen wurden. In diesem Fall inkl. 2 Nachkommastellen. Für die $3\\sigma$-Umgebung ergibt sich folgender Messwert mit Unsicherheit:\n",
    "$$U = (0.99 \\pm 0.02)\\,\\mathrm V$$"
   ]
  },
  {
   "cell_type": "markdown",
   "metadata": {},
   "source": [
    "### Normierte Gaußverteilung <a id=\"SubSec-Normierte_Gaußverteilung \"></a>\n",
    "\n",
    "Jede Normalverteilung kann in eine normierte Gauß-Verteilung transformiert werden. Der Übergang erfolgt mit einer Transformation, die die Messwerte normiert. Dadurch können die Verteilungen verschiedener Messwerte miteinander verglichen werden, unabhängig von deren physikalischen Einheit. \n",
    "\n",
    "<div>\n",
    "<img src=\"pictures/normierte_gauss.png\" width=\"900\"/>\n",
    "</div> \n",
    "\n",
    "Die Differenz $x-7mu$ wird auf die Standardabweichung $\\sigma$ normiert. Dadurch erhält man folgende Funktion für $\\mu = 0$ und $\\sigma = 1$ und $-1$:\n",
    "\n",
    "$$h(x) = \\frac{1}{\\sqrt{2\\pi}}\\mathrm e^{-\\frac{z^2}{2 ^2}} $$\n",
    "\n",
    "Der Flächeninhalt unterhalb dieser Verteilungsfunktion ist wieder auf 100% normiert, wenn von $\\pm \\infty$ integriert wird. Die Maximale Amplitude ist jetzt $1/\\sqrt{2 \\pi}$. Die $z$-Achse (vorher Messwerte $x$) ist jetzt dimensionslos (einheitenlos). Somit können mit normierten Gaußverteilungen verschiedene physikalische Größen auch von verschiedenen Messgeräten bezüglich ihrer Streuung verglichen werden. Durch die Intervallgrenzen dieser Verteilung werden Güteklassen von Messeinrichtungen definiert. Andersherum können auch Anforderungen an Messgeräte gestellt werden: Die Anforderungen werden umso höher, je höher die Wahrscheinlichkeit sein soll, dass sich die Messwerte dem *richtigen* Wert annähern. \n",
    "Der Messtechniker kann somit mit der gegebenen Wahrscheinlichkeit abschätzen, ob ermittelte Messwerte innerhalb einer durch Fertigungsunterlagen zugelassenen Toleranz für die Maße eines Werkstücks liegen. Übliche Werte für Invervallgrenzen (meist symmetrisch, also Abweichungen sowohl nach unten als auch nach oben im gleichen Maße) und die zugehörigen Wahrscheinlichkeiten sind der nachfolgenden Tabelle angegeben: \n",
    "\n",
    "<div>\n",
    "<img src=\"pictures/tab_norm_grenzen.png\" width=\"700\"/>\n",
    "</div> \n"
   ]
  },
  {
   "cell_type": "markdown",
   "metadata": {},
   "source": [
    "### Rechenregeln <a id=\"SubSec-Rechenregeln \"></a>\n",
    "\n",
    "Für Erwartungswerte gelten allgemein einfache Rechenregeln, die aus der Linearität der Definition des Erwartungswerts folgen. Im folgenden sind $a$, $b$ Konstanten und $x$, $x_1$ und $x_2$ Zufallsgrößen. Es gilt: \n",
    "\n",
    "$\\left< a \\right> = a$, d. h. auch $\\left< \\left< x \\right>\\right> = \\left< x \\right>$\n",
    "\n",
    "$\\left< ax \\right> = a \\left<  x \\right>$\n",
    " \n",
    "$\\left< x_1 + x_2 \\right>  = \\left<  x_1 \\right>  + \\left< x_2  \\right>$\n",
    "\n",
    "und damit auch $\\left< a x_1 + b x_2  \\right> = a \\left< x_1  \\right> + b \\left< x_2 \\right>$ \n",
    " \n",
    "Der Erwartungswert der quadratischen Abweichung vom Mittelwert, die Varianz $s^2_x$, \n",
    "lässt allgemein wie folgt schreiben:\n",
    "\n",
    "$s^2_x = \\left< { \\left(x - \\left< x\\right> \\right)}^2 \\right>$ \n",
    "\n",
    "Durch Ausmultiplizieren erhält man die äquivalente Darstellung\n",
    "\n",
    "$$\\begin{array}{lcl} \n",
    "s^2_x  & = & \\left< x^2 - 2 x \\left< x \\right>  +  \\left< x \\right>^2 \\right> \\\\\n",
    "  ~  & = & \\left< x^2 \\right> - \\left<2x \\left< x\\right>\\right> + \\left<\\left< x \\right>^2\\right> \\\\ \n",
    "   ~ & = & \\left< x^2 \\right> - 2 \\left< x \\right>^2 + \\left< x \\right>^2 \\\\\n",
    "   ~ & = & \\left< x^2 \\right> - \\left< x \\right>^2 \\\\\n",
    "\\end{array}$$\n",
    "\n",
    "Achtung: der Erwartungswert eines Produktes ist im Allgemeinen nicht gleich dem Produkt der Erwartungswerte,\n",
    "\n",
    "> $\\left< x_1 x_2 \\right> \\ne \\left< x_1 \\right> \\left< x_2 \\right>$.\n",
    "\n",
    "Gleichheit ($\\left< x_1 x_2 \\right> = \\left< x_1 \\right> \\left< x_2 \\right>$) gilt nur dann, wenn $x_1$ und $x_2$ unabhängige Zufallszahlen sind. "
   ]
  },
  {
   "cell_type": "markdown",
   "metadata": {},
   "source": [
    "***\n",
    "## Fehlerfortpflanzung <a id=\"Sec-Fehlerfortpflanzung \"></a>\n",
    "\n",
    "Oft ist die Messgröße $y$ nicht direkt ermittelbar, sondern hängt über einen funktionellen Zusammenhang von $n$ Messgrößen $x_i$ ab:\n",
    "\n",
    "$$ y = f(x_1, x_2, ...,x_n)$$\n",
    "\n",
    "Aufgabe ist es nun das gesucht Messergebnisse $y$ aus den Messwerten $x_i$ zu bestimmen und das Ergebnis am Ende mit einer aussagekräftigen Messabweichung zu versehen. "
   ]
  },
  {
   "cell_type": "markdown",
   "metadata": {},
   "source": [
    "### Einleitung <a id=\"SubSec-Einleitung\"></a>\n",
    "\n",
    "Wir starten mit einem kleinen Beispiel. Angenommen, wir möchen die Varianz einer Größe $y$ berechnen, die sich linear aus zwei Zufallsvariablen $x_1$ und $x_2$ zusammensetzt, $y = a\\,x_1 + b\\,x_2$, wobei $a$ und $b$ reelle Zahlen sind. Dann gilt nach bekannten Rechenvorschriften:\n",
    "\n",
    ">$$\\displaystyle\\begin{eqnarray}\n",
    "    s_y^2 &=& \\left< { \\left(y - \\left< y \\right> \\right)}^2 \\right>\n",
    "                 = \\left< y^2 \\right> - \\left< y \\right>^2 \\\\\n",
    "             &=& \\left< a^2 x_1^2 + b^2 x_2^2 + 2 a b x_1 x_2 \\right> \n",
    "                 - a^2 \\left< x_1 \\right>^2 - b^2 \\left< x_2 \\right>^2 \n",
    "                 - 2 a b  \\left< x_1 \\right> \\left< x_2 \\right> \\\\\n",
    "             &=& a^2 \\left( \\left<x_1^2\\right> - \\left<x_1\\right>^2 \\right)\n",
    "                 + b^2 \\left( \\left<x_2^2\\right> - \\left<x_2\\right>^2 \\right) \n",
    "                 + 2ab \\,\\bigl( \\left<x_1 x_2\\right> - \\left<x_1\\right> \\left<x_2\\right> \\bigr)\\\\\n",
    "             &=& a^2 s_1^2 + b^2 s_2^2 \n",
    "                 + 2ab \\,\\bigl(\\left< x_1 x_2 \\right> - \\left< x_1 \\right>\\left< x_2 \\right>\\bigr)\\\\\n",
    "             &=& a^2 s_1^2 + b^2 s_2^2 \n",
    "                 + 2ab\\cdot \\mathrm{cov}(x_1, x_2)\n",
    "\\end{eqnarray}$$\n",
    "\n",
    "Der letzte Term verschwindet für unabhängige Zufallsvariable $x_1$ und $x_2$. \n",
    "Er enhält die sogenannte **Kovarianz**, \n",
    "\n",
    "$\\mathrm{cov}(x_1, x_2) = \\left< (x_1 - \\left<x_1 \\right>)(x_2  - \\left<x_2\\right>)\\right>\n",
    "               = \\left< x_1 x_2 \\right> - \\left< x_1 \\right>\\left< x_2 \\right>$\n",
    "\n",
    "Die Kovarianz ist eine Verallgemeinerung der *normalen* Varianz $s^2$ für zwei Variablen: Es gilt $\\rm{cov}(x,x) = s^2_x$, d. h. die *Kovarianz einer Variable mit sich selbst entspricht der Varianz*.\n",
    "\n",
    "Für eine allgemeine Funktion $f(x)$ einer Zufallsgröße $x$ lässt sich die Frage\n",
    "nach der Unsicherheit bzw. Varianz $s^2_f$ näherungsweise beantworten, wenn man\n",
    "die Taylor-Entwicklung von $f$ um den Erwartungswert $\\bar x$ betrachtet:\n",
    "\n",
    "$f(x) = f(\\bar x)  + \\left.  {\\frac{\\mathrm{d}f}{\\mathrm{d}x}}\\right| _{x=\\bar x} \n",
    "        \\left(x-\\bar x\\right) + \\ldots$\n",
    "\n",
    "Da die Unsicherheit typischerweise eine kleine Größe ist und wir uns nur um eine Näherung der Funktion $f$ über den Bereich der Unsicherheit $s_x=\\sqrt{s^2_x}$ um den Erwartungswert $\\bar x$ interessieren, ist die Näherung in den meisten Fällen hinreichend genau.\n",
    "\n",
    "Unter Verwendung des Ergebnisses von oben erhalten wir:\n",
    "\n",
    "$s^2_f = \\left< f(x)^2 \\right> - \\left< f(x) \\right>^2   \n",
    "   \\simeq \\left( \\left. \\frac{\\mathrm{d}f}{\\mathrm{d}x}\\right|_{x=\\bar x} \\right)^2 \\left< (x-\\bar x)^2 \\right> $ \n",
    "\n",
    "Der letzte Term ist die Varianz von $x$; damit erhalten wir also:\n",
    "$$ s^2_f \\simeq\\, \\left( \\left. \\frac{\\mathrm{d}f}{\\mathrm{d}x}\\right|_{x=\\bar x} \\right)^2  s^2_x \\,$$\n",
    "Gleichheit gilt bei linearen Funktionen $f(x)$.  \n",
    "\n",
    "Die Varianz der Funktion $f(x)$ entspricht also der Varianz von $x$, multipliziert mit dem Wert der ersten Ableitung der Funktion am Erwartungswert $\\bar x$ zum Quadrat. \n",
    "\n",
    "Bei Funktionen eines Vektors von $n$ unabhängigen Zufallsvariablen $f(x_1, \\ldots, x_n)\\equiv f(\\vec{x})$ ergibt sich die Varianz $s^2_f$ als Summe von Termen analog zur obigen Gleichung, diesmal mit partiellen Ableitungen:\n",
    "$$s^2_f \\simeq \\sum\\limits_{i=1}^n \\left( \\left.\\frac{\\partial f}{\\partial x_i}\\right|_{\\vec{x}=\\left<\\vec{x}\\right>}\\right)^2 s^2_{x_i}$$"
   ]
  },
  {
   "cell_type": "markdown",
   "metadata": {},
   "source": [
    "***\n",
    "### Fehlerfortpflanzung bei unabhängigen Unsicherheiten <a id=\"SubSec-Fehlerfortpflanzung_bei_unabhängigen_Unsicherheiten\"></a> \n",
    "\n",
    "Zusammenfassend kann man nach diesen Vorüberlegungen den allgemeinen Fall \n",
    "einer Funktion $y$ von $n$ unabhängigen Zufallsvariablen $y(x_1, \\ldots, x_n)$ \n",
    "wie folgt schreiben:\n",
    "\n",
    "> $s^2_{y}= \\displaystyle \\sum_{i=1}^n\n",
    " \\left( \\frac{\\partial y}{\\partial x_i} \\right)^2 s^2_{i}\\,$ \n",
    "                     \n",
    "Die partiellen Ableitungen werden wieder am Erwartungswert ausgewertet.\n",
    "\n",
    "Wichtige Spezialfälle sind Summen, Differenzen, Produkte oder Quotienten von zwei Größen.\n",
    "\n",
    "* Setzt sich die gesuchte Größe $y$ aus der Addition oder Subtraktion zweier unabhängigen Messwerte zusammen, so wird ihre Unsicherheit aus der Addition der quadrierten Unsicherheiten der Einzelmessungen berechnet: \n",
    "\n",
    "$$y=x_1 \\pm x_2 \\Rightarrow  \\color{blue}{\n",
    "   {s_y}^2 =  {s_1}^2 + {s_2}^2 } $$\n",
    "\n",
    "\n",
    "* Setzt sich die gesuchte Größe $y$ aus der Multiplikation oder Division zweier unabhängigen Messwerte zusammen, so werden die quadrierten *relativen* Unsicherheiten (d. h. die Unsicherheit dividiert durch den Wert selbst) addiert: \n",
    "   \n",
    "   $$y=x_1 \\cdot  x_2 {\\rm ~oder~} y = \\frac{x_1}{x_2} \\Rightarrow  \\color{blue}{\n",
    "    \\left( \\frac{s_y}{y} \\right)^2 \\simeq\n",
    "    \\left(\\frac{s_1}{x_1} \\right)^2  \n",
    " + \\left(\\frac{s_2}{x_2} \\right)^2 }$$\n",
    " \n",
    "* Hängt eine Größe $y$ von der Potenz eines Messwertes ab, so gilt:\n",
    " $$y = x^m \\quad\\rightarrow \\frac{\\partial y}{\\partial x} = m x^{m-1}$$\n",
    "\n",
    "$$s_y^2 = \\left(\\frac{\\partial y}{\\partial x}\\right)^2 s_x^2 \n",
    "            = m^2 x^{2m-2} s_x^2 = m^2 \\frac{y^2}{x^2} s_x^2 \n",
    "    \\quad\\rightarrow \\frac{s_y^2}{y^2} = m^2 \\frac{s_x^2}{x^2}\\Rightarrow  \\color{blue}{\n",
    "    \\frac{s_y}{x} \\simeq |m| \\frac{s_x}{x}} $$\n",
    "    \n",
    "* Wie oben besprochen lässt sich die Unsicherheit einer Größe $x$ durch Mittelwertbildung der einzelnen Messwerte $x_i$ von $m$ gleichen Messungen vermindertn:\n",
    "\n",
    "$$y = \\bar{x} = \\frac{1}{N} \\displaystyle \\sum_{i=1}^N x_i \n",
    "\\Rightarrow  {\\sigma_y}^2 = \\frac{1}{N^2} \\displaystyle \\sum_{i=1}^N {\\sigma_i}^2  \n",
    "  = \\frac{1}{N^2} N {\\sigma_x}^2 = \\frac{1}{N} {\\sigma_x}^2 \\Rightarrow \\color{blue}{ {\\sigma_\\bar{x}}^2 = \\frac{1}{N} {\\sigma_x}^2 }$$"
   ]
  },
  {
   "cell_type": "markdown",
   "metadata": {},
   "source": [
    "### Fehlerfortpflanzung bei korrelierten Unsicherheiten <a id=\"SubSec-Fehlerfortpflanzung_bei_korrelierten_Unsicherheiten\"></a> \n",
    "\n",
    "Häufig liegt in der Messtechnik der Fall vor, dass wir voneinander unabhängige Messungen betrachten und diese zu unserer gesuchten Messgröße kombinieren. Teilweise können aber auch Messungen beobachtet werden, welche eine Abhängigkeit voneinander aufweisen. In diesem Fall spricht man von **Korrelationen** zwischen Messgrößen und der Kovarianz-Term, der bereits oben einmal eingeführt wurde, muss berücksichtigt werden! \n",
    "\n",
    "* Bei **unabhängigen (nicht-korrelierten)** Messungen wurde der Kovarianz-Term oben bisher auf Null gesetzt: \n",
    "\n",
    "$$\\mathrm{cov}(x_1, x_2) = 0$$\n",
    "\n",
    "* Bei **abhängigen (korrelierten)** Messungen besitzen die Messungen *gemeinsame* Unsicherheiten, wenn z.B. alle Messungen eine gemeinsame systematische Unsicherheit besitzen: \n",
    "\n",
    "$$\\mathrm{cov}(x_1, x_2) = \\left< x_1 x_2 \\right> - \\left< x_1 \\right>\\left< x_2 \\right>$$\n",
    "\n",
    "Diese *gemeinsame* Unsicherheit resultiert darin, dass Abhängigkeiten zwischen den gemessenen Messwerten $x_1$ und $x_2$ entstehen. Ist zum Beispiel die eine Messgröße $x_1$ zu groß, so ist die Wahrscheinlichkeit, dass auch die andere Größe $x_2$ einen zu großen Wert hat, erhöht. Diesen Effekt, dass beide Größen zu große Werte ausgeben, nennent man auch **positive Korrelation**. Entsprechend würde eine **negative Korrelation** bedeuten, dass der zweite Wert einer Messgröße mit erhöhter Wahrscheinlichkeit zu klein ausgegeben wird, obwohl die erste Größe einen zu großen Wert hat. Ein Beipiel für eine negative Korrelation ist die Ausgleichsgerade (siehe nächste Abschnitte) $y = m\\cdot x + b$, welche an Messwerte angepasst werden kann. Wenn sich der Wert von $m$ vergrößert, zu muss zwangsläufig der $y$-Achsenabschnitt $b$ kleiner werden, damit die Gleichung weiterhin erfüllt ist. Die Größen $m$ und $b$ sind also negativ korreliert. \n",
    "Sind hingegen zwei Variablen *unabhängig*, so kann man aus dem Wert der ersten *keine* Information über die zweite Variable gewinnen (oder umgekehrt geht das auch nicht). In diesem Fall spricht ist die Korrelation exakt Null. \n",
    "\n",
    "Im folgenden werden wir uns auch noch die Kovarianzmatrix einführen, da diese bei der Behandlung von systematischen Unsicherheiten eine wichtige Rolle spielt. "
   ]
  },
  {
   "cell_type": "markdown",
   "metadata": {},
   "source": [
    "***\n",
    "#### Kovarianz, Kovarianz- und Korrelationsmatrix <a id=\"SubSubSec-Kovarianzmatrix\"></a>\n",
    "\n",
    "Mittels der Kovarianz kann also geprüft werden, ob zwischen zwei Zufallsgrößen \n",
    " $x_1$ und $x_2$ ein Zusammenhang besteht. Die Kovarianz lässt sich aus dem Produkt der Abweichungen vom Erwartungswert der ersten und zweiten Zufallsgröße bestimmen. Wir listen ihre Eigenschaften im folgenden auf:\n",
    " \n",
    "* Definition der **Kovarianz**:\n",
    "\n",
    "$$\\mathrm{cov}(x_1, x_2) = \\left<  (x_1 - \\left< x_1\\right>) \\, (x_2 - \\left< x_2\\right>) \\right>.$$\n",
    "\n",
    "* Die Kovarianz einer **einzelnen Variablen** entspricht ihrer Varianz:\n",
    "\n",
    "$$\\mathrm{cov}(x_1, x_1) = s^2_{x_1}$$\n",
    "\n",
    "* Für **unabhängige Variablen** verschwindet die Kovarianz:\n",
    "\n",
    "$$\\mathrm{cov}(x_1, x_2) = 0$$\n",
    "\n",
    "* Sie kann folgenden **Maximal-Wert** annehmen:\n",
    "\n",
    "$$\\sqrt{s^2_1 \\cdot s^2_2} = s_1 \\cdot s_2$$\n",
    "\n",
    "* Wenn es mehrere Variable gibt, werden paarweise Werte für die Kovarianz berechnet, dadurch erhält man die sogenannte **Kovarianzmatrix**:  \n",
    "\n",
    "$${\\bf S^2} = (s^2_{ij}) =  \\left( \\mathrm{cov}(x_i, x_j) \\right).$$\n",
    "\n",
    "Übersichtlicher ist eine Vektor-Schreibweise mit dem Variablen-Vektor $\\vec{x}$:\n",
    "\n",
    "${\\bf S^2} = \\bigl< \\bigl( \\vec{x} - \\left< \\vec{x} \\right> \\bigr) \\,\n",
    "       \\bigl(\\vec{x} - \\left< \\vec{x} \\right> \\bigr)^T \\bigr>\n",
    "      = \\left< \\vec{x}\\vec{x}^T\\right> \\, - \\, \\left< \\vec{x}\\right> \\left<\\vec{x}\\right>^T $\n",
    "\n",
    "Im Prinzip kann die Kovarianz, und somit auch die Werte in der Kovarianzmatrix, jeden beliebigen Wert annehmen, was zu einem sehr großen Wertebereich führt. Um die Darstellung zu vereinfachen wird die Kovarianz typischerweise normiert, sodass die Kovarianz Werte zwischen $-1$ und $+1$ annimmt. \n",
    "\n",
    "$$\\bigl( \\rho_{ij} \\bigr) \\,=\\, \\Bigl (\\frac{ \\mathrm{S}^2_{ij} } {s_i\\,s_j} \\Bigr)$$\n",
    "\n",
    "Für den Fall in der Vorlesung, mit nur zwei Variablen $x_1 = x$ und $x_2 = y$ würde sich der Korrelationskoeffizient ausgeschrieben wiefolgt berechnen:\n",
    "\n",
    "$$\\rho = \\frac{\\mathrm{cov}_{xy}}{s_x \\cdot s_y} = \\frac{\\sum_{i=1}^N (x_i-\\overline x)\\cdot (y_i-\\overline y)}{\\sqrt{\\sum_{i=1}^N (x_i-\\overline x)^2} \\cdot \\sqrt{ \\sum_{i=1}^N (y_i-\\overline y)^2}}$$\n",
    "\n",
    "> Wir haben nun verschiedene Kenngrößen der Statistik kennengelernt, um Beziehungen zwischen zwei Variablen zu beschreiben. Die **Kovarianz** ist eher ungeeignet um Größen miteinander zu vergleichen, da die von der Skalierung abhängt. Der **Korrelationskoeffizient** hingegen ist eine mormierte Größe und kann als Maß für Korrelationen benutzt werden. Allerdings nur für lineare Korrelationen! Außerdem muss auch hierbei Vorsicht gewahrt werden: Eine hoher Korrelationskoeffizient bedeutet nicht immer eine hohe Korrelation der Variablen. Es kann sich auch um Ausreißer handeln! Außerdem wird die Bedeutung der Korrelation auch häufig überinterpretiert. Ein kleiner Korrelationskoeffizient beudetet nämlich auch nicht notwendigerweise, dass es keinerlei Beziehung zwischen zwei Variablen gibts. Der Zusammenhang könnte ja ein anderer als linear sein, z.B. quadratisch. Dann würde die Korrelation trotz quadratischem Zusammenhang den Wert 0 ausgeben. \n",
    "\n",
    "Zum besseren Verständnis mag ein Beispiel helfen. Wir erzeugen dazu Zufallsgrößen mit\n",
    "unabhängigen und gemeinsamen Fehlern:"
   ]
  },
  {
   "cell_type": "markdown",
   "metadata": {},
   "source": [
    "#### Beispiel und grafische Darstellung von Kovarianz und Korrelation <a id=\"SubSubSec-covBeispiel\"></a>\n",
    "\n",
    "In diesem Abschnitt werden verschiedene Code-Blocks eingefügt, um ein Beispiel durchzurechnen und zu simulieren. Zunächst werden zwei Messungen $m_i$ generiert. Die beiden Messungen setzen sich jeweils aus dem *richtigen* Wert $r_i$, einem *unabhängigen* zufälligen Anteil $u_i$ und einem *gemeinsamen* zufälligen Anteil $u_g$. \n",
    "\n",
    "$$m_1 = r_1 + u_1 + u_g$$\n",
    "$$m_2 = r_2 + u_2 + u_g$$ \n",
    "\n",
    "Zunächst erstellen wir drei Listen mit jeweils 250 standard-normalverteilten Zufallsgrößen. "
   ]
  },
  {
   "cell_type": "code",
   "execution_count": 77,
   "metadata": {},
   "outputs": [],
   "source": [
    "# Zufallszahlen erzeugen\n",
    "u_1 = np.random.randn(250)\n",
    "u_2 = np.random.randn(250)\n",
    "u_g = np.random.randn(250)"
   ]
  },
  {
   "cell_type": "markdown",
   "metadata": {},
   "source": [
    "Durch Multiplikation mit vorgegebenen Werten für die jeweiligen Unsicherheiten und Addition zu den angenommenen richtigen\n",
    "Werten der Messgrößen mit *m1* und *m2* erhalten wir simulierte Messwerte:"
   ]
  },
  {
   "cell_type": "code",
   "execution_count": 78,
   "metadata": {},
   "outputs": [],
   "source": [
    "# richtige Werte\n",
    "r_1 = 5.0\n",
    "r_2 = 5.0\n",
    "\n",
    "# Unsicherheit\n",
    "s_1 = 1.0\n",
    "s_2 = 1.0\n",
    "s_g = 0.0\n",
    "\n",
    "# Simulierte Messwerte erstellen\n",
    "m_1 = r_1 + s_1*u_1 + s_g*u_g\n",
    "m_2 = r_2 + s_2*u_2 + s_g*u_g"
   ]
  },
  {
   "cell_type": "markdown",
   "metadata": {},
   "source": [
    "Zur Veranschaulichung wählt man ein sogenanntes \"Streudiagramm\" (engl.: \"scatter-plot\"), \n",
    "wie es in *matplotlib.pyplot.scatter()* implementiert ist:"
   ]
  },
  {
   "cell_type": "code",
   "execution_count": 79,
   "metadata": {},
   "outputs": [
    {
     "data": {
      "image/png": "[encoded data removed]",
      "text/plain": [
       "<Figure size 540x540 with 1 Axes>"
      ]
     },
     "metadata": {
      "needs_background": "light"
     },
     "output_type": "display_data"
    }
   ],
   "source": [
    "def scatterplot(x, y):\n",
    "    plt.figure(figsize=(7.5,7.5))    \n",
    "    plt.scatter(x, y)\n",
    "    plt.show()\n",
    "    \n",
    "scatterplot(m_1, m_2)"
   ]
  },
  {
   "cell_type": "markdown",
   "metadata": {},
   "source": [
    "Um eine Stärke für die Korrelation zu definieren wird der Korrelationskoeffizient berechnet. \n",
    "Die Elemente der Kovarianzmatrix sind:\n",
    "> $s^2_{11} = s_1^2 + s_g^2$  \n",
    "  $s^2_{22} = s_2^2 + s_g^2$  \n",
    "  $s^2_{12} = s^2_{21} = s_g^2\\,$;\n",
    "\n",
    "Und der Korrelationskoeffizient $\\rho$ der beiden Messungen ergibt sich somit zu:\n",
    "\n",
    "$$\\displaystyle\\rho = \\frac{s^2_{12}}{\\sqrt{s^2_{11} \\cdot s^2_{22}}}\\,$$"
   ]
  },
  {
   "cell_type": "code",
   "execution_count": 80,
   "metadata": {},
   "outputs": [
    {
     "name": "stdout",
     "output_type": "stream",
     "text": [
      "Korrelationskoeffizient rho =  0.0\n"
     ]
    }
   ],
   "source": [
    "rho = s_g*s_g / np.sqrt( (s_1**2 + s_g**2) * (s_2**2+s_g**2))\n",
    "print ('Korrelationskoeffizient rho = ', rho)"
   ]
  },
  {
   "cell_type": "markdown",
   "metadata": {},
   "source": [
    "*Aufgabe: Im nachfolgenden Code-Block wurden die Code-Schnipsel des Beispiels zusammengefügt. Probier verschiedene Werte für die richtigen Werte $r_1$ und $r_2$ aus, sowie ändere ebenfalls $s_1$, $s_2$ und $s_g$ (z.B. 0., 0.5, 1.0, 1.5) und lass den Korrelationskoeffizienten berechnen. Welcher Zusammenhang zwischen Streudiagram und Korrelationskoeffizienten lässt sich erkennen?*"
   ]
  },
  {
   "cell_type": "code",
   "execution_count": 81,
   "metadata": {},
   "outputs": [
    {
     "data": {
      "image/png": "[encoded data removed]",
      "text/plain": [
       "<Figure size 540x540 with 1 Axes>"
      ]
     },
     "metadata": {
      "needs_background": "light"
     },
     "output_type": "display_data"
    },
    {
     "name": "stdout",
     "output_type": "stream",
     "text": [
      "Korrelationskoeffizient rho =  1.0\n"
     ]
    }
   ],
   "source": [
    "# richtige Werte\n",
    "r_1 = 5.0\n",
    "r_2 = 5.0\n",
    "\n",
    "# Unsicherheit\n",
    "s_1 = 0.0\n",
    "s_2 = 0.0\n",
    "s_g = 1.0\n",
    "\n",
    "# Simulierte Messwerte erstellen\n",
    "m_1 = r_1 + s_1*u_1 + s_g*u_g\n",
    "m_2 = r_2 + s_2*u_2 + s_g*u_g\n",
    "\n",
    "# Zufallszahlen erzeugen\n",
    "u_1 = np.random.randn(250)\n",
    "u_2 = np.random.randn(250)\n",
    "u_g = np.random.randn(250)\n",
    "\n",
    "def scatterplot(x, y):\n",
    "    plt.figure(figsize=(7.5,7.5))    \n",
    "    plt.scatter(x, y)\n",
    "    plt.show()\n",
    "    \n",
    "scatterplot(m_1, m_2)\n",
    "\n",
    "rho = s_g*s_g / np.sqrt( (s_1**2 + s_g**2) * (s_2**2+s_g**2))\n",
    "print ('Korrelationskoeffizient rho = ', rho)"
   ]
  },
  {
   "cell_type": "markdown",
   "metadata": {},
   "source": [
    "#### Fehlerfortpflanzung <a id=\"SubSubSec-Fehlerfortpflanzung\"></a>\n",
    "\n",
    "Das Fehlerfortpflanzungsgesetz für **unabhängige**, also **unkorrelierte Messungen**, hatten wir oben wiefolgt für eine Messgröße $y$ definiert: \n",
    "\n",
    "* der vereinfachte Fall, wenn sich die gesucht Messgröße linear aus *zwei* unabhängigen Variablen $x_1$ und $x_2$ zusammensetzt, $y = a\\,x_1 + b\\,x_2$, wobei wir den Kovarianzterm gleich Null gesetzt hatten:\n",
    "\n",
    "$$ s^2_y = a^2 s^2_1 + b^2 s^2_2 + 2ab \\, \\mathrm{cov}(x_1, x_2)$$\n",
    "\n",
    "* der allgemeine Fall für $y = f(x_1, x_2, ... x_n)$ und **unabhängige** Variablen:\n",
    "\n",
    "$$s^2_{y}= \\displaystyle \\sum_{i=1}^n\n",
    " \\left( \\frac{\\partial y}{\\partial x_i} \\right)^2 s^2_{x_i}\\,$$\n",
    "\n",
    "In den meisten Fällen wird es in Messungen irgendeine Art von Korrelation geben, die durch gemeinsame systematische Unsicherheiten herbei geführt wird. Oben haben wir eben noch hergeleitet, wie diese Korrelationen dank der Kovarianz oder des Korrelationskoeffizienten quantifiziert werden können. Der Kovarianzterm, der eben noch vernachlässigt wurde, muss jetzt berücksichtigt werden und man kann mithilfe der Kovarianzmatrix die allgemeine Form herleiten:\n",
    "\n",
    "* der allgemeine Fall für $y = f(x_1, x_2, ... x_n)$ und **abhängige** Variablen:\n",
    "\n",
    "$$s^2_{y}=\\approx \\displaystyle \\sum_{i=1}^n \\sum_{j=1}^n\n",
    " \\left( \\frac{\\partial y}{\\partial x_i} \\right) s^2_{ij}\\left( \\frac{\\partial y}{\\partial x_j} \\right)\\,$$\n",
    "\n",
    "Wie bereits oben für unkorrelierte Variablen können wir wieder Spezialfälle betrachten. Wichtige Spezialfälle sind Summen, Differenzen, Produkte oder Quotienten von zwei Größen.\n",
    "\n",
    "* Addition und Subtration zweier korrelierter Messwerte führt zu folgendem Fehlerfortpflanzungsgesetz:\n",
    "\n",
    "$$y=x_1 \\pm x_2 \\Rightarrow \\color{blue}{\n",
    "   {s_y}^2 = {s_1}^2 + {s_2}^2 \\pm 2\\, \\mathrm{cov}(x_1,x_2) } $$\n",
    "   \n",
    "* Multiplikation oder Division zweier korrelierter Messwerte führt zu folgendem Fehlerfortpflanzungsgesetz:\n",
    "\n",
    "$$y=x_1 \\cdot  x_2 {\\rm ~oder~} y = \\frac{x_1}{x_2} \\Rightarrow \\color{blue} {\n",
    "    \\left( \\frac{\\sigma_y} {y} \\right)^2 \\simeq \n",
    "    \\left( \\frac{\\sigma_1} {x_1} \\right)^2  \n",
    "  + \\left( \\frac{\\sigma_2} {x_2} \\right)^2\n",
    "   \\pm 2\\frac{\\mathrm{cov}(x_1,x_2)}{x_1 x_2} }$$\n",
    "  \n",
    "***\n",
    "**Beispiel:** Man nehme zwei Messwerte $x_1$ und $x_2$ deren Erwartungswerte und Unsicherheiten jeweils identisch sind, z.B.\n",
    "> $\\bar x_1 = \\bar x_2 = 10$\n",
    "\n",
    "> $s_1 = s_2 = 1$\n",
    "  \n",
    "\n",
    "Die zu ermittelnde Messgröße wird über folgende Relation berechnet:\n",
    "> $y = x_1 - x_2$\n",
    "\n",
    "Das Ergebnis für $\\rho = 0$, d.h. **unabhängige** Messwerte, der kombinierten Messunsicherheit für $y$ beträgt\n",
    "> $s_y = 1.4$\n",
    "\n",
    "Das Ergebnis für $\\rho = 1$, d.h. **korrelierte** Messwerte, der kombinierten Messunsicherheit für $y$ beträgt\n",
    "> $s_y = 0.0$\n",
    "\n",
    "Dieses Beispiel findet häufig Anwendung im Bereich die Signalübertragung und ist unter der Bezeichnung **differentielle Signalübertragung** bekannt. Neben dem eigentlichen Signal, $x_1$ wird hierbei ein zweites, invertiertes Signal mitübertragen, $x_2 = -x_1$. Da alle Störungen innerhalb der gleichen Übertragungsstrecke fast vollständig korreliert sind, heben sich diese am Ende auf. Das Nutzsignal erhält man zurück, indem man folgende Signalkombination berechnet: $y = 0.5\\cdot (x_1 - x_2)$. Aufgrund des hohen Korrelationsgrades der einzelnen Signalkomponenten ist die Unsicherheit des extrahierten Signal sehr klein: $s_y \\simeq 0$.\n",
    "\n",
    "***\n",
    "**Anmerkung:** Früher wurden häufig *Worst-Case*-Unsicherheiten berechnet. Auch bekannt unter dem Begriff der **Größfehlerabschätzung**. Anstelle die Wurzel aus der Summe der Quadrate der einzelnen Unsicherheiten zu nehmen, wurden deren Absolutbeträge aufaddiert. Dies entspricht quasi einer Korrelation von 100%, was in der Praxis sehr unrealistisch ist. Ein solche starke Korrelation tritt fast nie auf und somit würde die Methode immer zu einer zu großen Fehlerabschätzung führen. Werde hohe Korrelationen vermutet, kann man diese immer realistisch abschätzen und die hier gezeigten Formeln benutzen."
   ]
  },
  {
   "cell_type": "markdown",
   "metadata": {},
   "source": [
    "***\n",
    "## Regressionsanalyse <a id=\"Sec-Regressionsanalyse\"></a>\n",
    "\n",
    "Bei der Regressionsanalyse handelt es sich um ein statistisches Analyseverfahren zur Feststellung funktionaler Beziehungen zwischen einer abhängigen und einer oder mehreren unabhängigen Variablen. Der Begriff **lineare Regression** ist weit verbreitet, doch dies ist nur der einfachste Fall eines Modells, nämlich der einer Geraden: $y = a \\cdot x +b$. Grundsätzlich sollte man den Typ der Fit-Funktion $y = f(x)$ immer vorher festlegen und auch begründen können. Es ist keine wissenschaftlicher oder messtechnische Vorgehensweise alle möglichen Funktionen nur auf Verdacht *auszuprobieren* und sich für die besten entscheiden. Hierbei wäre es möglich, dass unbrauchbare Näherungen pder sogar falsche (unsinnige) und nicht-wissenschaftlicher Ergebnisinterpretationen auftreten könnten, was es zu vermeiden gilt. \n",
    "\n",
    "Um ein Regressionsmodell zu berechnen, benötigen wir ein objektives Maß um die Zuverlässigkeit und Güte unsere Modellfunktion zu bestimmen. Dies nennt man auch das **Bestimmtsheitsmaß**, bzwl. auf englisch **coefficient of determination** oder **goodness of fit**. \n",
    "\n",
    "Zusamenngefasst suchen wir nun also ein bestimmtes Modell für ein bestimmtes Set an Daten und wollen die Modellparameter bestimmen. Dabei soll das Modell möglichst gut die Messdaten vorhersagen. Die Modellanpassung wird häufig über die Methode der kleinsten Quadrate verwendet, mit welcher sich fast alle Messdaten modellieren lassen (auch kompliziertere Situationen wie beispielsweise korrelierte Unsicherheiten). "
   ]
  },
  {
   "cell_type": "markdown",
   "metadata": {},
   "source": [
    "### Modellanpassung: Methode der kleinsten Fehlerquadrate <a id=\"SubSec-Modellanpassung\"></a>\n",
    "\n",
    "Als erstes soll überprüft werden, inwiefern die Funktion oder das Modell mit den Messdaten übereinstimmt. Ausgangspunkt ist also unsere Messreihe mit $N$ Messpunkten (x_i, y_i) und wir haben eine Funktion $f(x_i)$ definiert, die die Messwerte $y_i$ möglichst gut vorhersagen soll. Laut Carl Friedrich Gauß kann der Abstand der Funktionswerte zu den Messwerten wievolgt definiert werden:\n",
    "\n",
    "> Methode der Gauß'schen Fehlerquadrate: $d := \\sum_i^N \\left( f(x_i) - y_i\\right)^2 $\n",
    "\n",
    "...\n",
    "\n",
    "<div>\n",
    "<img src=\"pictures/lin_reg.png\" width=\"700\"/>\n",
    "</div> "
   ]
  },
  {
   "cell_type": "markdown",
   "metadata": {},
   "source": [
    "***\n",
    "## Zusammenfassung <a id=\"Sec-Zusammenfassung\"></a>\n",
    "\n",
    "| Begriff | Definition | \n",
    "| --- | --- |\n",
    " | Wahrer Wert | Tatsächlich vorhandener Wert einer physikalischen Größe, er ist durch eine endliche Genauigkeit der verwendeten Messmittel nicht exakt bestimbar.  | \n",
    " | Richtiger Wert | Mit denkbar größten technischem und theoretischem Aufwand ermittelter Messwert, der als Bezugswert zur Bewertung eines Messergebnisses benutzt wird.  | \n",
    " | Messwert | Mit einer Messeinrichtung und theoretischen Überlegungen ermittelter Wert einer Messgröße, auch als Schätzwert der Messgröße bezeichnet.  | \n",
    " | Messreihe | Aufnahme von mehreren Messwerten von einem Messaufbau unter möglichst identischen Messbedingungen, d. h. unter Wiederholbedingungen. Die  Messreihe wird zur statistischen Analyse und damit zur Bewertung der zufälligen Einflüsse auf ein Messergebnis benötigt.  | \n",
    " | Erwartungswert | Mittelwert einer unendlichen Gesamtheit | \n",
    " | Messabweichung | Differenz zwischen ermitteltem Messwert (Schätzwert der Messgröße) und dem richtigen Wert der Messgröße | \n",
    " | Unsicherheit | Von zufälligen Einflüssen verursachte Abweichungen eines Messergebnisses (z.B. über Statistik abschätzen) | \n",
    " | Standardabweichung / Streuung | In der Messtechnik auch als Streuung bezeichnet, sie ist die Quadratwurzel aus der von zufälligen Einflüssen verursachte Abweichung eines Messergebnisses (Wurzel der Varianz) | \n",
    " | Varianz | Beschreibt die quadratische Abweichung einer Zufallsvariable von dem Erwartungswert der betrachteten Gesamtheit. | \n",
    " | Verteilung | Beschreibung der Wahrscheinlichkeit mit der Elemente einer Gesamtheit in vorgegebene Bereiche liegen. | \n",
    " | Korrektur | Von der systematischen Abweichung abgeleiteter Korrekturwert zur Berichtigung eines Schätzwertes einer Messgröße. | \n",
    " | Genauigkeitsklasse | Von den Fehlergrenzen abgeleitete Genauigkeitsangabe für Messeinrichtungen. | \n",
    " | Korrelation | Maß für die lineare Korrelation zweiter Messgrößen | \n",
    " | Regression | statistisches Analyseverfahren zur Feststellung funktionaler Beziehungen zwischen einer abhängigen und einer oder mehreren unabhängigen Variablen | "
   ]
  }
 ],
 "metadata": {
  "kernelspec": {
   "display_name": "Python 3",
   "language": "python",
   "name": "python3"
  },
  "language_info": {
   "codemirror_mode": {
    "name": "ipython",
    "version": 3
   },
   "file_extension": ".py",
   "mimetype": "text/x-python",
   "name": "python",
   "nbconvert_exporter": "python",
   "pygments_lexer": "ipython3",
   "version": "3.8.5"
  }
 },
 "nbformat": 4,
 "nbformat_minor": 4
}
