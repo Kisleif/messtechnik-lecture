{
 "cells": [
  {
   "cell_type": "markdown",
   "metadata": {},
   "source": [
    "---\n",
    "#  Vorlesungsskript zur Messtechnik\n",
    "\n",
    "##### Helmut-Schmidt-Universität, Universität der Bundeswehr Hamburg\n",
    "\n",
    "Dr. rer. nat. Katharina-Sophie Isleif, isleifk@hsu-hh.de\n"
   ]
  },
  {
   "cell_type": "markdown",
   "metadata": {},
   "source": [
    "### Jupyter Notebooks\n",
    "\n",
    "Dieses github-Repository beinhaltet eine Anzahl von [Jupyter](https://jupyter.org/) Notebooks, welche Notizen und Beispiele für das Bachelormodul Messtechnik an der Helmut-Schmidt-Universität Hamburg, Universität der Bundeswehr, gelesen von Katharina-Sophie Isleif, bereitstellt. Das Notebook beinhaltet Beispiele in der Programmiersprache [IPython 3](http://ipython.org/), welche am besten interaktiv ausgeführt werden sollten. Eine kurze Anleitung zur Ausführung von Blocks und Code in Jupyter Notebooks kann im [Jupyter Notebook Tutorial](00_jupyter_notebook_tutorial.ipynb) gefunden werden. "
   ]
  },
  {
   "cell_type": "markdown",
   "metadata": {},
   "source": [
    "--- "
   ]
  },
  {
   "cell_type": "markdown",
   "metadata": {},
   "source": [
    "<div>\n",
    "<img src=\"pictures/mt.png\" width=\"1000\"/>\n",
    "</div>"
   ]
  },
  {
   "cell_type": "markdown",
   "metadata": {},
   "source": [
    "# Inhalt\n",
    "\n",
    "Der Inhalt dieses Vorlesungsskripts wird im laufenden Trimester entwickelt und erweitert. Gerne können Anmerkungen zu Fehlern oder Anregungen gemeldet werden, beispielsweise als [issues](https://github.com/Kisleif/messtechnik-lecture/issues) auf GitHub oder über direkte Kontaktaufnahme über isleifk@hsu-hh.de."
   ]
  },
  {
   "cell_type": "markdown",
   "metadata": {},
   "source": [
    "### Teil 1: Grundlagen\n",
    "***"
   ]
  },
  {
   "cell_type": "markdown",
   "metadata": {},
   "source": [
    "* [Einleitung: Einheiten, Kalibrieren und Eichen](Einleitung.ipynb)"
   ]
  },
  {
   "cell_type": "markdown",
   "metadata": {},
   "source": [
    "### Teil 2: Messsysteme, Messsignale, Messen\n",
    "***"
   ]
  },
  {
   "cell_type": "markdown",
   "metadata": {},
   "source": [
    "* [Statische Messsysteme: Kennlinien](StatischeMesssysteme.ipynb)\n",
    "\n",
    "* Messabweichungen\n",
    "* Messsignale\n",
    "* Messsignale analysieren\n",
    "* Dynamische Messsysteme\n",
    "* Messen elektrischer Größen "
   ]
  },
  {
   "cell_type": "markdown",
   "metadata": {},
   "source": [
    "### Teil 3: Sensoren\n",
    "***"
   ]
  },
  {
   "cell_type": "markdown",
   "metadata": {},
   "source": [
    "* Auswahl an Sensoren"
   ]
  },
  {
   "cell_type": "markdown",
   "metadata": {},
   "source": [
    "# Literatur\n",
    "\n",
    "* Parthier, R. (2020). Messtechnik: Vom SI-Einheitensystem über Bewertung von Messergebnissen zu Anwendungen der elektrischen Messtechnik (9th 2020 ed.). Wiesbaden: Springer Vieweg\n",
    "* Böttcher, J. (2020). Kompendium Messtechnik und Sensorik: https://www.bod.de/buchshop/kompendium-messtechnik-und-sensorik-joerg-boettcher-9783752632491, www.unibw.de/regelungs-und-messtechnik\n",
    "* Weiterführende Literatur: Puente León, F. (2019). Messtechnik: Grundlagen, Methoden und Anwendungen (11. Auflage). Springer Vieweg\n",
    "* Weiterführende Literatur: Brian Douglas, Fundamentals of Control Theory, https://engineeringmedia.com"
   ]
  },
  {
   "cell_type": "markdown",
   "metadata": {},
   "source": [
    "# Beitragende\n",
    "\n",
    "* Katharina-Sophie Isleif (Autor)"
   ]
  }
 ],
 "metadata": {
  "kernelspec": {
   "display_name": "Python 3",
   "language": "python",
   "name": "python3"
  },
  "language_info": {
   "codemirror_mode": {
    "name": "ipython",
    "version": 3
   },
   "file_extension": ".py",
   "mimetype": "text/x-python",
   "name": "python",
   "nbconvert_exporter": "python",
   "pygments_lexer": "ipython3",
   "version": "3.8.5"
  }
 },
 "nbformat": 4,
 "nbformat_minor": 4
}
