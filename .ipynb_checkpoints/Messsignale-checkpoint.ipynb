{
 "cells": [
  {
   "cell_type": "markdown",
   "metadata": {},
   "source": [
    "---\n",
    "Zurück zur Übersicht | [Inhalt](00_Inhalt.ipynb)\n",
    "\n",
    "---"
   ]
  },
  {
   "cell_type": "code",
   "execution_count": 4,
   "metadata": {},
   "outputs": [],
   "source": [
    "# Für diese Notebook benötigte Pakete:"
   ]
  },
  {
   "cell_type": "markdown",
   "metadata": {},
   "source": [
    "# Messsignale"
   ]
  },
  {
   "cell_type": "markdown",
   "metadata": {},
   "source": [
    "Einführung des Signalbegriffs in der Messtechnik, deren Klassifizierung und deren Wandung ins digitale\n",
    "Ziel: eine aus der Umwelt gewonnene Messinformation dem Messtechniker für Steuer- oder Regelungsprozesse zugänglich machen -> interpretierbare Messgröße wäre am besten\n",
    "Moderne Messtechnik beinhaltet viel Analog-Digital-Wandlung -> auch im Praktikum\n",
    "Messwerte beinhalten die im Messprozess enthaltenen Informationen über physikalische Größen:\n",
    "Wie komme ich daran? Wie können diese Informationen weiter gegeben werden? Wie sehen diese Informationen aus? Codierung?\n",
    "Übertragung dieser Information erfolg in Form eines Signals! Achtung: Signal wird auch anderweitig benutzt, in der Messtechnik ist Signal = Zeitverlauf einer physik. Größe -> MESSsignal\n",
    "Das bedeutet, dass ein Signal nicht an eine bestimmte physik. Größe gebunden ist\n",
    "Ein oder mehrere Parameter des Signals (Informationsparameter) tragen die physik. Information. \n",
    "Beispiel:  u * sin (omega t + phi): \n",
    "Zeitlicher Verlauf durch folgende Parameter gegeben: Amplitude, Frequenz, Phase\n",
    "Je nach messtechnische Aufgabe, kann die Information in Amplitude, Frequenz oder Phase stecken"
   ]
  },
  {
   "cell_type": "markdown",
   "metadata": {},
   "source": [
    "## Inhalt\n",
    "***\n",
    "\n",
    "### [Wandlung von physikalischen Größen](#Sec-Wandlung_von_physikalischen_Größen)\n",
    "### [Wo steckt die Information?](#Sec-Information)\n",
    "### [Klassifizierung von Messsignalen](#Sec-Klassifizierung_von_Messsignalen)\n",
    "### [Nyquist-Shannon-Abtasttheorem (Aliasing)](#Sec-Nyquist-Shannon-Abtasttheorem)\n",
    "### [Zusammenfassung](#Sec-Zusammenfassung)\n"
   ]
  },
  {
   "cell_type": "markdown",
   "metadata": {},
   "source": [
    "***\n",
    "## Wandlung von physikalischen Größen <a id=\"Sec-Wandlung_von_physikalischen_Größen\"></a>\n",
    "\n",
    "schon bei einfachen Messeinrichtungen erfolgt i.Allg. eine Wandlung des aus der Umwelt gewonnen Messsignals in einer für den Menschen interpretierbare, bzw. Zur Weiterverarbeitung geeignete Signalform\n",
    "Ganz wichtig: Messinformation der Informationsparameters darf auf gar keinen Fall undefiniert verändert werden (dem kann man sich in der Praxis aber nur endlich nähern)\n",
    "Wandlung der Signalform:\n",
    "physik. Größe der Informationsparameters wird nicht geändert\n",
    "Nur seine Form wird den Erfordernissen der Weiterverarbeitung angepasst\n",
    "z.B. jeder Messverstärker, der eine Amplitude eines Messsignals für die Anzeige vorbereitet\n",
    "Amplitude bleibt aber Amplitude\n",
    "Wandlung der physik. Größe:\n",
    "Meistens der Fall, da die wenigsten Größen in der Natur direkt messbar sind\n",
    "Selbst die elektrische Spannung muss irgendwie angezeigt werden:\n",
    "Amplitude könnte z.B. über einen Zeigerausschlag transformiert werden:\n",
    "Elektroskop: gleichnamige Ladungen stoßen sich ab: F = q*E (q: Ladung, E: Feldstärke) -> Elektrostatik \n",
    "Kann Ladungen messen\n",
    "Da das Elektroskop jedoch auch einen Kondensator darstellt (zwei voneinander isolierte Elektroden) und 𝑄=𝐶⋅𝑈 -> Spannungen messbar\n",
    "Für die Temperatur z.B. einen temperaturabhängigen Widerstand benutzen, der einen Spannungsabfall erzeugt, usw.\n",
    "Radiowellen: 300 Millionen Schwingungen pro Sekunde ! Mittel-, Kurz und Ultrakurzwellen. Elektromagnetische Welle mit Wellenlängen von über 1m\n",
    "Radiowellen werden durch unsere Ionosphäre reflektiert: in 100km Höhe, 300km dick: Strahlung aus dem Weltall sorgt dafür dass Elektronen aus Atomen gelöst werden -> postiv geladene Atomreste bilden zusammen mit e- einen Spiegel für Radiowellen \n",
    "Radiowellen mit Frequenzen unter 30 MHz können von der Ionosphäre vollständig reflektiert werden. Einige Telekommunikations- und Radarsysteme nutzen die reflektierenden Eigenschaften der Ionosphäre für Radiowellen unterhalb von etwa 30 MHz zur Überbrückung großer Entfernungen.\n",
    "Radiowellen mit Frequenzen oberhalb von 30 MHz können die Ionosphäre durchdringen, so dass eine Kommunikation mit Satelliten möglich wird. \n",
    "Radiowellen regen e- zum Schwingen an -> Dipolstrahler: Strahlen mit einer Phasenverschiebung gleiche Frequenz wieder aus: Brechung weg vom Lot (Ionosphäre ist optisch dünneres Medium)\n",
    "Je steiler der Einfall (oder je höher die Frequenz), umso tiefer dringt die Radiowelle in die ionisierte Schicht ein.\n",
    " Selbst im GHz-Bereich macht sich ein Brechungseinfluss noch störend bemerkbar, siehe Messfehler bei der Satellitennavigation.\n",
    " \n",
    "<div>\n",
    "<img src=\"pictures/messsignal_wandlung.png\" width=\"500\"/>\n",
    "</div> "
   ]
  },
  {
   "cell_type": "markdown",
   "metadata": {},
   "source": [
    "***\n",
    "## Wo steckt die Information? <a id=\"Sec-Information\"></a>\n",
    "\n",
    "Oft wird der Informationsparameter Amplitude in Frequenz gewandelt:\n",
    "Grund hierfür ist die große Unempfindlichkeit der Frequenz eines Messsignals gegenüber Störeinflüssen\n",
    "Lassen sich auch einfacher digitalisieren -> mittels Triggereinchtung Pulse des Signals mit der äquivalenten Pulsfolgefrequenz ableiten -> über definierte Zeit auszählen \n",
    "Signale mit Frequenz generieren:\n",
    "Sinus mit konst. Amplitude und konst. f: Trägerschwingung\n",
    "Dieser Sinus wird nun durch die Messgröße beeinflusst:\n",
    "In Amplitude\n",
    "In Frequenz\n",
    "In Phase\n",
    "Signal bekommt man durch eine Demodulator zurück\n",
    "AM: Niederfrequente Nutzsignale wie Sprache oder Musik können häufig nicht direkt über gewünschte Übertragungsmedien wie beispielsweise einen Funkkanal übertragen werden. Zur Übertragung muss das Nutzsignal in einen anderen Frequenzbereich verschoben werden, was beispielsweise durch AM bewerkstelligt werden kann. Durch das Verschieben können auch mehrere Nutzsignale gleichzeitig und ohne gegenseitige Störung übertragen werden.\n",
    "Vom heutigen Stand der Technik betrachtet ist AM überholt, weil die Qualitätsansprüche gestiegen sind und mit modernen Bauelementen FM-Geräte erheblich einfacher, billiger und leistungssparender gebaut werden können.\n",
    "FM: höherer Dynamikumfang des Informationssignals, weniger anfällig gegenüber Störungen\n",
    "Puls als Träger: nächste Seite\n",
    "frequenzanalogen (und digitalen Signale siehe nähcste Seite) für die Übertragung von Messinformationen vorteilhaft:\n",
    "Nur hier informationsverlustfreie Messsignalübertragung möglich\n",
    "bzw. die Informationsverluste sind mathematisch berechenbar: Abweichung infolge der Quantisierung.\n",
    "<div>\n",
    "<img src=\"pictures/messsignale_info_1.png\" width=\"500\"/>\n",
    "</div> \n",
    "\n",
    "Signale mit Frequenz generieren:\n",
    "Rechteckpulsfolge als Trägerschwingung\n",
    "Pulscode-Modulation: Besonderheit\n",
    "Messsignal ist in Folge von Impulsgruppen: Kodierung entsprechend eines Alphabets\n",
    "Pulsdauer und Pulscode Modulation direkt im PC, d.h. ohne ADU, verarbeitbar\n",
    "<div>\n",
    "<img src=\"pictures/messsignale_info_2.png\" width=\"500\"/>\n",
    "</div> \n"
   ]
  },
  {
   "cell_type": "markdown",
   "metadata": {},
   "source": [
    "***\n",
    "## Klassifizierung von Messsignalen <a id=\"Sec-Klassifizierung_von_Messsignalen\"></a>\n",
    "\n",
    "in moderner MT häufig elektrische Signale, aber auch mechanische, pneumatische, hydraulische möglich (gerade bei technischen Regeleinrichtungen)\n",
    "Diese Beschreibung noch keine ausreichende Charakterisierung\n",
    "Signale nach Wertevorrat eines oder mehrerer Informationsparameter (analog oder diskret) unterscheiden\n",
    "Und Signale nach zeitlichem Auftreten (kontinuierlich, diskontinuierlich) unterscheiden\n",
    "(Tabelle):\n",
    "Oft kommt noch eine weitere Signalart hinzu: stochastisch, Rauschen\n",
    "Werte sind hierbei zufallsbehaftet\n",
    "Erst bei großer Anzahl von Ereignissen können gesicherte Aussagen über Qualität geliefert werden (-> Statistik)\n",
    "Determinierte Signale hingehen liefern zu jedem betrachteten Zeitpunkt feste Zusammenhänge zwischen den zu analysierenden und den erhaltenen Messwerten\n",
    "In allen technischen Aufbauten gilt eigtl Determiniertheit: überall deterministische Signale vorhanden.\n",
    "Diskret lässt sich zudem in \n",
    "Digital spezifizieren -> diskrete Werte zu einem vereinbarten Alphabet zugeordnet\n",
    "Binär -> Informationsparameter kann nur noch zwei Werte annehmen\n",
    "Bild zeigt: mögliche Kombination bzgl. Des Wertevorrats ihres Informationsparameters und dessen zeitlicher Verfügbarkeit \n",
    "Diskontinuierliche Systeme enthalten dagegen mindestens ein zeitlich diskret arbeitendes Element.\n",
    "= getastete Systemen\n",
    " Informationen bezüglich der Messgröße gehen verloren.\n",
    "Beispiel zeitdiskret: Wert einer wertkontinuierlichen Größe, die jeden Tag zu einer bestimmten Uhrzeit durchgeführt wird. Die Messgröße ist kontinuierlich, aber sie ist zwischen den einzelnen Messzeitpunkten nicht bekannt.\n",
    "wertediskretes und zeitkontinuierliches: Lagerbestand eines Bauteils. Es können nur ganze Bauelemente dem Lager entnommen werden, sodass der Lagerbestand wertediskret ist. Es ist aber zu jedem Zeitpunkt bekannt, wie viele Bauelemente eines bestimmten Typs vorhanden sind. Das Signal ist zeitkontinuierlich.\n",
    "Analog kontinuierlich: Manometer am Druckkessel, Aufgesetzte Messuhr (Wärmeausdehnung), Analoge Spannungs- oder Strommessung\n",
    "Diskret kontinuierlich: Geiger-Müller-Zählrohr, Alle digitalen Multimeter\n",
    "\n",
    "<div>\n",
    "<img src=\"pictures/messsignal_analog_diskret.png\" width=\"500\"/>\n",
    "</div> "
   ]
  },
  {
   "cell_type": "markdown",
   "metadata": {},
   "source": [
    "***\n",
    "## Nyquist-Shannon-Abtasttheorem (Aliasing) <a id=\"Sec-Nyquist-Shannon-Abtasttheorem\"></a>\n",
    "\n",
    "Bei der Abtastung werden nur die Signalwerte zu diskreten Zeitpunkten erfasst, d. h. die Signalwerte zwischen den Zeitpunkten gehen verloren. \n",
    "Unter bestimmten Voraussetzungen, die im Abtasttheorem festgelegt sind, kann man die Signalwerte zwischen den festen Abtastzeitpunkten wieder vollständig rekonstruieren \n",
    "Nur in diesem Fall entstehen durch die Abtastung keine Signalfehler\n",
    "Sinus muss in einer Periode 2x abgetastet werden\n",
    "Auch anwendbar auch bliebig periodische Signale: hierbei größte vorkommende f betrachten\n",
    "Rechteckpuls oder Einzelpuls mit unendlich großer Anstiegsgeschwindigkeit: f bis ins unendliche -> Informationsverlust! (ADW ist niemals beliebig schnell, geht also gar nicht)\n",
    "andersherum: ich habe einen ADW mit bestimmter f_ab -> kann bestimmen, welche Signale ich noch „richtig“ darstellen kann.\n",
    "MT: unbedingt vermeiden, dass Frequenzen mit höheren f als der zulässigen f in den ADW gelangen\n",
    "Sonst Aliasing Effekt: Mehrdeutigkeit des gewonnen Ausgangssignals\n",
    "Kurve hat zu große Abtastzeit:\n",
    "Kurve wird mit nicht mehr als 2 Abtastenden pro Periode abgetastet: ursprüngliche Verlauf nicht reproduzierbar\n",
    "Rekonstruktion führt zu einem anderen Kurvenverlauf -> ohne Rückschlüsse auf den wahren Verlauf\n",
    "Anti-Aliasing Filter benutzen: steilflankiger TP Filter, der Signale > f_ab / 2 rausfiltert\n",
    "Sehr sorgfältige dimensionieren:\n",
    "Signal nicht in seinem Frequenzverlauf beeinflussen \n",
    "Ausreichende Unterdrückung bei hohen Frequenzen\n",
    "Bild:\n",
    "2,6 / Periode\t1,4 / Periode\n",
    "2 / Periode\t0,8 / Periode\n",
    "\n",
    "<div>\n",
    "<img src=\"pictures/aliasing.png\" width=\"500\"/>\n",
    "</div> \n"
   ]
  },
  {
   "cell_type": "markdown",
   "metadata": {},
   "source": [
    "***\n",
    "## Zusammenfassung\n",
    "<a id=\"Sec-Zusammenfassung\"></a>\n",
    "\n",
    "| Begriff | Definition | \n",
    "| --- | --- |\n",
    "Messsignal | Träger der Information von physikalischen Größen: Messinformation die von der Messgröße ermittelt wurde\n",
    "(zeit-) kontinuierlich | Messwert besitzt zu jedem Zeitpunkt einen bestimmten Wert\n",
    "wertkontinuierlich / analog | Ein Signal mit einem unendlichen Wertevorrat für die Messwerte\n",
    "zeitdiskret / diskontinuierlich | Messwerte sind nur zu bestimmten Zeitpunkten definiert\n",
    "wertdiskret / amplitudendiskret | Ein Signal mit einem endlichen Wertevorrat für die Messwerte\n",
    "Digital | Signale, die sowohl zeit-, als auch wertdiskret sind\n",
    "Deterministisch | Größe / Informationsparameter ist zu jedem Zeitpunkt eindeutig definiert\n",
    "Stochastisch | Größe unterliegt zufälligen Einflüssen. Eine Wertezuordnung ist nur über längere Betrachtung und statistischer Analyse möglich (Rauschen beispielsweise)\n",
    "Modulation | Informationssignal verändert ein Trägersignal in Amplitude, Frequenz oder Phase\n",
    "Demodulation | Einrichtung zur Rückgewinnung des Modulationssignals (Messinformation)\n",
    "Analog-Digital-Wandlung | Abbildung eines analogen Wertevorrats auf einen endlichen\n",
    "Aliasing | Möglicher Fehler bei der Digitalisierung bei Verletzung Nyquist-Shannon. Durch Aliasing kann ursprüngliche analoge Zeitfunktion nicht mehr rekonstruiert werden."
   ]
  },
  {
   "cell_type": "code",
   "execution_count": null,
   "metadata": {},
   "outputs": [],
   "source": []
  }
 ],
 "metadata": {
  "kernelspec": {
   "display_name": "Python 3",
   "language": "python",
   "name": "python3"
  },
  "language_info": {
   "codemirror_mode": {
    "name": "ipython",
    "version": 3
   },
   "file_extension": ".py",
   "mimetype": "text/x-python",
   "name": "python",
   "nbconvert_exporter": "python",
   "pygments_lexer": "ipython3",
   "version": "3.8.5"
  }
 },
 "nbformat": 4,
 "nbformat_minor": 4
}
