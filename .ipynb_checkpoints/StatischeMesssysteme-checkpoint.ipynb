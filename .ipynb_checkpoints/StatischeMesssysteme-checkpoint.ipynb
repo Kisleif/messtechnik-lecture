{
 "cells": [
  {
   "cell_type": "markdown",
   "metadata": {},
   "source": [
    "---\n",
    "Zurück zur Übersicht | [Inhalt](00_Inhalt.ipynb)\n",
    "\n",
    "---"
   ]
  },
  {
   "cell_type": "code",
   "execution_count": 13,
   "metadata": {},
   "outputs": [],
   "source": [
    "# Für diese Notebook benötigte Pakete:\n",
    "import numpy as np"
   ]
  },
  {
   "cell_type": "markdown",
   "metadata": {},
   "source": [
    "# Statische Messsysteme"
   ]
  },
  {
   "cell_type": "markdown",
   "metadata": {},
   "source": [
    "Wir benutzen Messsysteme, um eine Messgröße in einen Messwert umzuführen. Hierbei werden wir den realen, echten Wert der Messgröße jedoch nie erfahren (Daher befassen wir uns im folgenden Kapitel mit den Messabweichungen). \n",
    "Ein Messwert kann direkt vom Messgerät angezeigt werden, beispielsweise über ein Display, oder er steht als Datenwert in analoger oder digitaler Form zur Verfügung, welcher mit entsprechenden Geräten oder Algorithmen weiterverarbeitet werden muss. \n",
    "\n",
    "In diesem Kapitel wollen wir uns mit den Begrifflichkeiten und Kenngrößen eines Messsystems befassen. Hierbei nehmen wir vorerst an, dass sich die Messwerte über die Zeit während des Messprozesses nicht ändern. Diese Art von Messsystemen werden *statische Messsysteme* genannt. "
   ]
  },
  {
   "cell_type": "markdown",
   "metadata": {},
   "source": [
    "## Inhalt\n",
    "***\n",
    "\n",
    "### [Grundstruktur](#Sec-Grundstruktur)\n",
    "\n",
    "### [Kennlinie](#Sec-Kennlinie)\n",
    "* [Statische Kenngrößen](#SubSec-Statische_Kenngrößen)\n",
    "* [Beispiel](#SubSec-Beispiel)\n",
    "* [Wunder an Empfindlichkeit: LIGO](#SubSec-Wunder_an_Empfindlichkeit)\n",
    "* [Gesamtkennlinie](#SubSec-Gesamtkennlinie)\n",
    "* [Herabsetzen des Messbereichs](#SubSec-Herabsetzen_des_Messbereichs)\n",
    "\n",
    "### [Reale Kennlinienfunktion: Übergang zu Messabweichungen](#Sec-Reale_Kennlinienfunktion)\n",
    "* [Kennlinienfehler](#SubSec-Kennlinienfehler)\n",
    "\n",
    "***"
   ]
  },
  {
   "cell_type": "markdown",
   "metadata": {},
   "source": [
    "## Grundstruktur \n",
    "<a id=\"Sec-Grundstruktur\"></a>\n",
    "\n",
    "Die generelle Struktur eines Messsystems kann wiefolgt dargestellt werden:\n",
    "\n",
    "![image.png](pictures/grundstruktur.png)\n",
    "\n",
    "Dies ist einer der ersten Messketten, die wir kennenlernen. Allgemein findet man immer wieder die gleichen Komponenten in solchen Ketten, die im folgenden aufgelistet werden:\n",
    "\n",
    "* **Aufnehmer/Sensor** (auch Messgrößenaufnehmer genannt): Die Erfassung der physikalischen Messgröße, $u$, wird mit einem entsprechend geeigneten *Sensor* realisiert. Mit konkreten Sensoren werden wir uns noch am Ende der Vorlesung genauer beschäftigen. Einige Beispiele werden uns aber während der kompletten Veranstaltung immer mal wieder begneten. Ein Sensor nimmt eine Messgröße auf, z.B. die Umbegungstemperatur, wandelt diese beispielsweise in eine Widerstandänderung um, welche wiederum in ein weiterverarbeitungsfähigen Signals (hier elektrisch) mit einer geeigneten Schaltung umgewandelt wird. \n",
    "* **Verstärkung**: An dieser Stelle startet die Messsignalverarbeitung. Da das elektrische Primärsignal mitunter sehr  klein sein kann, muss es deshalb vielleicht noch verstärkt werden, bevor es einer Digitalisierung zugeführt werden kann.\n",
    "* **Anpassung** (optional): Die meist elektrische Größe wird in einen darstellbaren Messwert umgewandelt. Hierfür werden Messschaltungen mit Messverstärken oder Computern verwendet.\n",
    "* **Messwertausgabe** (diverse): Anzeige, Registrierung, Speicherung, Dokumentation in analoger oder digitaler Form können an dieser Stelle in die Messkette implementiert werden.\n",
    "* **Digitalisierung**: Dies ist die häufigste Art der *Messwertausgabe*. Das analog vorliegende elektrische Signal wird in ein Digitalwort umgewandelt. \n",
    "* **Digitale Signelverarbeitung**: Durch Algorithmik wird der Messwert digital weiterverarbeitet. Häufig können an dieser Stelle auch Korrekturen vorgenommen werden, um beispielsweise Kennenlinienfehler zu minimieren und zu korrigieren. Dies werden wir gleich noch genauer betrachten. Ausgegeben wird schließlich ein Messwert $y$."
   ]
  },
  {
   "cell_type": "markdown",
   "metadata": {},
   "source": [
    "## Kennlinie\n",
    "<a id=\"Sec-Kennlinie\"></a>\n",
    "\n",
    "Jede einzelne der Komponenten führt die an ihr anliegenden Eingangssignal in Ausgangssignale über. Wie diese Überführung genau aussieht beschreibt die sogenannte **Kennlinie**, die für jede Komponente unterschiedlich aussehen kann. Im folgenden Bild ist beispielshaft eine lineare Kennlinie dargestellt:\n",
    "\n",
    "![image.png](pictures/kennlinie.png)"
   ]
  },
  {
   "cell_type": "markdown",
   "metadata": {},
   "source": [
    "### Statische Kenngrößen\n",
    "<a id=\"SubSec-Statische_Kenngrößen\"></a>\n",
    "\n",
    "Für jede Eingangsgröße $u$ wird anhand der Kennlinie eine Ausgangsgröße $y$ definiert. Beispielsweise wird anhand der Kennlinie eine Temperatursensors ein bestimmter Temperaturwert in eine Spannung umgewandelt. \n",
    "\n",
    "* Der Bereich, indem der Sensor beispielsweise noch korrekt arbeitet (meist vom Hersteller garantiert) wird **Messbereich (engl. range)** genannt und wird durch den minimal und maximal möglichen Wert, der noch als Eingang angelegt werden kann oder darf, angegeben. Im Falle eines Temperatursensors wäre ein typische Messbereich z.B. -40°C bis 120°C. \n",
    "* Die Differenz zwischen diesen Maximal- und Minimalwert nennt man **Spanne (engl. span)** (bezogen auf unser Beispiel also 160°C). \n",
    "* Die Spanne ist mit einem Bereich auf der y-Achse korreliert, nämlich dem sogenannten **Vollbereichssignal (engl. full scale output = FSO)**.\n",
    "* Der **Übertragungsfaktor $k$** oder auch oft *Verstärkung* genannt beschreibt die Überführung des Eingangssignals der Messeinrichtung, also der Messgröße, in ein Ausgangssignal:\n",
    "\n",
    "$$y = k \\cdot u$$\n",
    "\n",
    "* Die **Statische Kennlinie** ist im Prinzip der *Übertragungsfaktor*, aber dieses Mal definiert für alle möglichen Eingangssignale.\n",
    "\n",
    "$$y(u) = k \\cdot u$$\n",
    "\n",
    "Die Kennlinie sollte immer eine gewisse Steigung aufweisen. Oder man könnte auch sagen, dass wenn sich die Eingangsgröße $u$ ändert, dass dies auch immer eine Änderung in der Ausgangsgröße $y$ mit sich ziehen sollte. Im Falle einer Verstärkungseinheit könnte diese Änderung sogar vergrößert werden und das System reagiert somit *empfindlicher* auf Änderungen der Eingangsgröße. Mathematisch betrachtet bedeutet die Steilheit nichts anderes als die Steigung bzw. die Ableitung der Ausgangsgröße $y(u)$ an einer bestimmten Stelle $u$:\n",
    "\n",
    "$$S(u_w) = \\frac{\\partial y(u_w)}{\\partial u_w} = \\frac{\\partial f(u_w)}{\\partial u_w}$$\n",
    "\n",
    "Dies wird auch die Empfindlichkeit $S(u)$ genannt und entspricht der Tangente im Punkt $u_w$.\n",
    "\n"
   ]
  },
  {
   "cell_type": "markdown",
   "metadata": {},
   "source": [
    "### Beispiel\n",
    "<a id=\"SubSec-Beispiel\"></a>\n",
    "\n",
    "Reine Metalle sind **Kaltleiter**. Platin hat beispielsweise einen Widerstandswert von R0 = R(0) = 100 Ohm bei 0 °C, daher der Name PT100. Sie können bei geeigneter Ausrüstung bis 850 °C eingesetzt werden. Sie haben eine fast lineare Kennlinie bei einer relativen Widerstandsänderung von knapp 0,4 % pro °C:\n",
    "\n",
    "$$R(T) = R_0 \\cdot (1 + AT + BT^2)$$\n",
    "\n",
    "Folgende Parameter gelten für bestimmte Temperaturbereiche:\n",
    "* 0-850°C: A= 3,9e-3/°C, B=-5,7e-7/°C$^2$\n",
    "* -200-0°C: C = -4,2e-1/°C$^4$\n",
    "\n",
    "Thermistoren mit negativen Temperaturkoeffizienten (NTC = Negative thermal coefficient , Heißleiter) weisen aufgrund des zugrundeliegenden Halbleiter-Effektes eine hohe Abhängigkeit von Fehlstellen, wie der Dotierung der Grundstoffe auf. \n",
    "**Heißleiter** sind bis etwa 150 °C einsetzbar. \n",
    "Sie weisen gegenüber Platin-Messwiderständen eine deutlich höhere Empfindlichkeit auf:\n",
    "\n",
    "$$ R(T)=R_{25} \\cdot \\mathrm e^{B\\left(\\frac{1}{T+273}-\\frac{1}{298}\\right)}$$\n",
    "\n",
    "mit R25 = 1000 Ohm und B = 3528.\n",
    "\n",
    "Ein Transition Edge Sensor (TES), bzw. auf deutsch Phasenübergangsthermometer, ist ein supraleitender Temperatursensor, der in der Lage ist, kleinste Temperaturänderungen im Bereich von wenigen 100 $\\mu\\mathrm K$ zu messen. Seine Umgebungstemperatur wird je nach Material auf wenige mK runtergekühlt, um das Material in einen supraleitenden Zustand (d.h. sein Widerstand verschwindet) zu bringen. Dies ist die sogenannte kritische Temperatur, $T_c$, aber der Materiale supraleitende Eigenschaften aufweisen. Die Widerstand wird über Anlegen einer Stromstärke minimal aufgeheizt, sodass sein Arbeitspunkt in den Übergang (die steile Flanke) geschoben wird. An diesem Punkt ist die Ableitung, und somit die Empfindlichkeit, maximal. \n",
    "\n",
    "$$ R(T)= \\frac{a}{1 + \\mathrm e^{-k(T-T_c)}} $$\n",
    "\n",
    "mit z.B. $k$ = 1.86/mK, $a$ = 0.224 Ohm und $T_c$ = 103.2 mK"
   ]
  },
  {
   "cell_type": "markdown",
   "metadata": {},
   "source": [
    "![image.png](pictures/bsp_kennlinie.png)"
   ]
  },
  {
   "cell_type": "markdown",
   "metadata": {},
   "source": [
    "### Wunder an Empfindlichkeit\n",
    "<a id=\"SubSec-Wunder_an_Empfindlichkeit\"></a>\n",
    "\n",
    "LIGO (Laser Interferometer Gravitational-Wave Observatory) ist ein Gravitationswellendetektor. Mit diesem experimentellen Aufbau werden kleinste Strörungen in der Raumzeit, so genannten Gravitationswellen, gemessen, welche damals von Albert Einstein innerhalb seiner allgemeinen Relativitätstheorie vorhergesagt wurden. Gravitationswellen entstehen, wenn sich sehr schwere Massen in der Raumzeit bewegen, wie z.B. zwei schwarze Löcher oder Neutronensterne, die umeinander kreisen. Die direkt Nachweis von Gravitationswellen wird durch wie wirklich verschwindend kleinen Effekte der Wellen auf den Detektor erheblich erschwert. Die Amplitude einer Gravitationswelle ist zudem umgekehrt proportional zur Entfernung der Quelle. Dadurch klingen sogar Wellen, welche von Extremsystemen wie das von zwei verschmelzenden schwarzen Löchern, auf dem Weg zur Erde zu einer kleinen Amplitude ab. \n",
    "\n",
    "LIGO, VIRGO und KAGRA sind ultra-empfindliche Detektoren und nutzen Laserinterferometrie, um die Bewegung von *freien* Massen zu messen, die durch eben diese Gravitationswellen in der Raumzeit ausgelöst wurde. \n",
    "Mit Laserinterferometern werden wir uns später noch genauer befassen. \n",
    "Es hilft auf jeden Fall, das Interferometer so groß wie möglich zu machen. Die *Arme* des Interferometers sind mehrere Kilometer lang (LIGO z.B. 4 km). Die stärkste Gravitationswelle hat diese Armlänge um ca. 10$^{-19}$m geändert. \n",
    "Das bedeutet eine relative Längenänderung von lediglich:\n",
    "\n",
    "$$h = \\frac{dL}{L} = 2,5\\cdot 10^{−23}$$"
   ]
  },
  {
   "cell_type": "code",
   "execution_count": 14,
   "metadata": {},
   "outputs": [
    {
     "name": "stdout",
     "output_type": "stream",
     "text": [
      "relative Armlängenänderung bei einer Gravitationswelle:  2.4999999999999998e-23\n"
     ]
    }
   ],
   "source": [
    "L = 4000 # Armlänge in m\n",
    "dL = 1e-19 # Spiegelbewegung in m\n",
    "h = dL / L\n",
    "print('relative Armlängenänderung bei einer Gravitationswelle: ', h)"
   ]
  },
  {
   "cell_type": "markdown",
   "metadata": {},
   "source": [
    "Nimmt man den Abstand von Erde und Sonne (150 000 000 km), würde sich dieser beim Einfall einer Gravitationswellen um weniger als einen Atomdurchmesser ändern:"
   ]
  },
  {
   "cell_type": "code",
   "execution_count": 15,
   "metadata": {},
   "outputs": [
    {
     "name": "stdout",
     "output_type": "stream",
     "text": [
      "Abstandsänderung Erde-Sonne verursacht durch Gravitationswellen:  3.75e-12  =  3.75 pm\n"
     ]
    }
   ],
   "source": [
    "d_Erde_Sonne = 150e9 # Abstand Erde Sonne in m\n",
    "dL_Erde_Sonne = d_Erde_Sonne * h\n",
    "print('Abstandsänderung Erde-Sonne verursacht durch Gravitationswellen: ',dL_Erde_Sonne, ' = ',dL_Erde_Sonne*1e12, 'pm' )"
   ]
  },
  {
   "cell_type": "markdown",
   "metadata": {},
   "source": [
    "Die Größe eines Atoms beträgt um die 100 pm = 1 A (Angstrom = 10 $^{-10}$). "
   ]
  },
  {
   "cell_type": "markdown",
   "metadata": {},
   "source": [
    "Rechts im nachfolgenden Bild ist die Empfindlichkeitskurve eines Laserinterferometers gegeben. Die Phasenverschiebung ist ein Maß für die Verschiebung der Spiegel. Phase kann über die Wellenlänge in eine Längenänderung umgerechnet werden. Das werden wir später noch mal genauer betrachten ($2\\pi \\hat = \\lambda =$ 1064nm). \n",
    "* Ein klassisches Laserinterferometer überlagert zwei elektromagnetische Wellen und produziert ein sinusförmiges Intensitätsprofil im Ausgangsbereich (blaue Kurve). Die maximale Empfindlichkeit für Gravitationswellen (oder Spiegelbewegungen) wird an den Umkehrpunkten erreicht. An den Extrempunkten erhält man für kleine Spiegelbewegungen gar kein Ausgangssignal.\n",
    "* Gravitationswellendetektoren benutzen in ihren Interferometerarmen zusätzliche Spiegel, um optische Resonatoren einzubauen. Optische Resonatoren *speichern* das Licht in den Armen, d.h. es hin und her reflektiert, bis es am Ende das Interferometer wieder verlässt. Dadurch verlängert sich künstlich die Armlänge (von 4km). Das Interferometer wird empfindlicher, da Spiegelbewegungen aufaddiert werden. Im Abhängigkeit von der *Güte* des optischen Resonators können sehr starke Überhöhungen erreicht werden (lila und rote Kurve im Diagramm). Eine kleine Änderung der Spiegelbewegung verursacht nun eine drastische Änderung im Ausgangssignal. Dadurch werden kleine Signal stark überhöht und deutlich messbar. Um dies jedoch in der Praxis zu erreichen, muss das Interferometer an sich extrem stabil und robust sein, sodass Erdbeben oder der Hase, der über das Feld hoppelt, keine Messsignale verursachen. \n",
    "\n",
    "![image.png](pictures/LIGO_kennlinie.png)"
   ]
  },
  {
   "cell_type": "markdown",
   "metadata": {},
   "source": [
    "### Gesamtkennlinie\n",
    "<a id=\"SubSec-Gesamtkennlinie\"></a>\n",
    "\n",
    "Nachdem wir uns einige Beispiele von Kennlinien, also Empfindlichkeitskurven, angesehen haben, können wir diese natürlich auch hintereinander schalten. Dies ist insbesondere wichtig, da Messsysteme eigentlich immer aus mehreren Komponenten bestehen, wie wir am Anfang des Kapitels in der *Grundstruktur* bereits gesehen haben. \n",
    "Jede einzelner Komponenten hat ihre eigene Kennlinie und wandelt eine Eingangsgröße in eine Ausgangsgröße um. \n",
    "Diese Kennlinien werden nun hintereinander geschaltet, sodass daraus eine Kennlinie resultiert, die das gesamte Messsystem beschreibt. Die einzelnen Kennlinien werden hierfür einfach aneinander *multipliziert*.\n",
    "\n",
    "![image.png](pictures/gesamtkennlinie.png)"
   ]
  },
  {
   "cell_type": "markdown",
   "metadata": {},
   "source": [
    "Optimalerweise möchte man erreichen, dass die Gesamtkennlinie eines System über einen möglichst großen Eingangsbereich für $u$ linear ist, d.h. dass die einer Geraden entspricht. Dafür müssen die individuellen Kennlinien der Komponenten nicht zwangsläufig alle linear sein, sondern können sich am Ende kompensieren. Dies ist die große Kunst des Herstellenes von Messsystemen. \n",
    "\n",
    "Nun hängt allerdings der Verlauf einer Kennlinie nicht nur von der Herstellung ab, sondern auch von (äußeren) Einflusseffekten während des Messprozesses. \n",
    "Es hängt folglich immer von der Herstellung *und* Anwendung eines Messsystems ab, wie genau man wirklich messen kann. \n",
    "Womit wir beim einem anderen Aspekt unserer Betrachtungen wären, den *Messabweichungen*, die im nächsten Jupyter Notebook erläutert werden. "
   ]
  },
  {
   "cell_type": "markdown",
   "metadata": {},
   "source": [
    "### Herabsetzen des Messbereichs\n",
    "<a id=\"SubSec-Herabsetzen_des_Messbereichs\"></a>\n",
    "\n",
    "Beispiels: ein Dehnungsmessstreifen ist nur für kleine Ausrenkungen linear, das heißt er zeigt ein stark nicht-lineares Verhalten wenn über 1mm ausgelenkt wird\n",
    "Trick: Benutze eine Blattfeder, um große Auslenkungen auf kleine Auslenkungen zu projizieren\n",
    "Dann Dehnungmessstreifen\n",
    "Dann wieder Verstärken nicht vergessen, damit Messgröße unverändert ist: S0*S1\n",
    "\n",
    "![image.png](pictures/messbereich.png)"
   ]
  },
  {
   "cell_type": "markdown",
   "metadata": {},
   "source": [
    "## Reale Kennlinienfunktion: Übergang zu Messabweichungen\n",
    "<a id=\"Sec-Reale_Kennlinienfunktion\"></a>\n",
    "\n",
    "Verlauf einer Kennlinie aber nicht nur von der Herstellung ab, sondern auch von Einflusseffekten während des Messprozesses. \n",
    "Es hängt folglich immer von der Herstellung und Anwendung eines Messsystems ab, wie genau man wirklich messen kann. \n",
    "Womit wir beim nächsten Aspekt unserer Betrachtungen wären, den Messabweichungen.“\n",
    "Bild: deale Kennlinie eines Messsystems sowie eine reale Kennlinie\n",
    "Zu jeder Messgröße existiert eine Messabweichung\n",
    "In der bereits zitierten einschlägigen deutschen Norm DIN 1319 wurde die früher hierfür enthaltene Bezeichnung „Fehler“ bereits vor längerer Zeit durch „Abweichung“ ersetzt. Der Grund liegt darin, dass im üblichen Sprachgebrauch unter einem „Fehler“ eine Fehlfunktion eines technischen Systems verstanden wird, was hier jedoch nicht gemeint ist.\n",
    "für eine Messeinrichtung mit linearer Kennlinie sind demzufolge Empfindlichkeit E und Übertragungsfunktion k identisch.\n",
    "Messbereich von −40 ... +120 °C und einen Messwert von +20 °C annehmen:\n",
    "absolute Messabweichung: ±0,5 °C\n",
    "relative Messabweichung, bezogen auf den Messwert: ±2,5 %\n",
    "relative Messabweichung, bezogen auf die Spanne: ≈ ±0,3 %\n",
    "relative Messabweichung, bezogen auf den Messbereichsendwert: ≈ ±0,4 %“\n",
    "Die Angabe einer relativen Messabweichung ohne Hinweis, welcher Referenzwert benutzt wurde, ist wertlos. Die sich jeweils ergebenden Prozentzahlen können bei ein und demselben Absolutwert in einer sehr unterschiedlichen Größenordnung liegen\n",
    "Bild: deale Kennlinie eines Messsystems sowie eine reale Kennlinie\n",
    "Zu jeder Messgröße existiert eine Messabweichung\n",
    "\n",
    "![image.png](pictures/reale_kennlinie.png)"
   ]
  },
  {
   "cell_type": "markdown",
   "metadata": {},
   "source": [
    "### Kennlinienfehler\n",
    "<a id=\"SubSec-Kennlinienfehler\"></a>\n",
    "\n",
    "vier elementare Auswirkungen auf den grundsätzlichen Kennlinienverlauf durch Einflusseffekte\n",
    "Es hängt dabei sehr stark von der konkreten Situation ab, ob ein einzelner Einflusseffekt sich primär in nur einer Art der Kennlinienabweichung zeigt oder in mehreren. \n",
    "Auch wirken derartige Einflusseffekte meist auf jede einzelne Komponente eines Messsystems mit ihrer zugehörigen Einzelkennlinie. \n",
    "In der Summe aller Einflusseffekte auf alle Teilkomponenten ergibt sich für ein konkretes Messsystem unter einer definierten Kombination von Störgrößen eine ganz bestimmte reale Kennlinie\n",
    "Nullpunktabweichung: Additiv: absolute Messgeräteabweichung unabhängig von der Aussteuerung einer Messeinrichtung, auch Offset (-fehler):\n",
    "an jeder Stelle des Messbereiches eine Abweichung mit gleichem Betrag und Vorzeichen\n",
    "sowohl durch systematische, als auch durch zufällige Fehlerwirkungen verursacht\n",
    "Die Beschreibung der idealen Übertragungsfunktion: wird durch den additiven Fehler in … verändert.\n",
    "Relativer Fehler steigt für kleine Messwerte -> Messeinrichtungen möglichst groß aussteuern.\n",
    "Multiplikativ: absolute Abweichung der Anzeigegröße ist Funktion ihrer Aussteuerung\n",
    "Technisch wird dieser Fehlertyp auch als Verstärkungsfehler bezeichnet -> unerwünschte Veränderung des Übertragungsfaktors, also der Verstärkung einer Messeinrichtung\n",
    "Das zeigt sich auch an der Veränderung der Übertragungsgleichung der Messeinrichtung: …\n",
    "Auch der multiplikative Fehler kann systematische und zufällige Ursachen besitzen.\n",
    "Laufen immer durch den Nullpunkt und sind eher tolerierbar, auch bei kleinen Aussteuerungen\n",
    "Nichtlineatität: genannte zwei Fehlertypen werden bei realen Messeinrichtungen fast immer gleichzeitig auftreten-> Überlagerung der Kurven\n",
    "Hyterese: bei ansteigender Messgröße eine andere Kennlinie als bei abfallender. \n",
    "Komponente hat gewissermaßen ein Gedächtnis. \n",
    "nicht nur eine Kennlinie, also für den ansteigenden sowie abfallenden Fall, sondern unendlich viele, je nachdem, von welchem Umkehrpunkt aus sich die Messgröße in die jeweils andere Richtung wieder bewegt.\n",
    "oftmals bei mechanischen Sensorkonstruktionen auf (Beispiel: Druckmembran in einem Drucksensor) oder wenn magnetische Werkstoffe verbaut sind. In reinen Analogelektroniken ist die Hysterese meist nicht relevant bzw. eher relativ gering ausgeprägt. \n",
    "digitale Signalverarbeitung ist davon verschont -> aber Kompensation hiermit möglich\n",
    "Bild: deale Kennlinie eines Messsystems sowie eine reale Kennlinie\n",
    "Zu jeder Messgröße existiert eine Messabweichung\n",
    "\n",
    "![image.png](pictures/kennlinienfehler.png)"
   ]
  },
  {
   "cell_type": "code",
   "execution_count": null,
   "metadata": {},
   "outputs": [],
   "source": []
  }
 ],
 "metadata": {
  "kernelspec": {
   "display_name": "Python 3",
   "language": "python",
   "name": "python3"
  },
  "language_info": {
   "codemirror_mode": {
    "name": "ipython",
    "version": 3
   },
   "file_extension": ".py",
   "mimetype": "text/x-python",
   "name": "python",
   "nbconvert_exporter": "python",
   "pygments_lexer": "ipython3",
   "version": "3.8.5"
  }
 },
 "nbformat": 4,
 "nbformat_minor": 4
}
