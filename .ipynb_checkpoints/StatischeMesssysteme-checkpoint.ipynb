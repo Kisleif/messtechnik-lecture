{
 "cells": [
  {
   "cell_type": "markdown",
   "metadata": {},
   "source": [
    "---\n",
    "Zurück zur Übersicht | [Inhalt](00_Inhalt.ipynb)\n",
    "\n",
    "---"
   ]
  },
  {
   "cell_type": "code",
   "execution_count": 2,
   "metadata": {},
   "outputs": [],
   "source": [
    "# Für diese Notebook benötigte Pakete:\n",
    "import numpy as np"
   ]
  },
  {
   "cell_type": "markdown",
   "metadata": {},
   "source": [
    "# Statische Messsysteme"
   ]
  },
  {
   "cell_type": "markdown",
   "metadata": {},
   "source": [
    "## Inhalt\n",
    "***\n",
    "\n",
    "### [Grundstruktur](#Sec-Grundstruktur)\n",
    "\n",
    "### [Kennlinie](#Sec-Kennlinie)\n",
    "* [Beispiel](#SubSec-Beispiel)\n",
    "\n",
    "***"
   ]
  },
  {
   "cell_type": "markdown",
   "metadata": {},
   "source": [
    "## Grundstruktur \n",
    "<a id=\"SubSec-Grundstruktur\"></a>\n",
    "\n",
    "![image.png](pictures/grundstruktur.png)"
   ]
  },
  {
   "cell_type": "markdown",
   "metadata": {},
   "source": [
    "## Kennlinie\n",
    "<a id=\"Sec-Kennlinie\"></a>\n",
    "\n",
    "![image.png](pictures/kennlinie.png)"
   ]
  },
  {
   "cell_type": "markdown",
   "metadata": {},
   "source": [
    "### Beispiel\n",
    "<a id=\"SubSec-Beispiel\"></a>\n",
    "\n",
    "![image.png](pictures/bsp_kennlinie.png)"
   ]
  },
  {
   "cell_type": "markdown",
   "metadata": {},
   "source": [
    "### Wunder an Empfindlichkeit\n",
    "<a id=\"SubSec-Wunder_an_Empfindlichkeit\"></a>\n",
    "\n",
    "![image.png](pictures/LIGO_kennlinie.png)"
   ]
  },
  {
   "cell_type": "markdown",
   "metadata": {},
   "source": [
    "### Gesamtkennlinie\n",
    "<a id=\"SubSec-Gesamtkennlinie\"></a>\n",
    "\n",
    "![image.png](pictures/gesamtkennlinie.png)"
   ]
  },
  {
   "cell_type": "markdown",
   "metadata": {},
   "source": [
    "### Herabsetzen des Messbereichs\n",
    "<a id=\"SubSec-Herabsetzen_des_Messbereichs\"></a>\n",
    "\n",
    "![image.png](pictures/messbereich.png)"
   ]
  },
  {
   "cell_type": "markdown",
   "metadata": {},
   "source": [
    "## Reale Kennlinienfunktion\n",
    "<a id=\"Sec-Reale Kennlinienfunktion\"></a>\n",
    "\n",
    "![image.png](pictures/reale_kennlinie.png)"
   ]
  },
  {
   "cell_type": "markdown",
   "metadata": {},
   "source": [
    "### Kennlinienfehler\n",
    "<a id=\"SubSec-Kennlinienfehler\"></a>\n",
    "\n",
    "![image.png](pictures/kennlinienfehler.png)"
   ]
  },
  {
   "cell_type": "code",
   "execution_count": null,
   "metadata": {},
   "outputs": [],
   "source": []
  }
 ],
 "metadata": {
  "kernelspec": {
   "display_name": "Python 3",
   "language": "python",
   "name": "python3"
  },
  "language_info": {
   "codemirror_mode": {
    "name": "ipython",
    "version": 3
   },
   "file_extension": ".py",
   "mimetype": "text/x-python",
   "name": "python",
   "nbconvert_exporter": "python",
   "pygments_lexer": "ipython3",
   "version": "3.8.5"
  }
 },
 "nbformat": 4,
 "nbformat_minor": 4
}
