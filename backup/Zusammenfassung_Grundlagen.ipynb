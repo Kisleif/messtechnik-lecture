{
 "cells": [
  {
   "cell_type": "markdown",
   "metadata": {},
   "source": [
    "---\n",
    "Zurück zur Übersicht | [Inhalt](00_Inhalt.ipynb)\n",
    "\n",
    "---"
   ]
  },
  {
   "cell_type": "markdown",
   "metadata": {},
   "source": [
    "# Grundlagen"
   ]
  },
  {
   "cell_type": "markdown",
   "metadata": {},
   "source": [
    "## Zusammenfassung\n",
    "\n",
    "| Begriff | Definition | \n",
    "| --- | --- |\n",
    "| Messen: | Ermittlung des Messwertes zu einer Messgröße. (Wie oft geht eine Einheit in eine Messgröße hinein?) |\n",
    "| Maßeinheit: | Festgelegter Vergleichswert für eine physikalische Messgröße |\n",
    "| Messwert: | Bei der Messung ermittelter Faktor. Zahlenmäßiges Verhältnis zwischen Einheit und Messgröße |\n",
    "| Messgröße: | Physikalische Größe, die Gegenstand einer Messung ist |\n",
    "| Messignal: | Ein Signal mit dem Messinformationen transportiert werden. |\n",
    "| Dezibel: | Logarithmisches Übertragungsmaß, dessen Zahlenwert mit einer vereinbarten Berechnungsvorschrift ermittelt wird.  |\n",
    "| Kalibrieren: | Untersuchen, ob der Prüfgegenstand bestimmte Bedingungen erfüllt (Entspricht der Messwert eines Messgeräts dem „richtigen“ Wert der Messgröße?) |\n",
    "| Eichen: | Prüfung und Stempelung des Messsystems nach Eichvorschriften (Entspricht der Messwert eines Messgeräts dem „richtigen“ Wert der Messgröße unter staatlicher Hoheit?) |\n",
    "| Justieren: | Einstellen eines Messsystems so, dass der Messwert der Messgröße möglichst gut entspricht |\n",
    "| Normale: | Eine handhabbare Verkörperung einer Maßeinheit |\n",
    "| SI-Einheitensystem: | Vereinbartes System von Maßeinheiten |"
   ]
  }
 ],
 "metadata": {
  "kernelspec": {
   "display_name": "Python 3",
   "language": "python",
   "name": "python3"
  },
  "language_info": {
   "codemirror_mode": {
    "name": "ipython",
    "version": 3
   },
   "file_extension": ".py",
   "mimetype": "text/x-python",
   "name": "python",
   "nbconvert_exporter": "python",
   "pygments_lexer": "ipython3",
   "version": "3.8.5"
  }
 },
 "nbformat": 4,
 "nbformat_minor": 4
}
